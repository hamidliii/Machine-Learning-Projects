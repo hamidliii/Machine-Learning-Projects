{
 "cells": [
  {
   "cell_type": "markdown",
   "metadata": {},
   "source": [
    "# Linear Regression and k-NN classification algorithms"
   ]
  },
  {
   "cell_type": "code",
   "execution_count": 1,
   "metadata": {},
   "outputs": [],
   "source": [
    "# loading all needed libraries\n",
    "import numpy as np\n",
    "import pandas as pd\n",
    "import seaborn as sns\n",
    "import matplotlib.pyplot as plt\n",
    "from datetime import datetime\n",
    "from sklearn import metrics\n",
    "from sklearn.metrics import mean_squared_error as MSE\n",
    "from sklearn.metrics import mean_absolute_error as MAE\n",
    "from sklearn.metrics import r2_score as R2\n",
    "from sklearn.linear_model import LinearRegression\n",
    "from sklearn.neighbors import KNeighborsClassifier\n",
    "from sklearn.model_selection import train_test_split\n",
    "from sklearn.model_selection import GridSearchCV\n"
   ]
  },
  {
   "cell_type": "markdown",
   "metadata": {},
   "source": [
    "### 1. Moore's Law"
   ]
  },
  {
   "cell_type": "code",
   "execution_count": 2,
   "metadata": {},
   "outputs": [],
   "source": [
    "# a script to ignore possible warnings for cleaner code reading\n",
    "import warnings\n",
    "warnings.simplefilter('ignore') "
   ]
  },
  {
   "cell_type": "code",
   "execution_count": 3,
   "metadata": {},
   "outputs": [
    {
     "data": {
      "text/html": [
       "<div>\n",
       "<style scoped>\n",
       "    .dataframe tbody tr th:only-of-type {\n",
       "        vertical-align: middle;\n",
       "    }\n",
       "\n",
       "    .dataframe tbody tr th {\n",
       "        vertical-align: top;\n",
       "    }\n",
       "\n",
       "    .dataframe thead th {\n",
       "        text-align: right;\n",
       "    }\n",
       "</style>\n",
       "<table border=\"1\" class=\"dataframe\">\n",
       "  <thead>\n",
       "    <tr style=\"text-align: right;\">\n",
       "      <th></th>\n",
       "      <th>testID</th>\n",
       "      <th>benchName</th>\n",
       "      <th>base</th>\n",
       "      <th>peak</th>\n",
       "    </tr>\n",
       "  </thead>\n",
       "  <tbody>\n",
       "    <tr>\n",
       "      <th>0</th>\n",
       "      <td>cpu95-19990104-03254</td>\n",
       "      <td>101.tomcatv</td>\n",
       "      <td>19.40</td>\n",
       "      <td>27.1</td>\n",
       "    </tr>\n",
       "    <tr>\n",
       "      <th>1</th>\n",
       "      <td>cpu95-19990104-03254</td>\n",
       "      <td>102.swim</td>\n",
       "      <td>27.20</td>\n",
       "      <td>34.8</td>\n",
       "    </tr>\n",
       "    <tr>\n",
       "      <th>2</th>\n",
       "      <td>cpu95-19990104-03254</td>\n",
       "      <td>103.su2cor</td>\n",
       "      <td>10.10</td>\n",
       "      <td>9.98</td>\n",
       "    </tr>\n",
       "    <tr>\n",
       "      <th>3</th>\n",
       "      <td>cpu95-19990104-03254</td>\n",
       "      <td>104.hydro2d</td>\n",
       "      <td>8.58</td>\n",
       "      <td>8.61</td>\n",
       "    </tr>\n",
       "    <tr>\n",
       "      <th>4</th>\n",
       "      <td>cpu95-19990104-03254</td>\n",
       "      <td>107.mgrid</td>\n",
       "      <td>8.94</td>\n",
       "      <td>9.44</td>\n",
       "    </tr>\n",
       "  </tbody>\n",
       "</table>\n",
       "</div>"
      ],
      "text/plain": [
       "                 testID    benchName   base  peak\n",
       "0  cpu95-19990104-03254  101.tomcatv  19.40  27.1\n",
       "1  cpu95-19990104-03254     102.swim  27.20  34.8\n",
       "2  cpu95-19990104-03254   103.su2cor  10.10  9.98\n",
       "3  cpu95-19990104-03254  104.hydro2d   8.58  8.61\n",
       "4  cpu95-19990104-03254    107.mgrid   8.94  9.44"
      ]
     },
     "execution_count": 3,
     "metadata": {},
     "output_type": "execute_result"
    }
   ],
   "source": [
    "# import benchmark csv file \n",
    "benchmark = pd.read_csv('benchmarks.csv')\n",
    "benchmark.head()"
   ]
  },
  {
   "cell_type": "code",
   "execution_count": 4,
   "metadata": {},
   "outputs": [
    {
     "name": "stdout",
     "output_type": "stream",
     "text": [
      "<class 'pandas.core.frame.DataFrame'>\n",
      "RangeIndex: 136995 entries, 0 to 136994\n",
      "Data columns (total 4 columns):\n",
      "testID       136995 non-null object\n",
      "benchName    136995 non-null object\n",
      "base         136995 non-null float64\n",
      "peak         131575 non-null object\n",
      "dtypes: float64(1), object(3)\n",
      "memory usage: 4.2+ MB\n"
     ]
    }
   ],
   "source": [
    "benchmark.info()"
   ]
  },
  {
   "cell_type": "markdown",
   "metadata": {},
   "source": [
    "### Some observations: \n",
    "1. Our current dataset contains some non-null elements within peak column as we can see from the info of benchmark dataset. However, the base column which concerns us for the further model is in tact with all elements. \n",
    "\n",
    "2.  The dates contained as part of the testID don't tell us about when the hardware was actually designed, so the test could have been run at a much later date using older hardware. We therefore need the date indicating when the hardware was first available (hwAvail) from the summaries file to really test Moore's Law. \n",
    "Hence, we need to merge both datasets on testID and then use benchName with hwAvail to extract dates.  "
   ]
  },
  {
   "cell_type": "code",
   "execution_count": 5,
   "metadata": {},
   "outputs": [
    {
     "data": {
      "text/plain": [
       "array(['101.tomcatv', '102.swim', '103.su2cor', '104.hydro2d',\n",
       "       '107.mgrid', '110.applu', '125.turb3d', '141.apsi', '145.fpppp',\n",
       "       '146.wave5', '099.go', '124.m88ksim', '126.gcc', '129.compress',\n",
       "       '130.li', '132.ijpeg', '134.perl', '147.vortex', '168.wupwise',\n",
       "       '171.swim', '172.mgrid', '173.applu', '177.mesa', '178.galgel',\n",
       "       '179.art', '183.equake', '187.facerec', '188.ammp', '189.lucas',\n",
       "       '191.fma3d', '200.sixtrack', '301.apsi', '164.gzip', '175.vpr',\n",
       "       '176.gcc', '181.mcf', '186.crafty', '197.parser', '252.eon',\n",
       "       '253.perlbmk', '254.gap', '255.vortex', '256.bzip2', '300.twolf',\n",
       "       '400.perlbench', '401.bzip2', '403.gcc', '429.mcf', '445.gobmk',\n",
       "       '456.hmmer', '458.sjeng', '462.libquantum', '464.h264ref',\n",
       "       '471.omnetpp', '473.astar', '483.xalancbmk', '410.bwaves',\n",
       "       '416.gamess', '433.milc', '434.zeusmp', '435.gromacs',\n",
       "       '436.cactusADM', '437.leslie3d', '444.namd', '447.dealII',\n",
       "       '450.soplex', '453.povray', '454.calculix', '459.GemsFDTD',\n",
       "       '465.tonto', '470.lbm', '481.wrf', '482.sphinx3'], dtype=object)"
      ]
     },
     "execution_count": 5,
     "metadata": {},
     "output_type": "execute_result"
    }
   ],
   "source": [
    "# observe all benchmark names to pick one \n",
    "pd.unique(benchmark.benchName)"
   ]
  },
  {
   "cell_type": "markdown",
   "metadata": {},
   "source": [
    "### 1. Extract the date and base speed for a benchmark of your choice. \n",
    "\n",
    "#### a. Let's start by observing summaries dataset:"
   ]
  },
  {
   "cell_type": "code",
   "execution_count": 6,
   "metadata": {},
   "outputs": [
    {
     "data": {
      "text/html": [
       "<div>\n",
       "<style scoped>\n",
       "    .dataframe tbody tr th:only-of-type {\n",
       "        vertical-align: middle;\n",
       "    }\n",
       "\n",
       "    .dataframe tbody tr th {\n",
       "        vertical-align: top;\n",
       "    }\n",
       "\n",
       "    .dataframe thead th {\n",
       "        text-align: right;\n",
       "    }\n",
       "</style>\n",
       "<table border=\"1\" class=\"dataframe\">\n",
       "  <thead>\n",
       "    <tr style=\"text-align: right;\">\n",
       "      <th></th>\n",
       "      <th>testID</th>\n",
       "      <th>tester</th>\n",
       "      <th>machine</th>\n",
       "      <th>cpu</th>\n",
       "      <th>mhz</th>\n",
       "      <th>hwAvail</th>\n",
       "      <th>os</th>\n",
       "      <th>compiler</th>\n",
       "      <th>autoParallel</th>\n",
       "      <th>benchType</th>\n",
       "      <th>base</th>\n",
       "      <th>peak</th>\n",
       "    </tr>\n",
       "  </thead>\n",
       "  <tbody>\n",
       "    <tr>\n",
       "      <th>0</th>\n",
       "      <td>cpu95-19990104-03254</td>\n",
       "      <td>Dell</td>\n",
       "      <td>Precision WorkStation 610 (450MHz)</td>\n",
       "      <td>450 MHz Pentium II XEON</td>\n",
       "      <td>450.0</td>\n",
       "      <td>Jan-1999</td>\n",
       "      <td>Microsoft Windows NT 4.0 sp3</td>\n",
       "      <td>Intel Fortran Compiler 2.4</td>\n",
       "      <td>No</td>\n",
       "      <td>CFP95</td>\n",
       "      <td>13.9</td>\n",
       "      <td>15.2</td>\n",
       "    </tr>\n",
       "    <tr>\n",
       "      <th>1</th>\n",
       "      <td>cpu95-19990104-03256</td>\n",
       "      <td>Dell</td>\n",
       "      <td>Precision WorkStation 610 (450MHz)</td>\n",
       "      <td>450 MHz Pentium II XEON</td>\n",
       "      <td>450.0</td>\n",
       "      <td>Jan-1999</td>\n",
       "      <td>Microsoft Windows NT 4.0 sp3</td>\n",
       "      <td>Intel C Compiler 2.4 for Windows NT, Microsoft...</td>\n",
       "      <td>No</td>\n",
       "      <td>CINT95</td>\n",
       "      <td>19.0</td>\n",
       "      <td>19.0</td>\n",
       "    </tr>\n",
       "    <tr>\n",
       "      <th>2</th>\n",
       "      <td>cpu95-19990118-03257</td>\n",
       "      <td>Siemens, Germany</td>\n",
       "      <td>CELSIUS 2000</td>\n",
       "      <td>Pentium II Xeon Processor 450 MHz</td>\n",
       "      <td>450.0</td>\n",
       "      <td>Nov-1998</td>\n",
       "      <td>Windows NT V4.0 (Service Pack 3)</td>\n",
       "      <td>Intel C Compiler Plug-In 2.4</td>\n",
       "      <td>No</td>\n",
       "      <td>CINT95</td>\n",
       "      <td>18.9</td>\n",
       "      <td>18.9</td>\n",
       "    </tr>\n",
       "    <tr>\n",
       "      <th>3</th>\n",
       "      <td>cpu95-19990118-03258</td>\n",
       "      <td>Siemens, Germany</td>\n",
       "      <td>CELSIUS 2000</td>\n",
       "      <td>Pentium II Xeon Processor 450 MHz</td>\n",
       "      <td>450.0</td>\n",
       "      <td>Nov-1998</td>\n",
       "      <td>Windows NT V4.0 (Service Pack 4)</td>\n",
       "      <td>Intel Fortran Compiler Plug-In 2.4</td>\n",
       "      <td>No</td>\n",
       "      <td>CFP95</td>\n",
       "      <td>13.5</td>\n",
       "      <td>15.0</td>\n",
       "    </tr>\n",
       "    <tr>\n",
       "      <th>4</th>\n",
       "      <td>cpu95-19990122-03268</td>\n",
       "      <td>Sun, Palo Alto</td>\n",
       "      <td>Sun Enterprise 3500</td>\n",
       "      <td>400MHz UltraSPARC II</td>\n",
       "      <td>400.0</td>\n",
       "      <td>Dec-1998</td>\n",
       "      <td>Solaris 2.7</td>\n",
       "      <td>Sun C 5.0</td>\n",
       "      <td>No</td>\n",
       "      <td>CINT95</td>\n",
       "      <td>14.3</td>\n",
       "      <td>17.7</td>\n",
       "    </tr>\n",
       "  </tbody>\n",
       "</table>\n",
       "</div>"
      ],
      "text/plain": [
       "                 testID            tester                             machine  \\\n",
       "0  cpu95-19990104-03254              Dell  Precision WorkStation 610 (450MHz)   \n",
       "1  cpu95-19990104-03256              Dell  Precision WorkStation 610 (450MHz)   \n",
       "2  cpu95-19990118-03257  Siemens, Germany                        CELSIUS 2000   \n",
       "3  cpu95-19990118-03258  Siemens, Germany                        CELSIUS 2000   \n",
       "4  cpu95-19990122-03268    Sun, Palo Alto                 Sun Enterprise 3500   \n",
       "\n",
       "                                 cpu    mhz   hwAvail  \\\n",
       "0            450 MHz Pentium II XEON  450.0  Jan-1999   \n",
       "1            450 MHz Pentium II XEON  450.0  Jan-1999   \n",
       "2  Pentium II Xeon Processor 450 MHz  450.0  Nov-1998   \n",
       "3  Pentium II Xeon Processor 450 MHz  450.0  Nov-1998   \n",
       "4               400MHz UltraSPARC II  400.0  Dec-1998   \n",
       "\n",
       "                                 os  \\\n",
       "0      Microsoft Windows NT 4.0 sp3   \n",
       "1      Microsoft Windows NT 4.0 sp3   \n",
       "2  Windows NT V4.0 (Service Pack 3)   \n",
       "3  Windows NT V4.0 (Service Pack 4)   \n",
       "4                       Solaris 2.7   \n",
       "\n",
       "                                            compiler autoParallel benchType  \\\n",
       "0                         Intel Fortran Compiler 2.4           No     CFP95   \n",
       "1  Intel C Compiler 2.4 for Windows NT, Microsoft...           No    CINT95   \n",
       "2                       Intel C Compiler Plug-In 2.4           No    CINT95   \n",
       "3                 Intel Fortran Compiler Plug-In 2.4           No     CFP95   \n",
       "4                                          Sun C 5.0           No    CINT95   \n",
       "\n",
       "   base  peak  \n",
       "0  13.9  15.2  \n",
       "1  19.0  19.0  \n",
       "2  18.9  18.9  \n",
       "3  13.5  15.0  \n",
       "4  14.3  17.7  "
      ]
     },
     "execution_count": 6,
     "metadata": {},
     "output_type": "execute_result"
    }
   ],
   "source": [
    "# import summaries csv file \n",
    "summaries = pd.read_csv('summaries.csv')\n",
    "summaries.head()"
   ]
  },
  {
   "cell_type": "code",
   "execution_count": 7,
   "metadata": {},
   "outputs": [
    {
     "name": "stdout",
     "output_type": "stream",
     "text": [
      "<class 'pandas.core.frame.DataFrame'>\n",
      "RangeIndex: 10155 entries, 0 to 10154\n",
      "Data columns (total 12 columns):\n",
      "testID          10155 non-null object\n",
      "tester          10155 non-null object\n",
      "machine         8982 non-null object\n",
      "cpu             10155 non-null object\n",
      "mhz             10155 non-null float64\n",
      "hwAvail         10155 non-null object\n",
      "os              10155 non-null object\n",
      "compiler        10155 non-null object\n",
      "autoParallel    10155 non-null object\n",
      "benchType       10155 non-null object\n",
      "base            10155 non-null float64\n",
      "peak            10155 non-null object\n",
      "dtypes: float64(2), object(10)\n",
      "memory usage: 952.1+ KB\n"
     ]
    }
   ],
   "source": [
    "summaries.info()"
   ]
  },
  {
   "cell_type": "markdown",
   "metadata": {},
   "source": [
    "#### b. Extract a sample date from the benchmark hwAvail:"
   ]
  },
  {
   "cell_type": "code",
   "execution_count": 8,
   "metadata": {},
   "outputs": [
    {
     "name": "stdout",
     "output_type": "stream",
     "text": [
      "1999-01-01 00:00:00\n"
     ]
    }
   ],
   "source": [
    "date1 = datetime.strptime(summaries['hwAvail'][0], '%b-%Y')\n",
    "print(date1)"
   ]
  },
  {
   "cell_type": "markdown",
   "metadata": {},
   "source": [
    "#### c. Extract date column of harwdare availability from summaries table based on testID."
   ]
  },
  {
   "cell_type": "code",
   "execution_count": 9,
   "metadata": {},
   "outputs": [
    {
     "data": {
      "text/html": [
       "<div>\n",
       "<style scoped>\n",
       "    .dataframe tbody tr th:only-of-type {\n",
       "        vertical-align: middle;\n",
       "    }\n",
       "\n",
       "    .dataframe tbody tr th {\n",
       "        vertical-align: top;\n",
       "    }\n",
       "\n",
       "    .dataframe thead th {\n",
       "        text-align: right;\n",
       "    }\n",
       "</style>\n",
       "<table border=\"1\" class=\"dataframe\">\n",
       "  <thead>\n",
       "    <tr style=\"text-align: right;\">\n",
       "      <th></th>\n",
       "      <th>testID</th>\n",
       "      <th>hwAvail_benchmark</th>\n",
       "    </tr>\n",
       "  </thead>\n",
       "  <tbody>\n",
       "    <tr>\n",
       "      <th>0</th>\n",
       "      <td>cpu95-19990104-03254</td>\n",
       "      <td>1999-01-01</td>\n",
       "    </tr>\n",
       "    <tr>\n",
       "      <th>1</th>\n",
       "      <td>cpu95-19990104-03256</td>\n",
       "      <td>1999-01-01</td>\n",
       "    </tr>\n",
       "    <tr>\n",
       "      <th>2</th>\n",
       "      <td>cpu95-19990118-03257</td>\n",
       "      <td>1998-11-01</td>\n",
       "    </tr>\n",
       "    <tr>\n",
       "      <th>3</th>\n",
       "      <td>cpu95-19990118-03258</td>\n",
       "      <td>1998-11-01</td>\n",
       "    </tr>\n",
       "    <tr>\n",
       "      <th>4</th>\n",
       "      <td>cpu95-19990122-03268</td>\n",
       "      <td>1998-12-01</td>\n",
       "    </tr>\n",
       "  </tbody>\n",
       "</table>\n",
       "</div>"
      ],
      "text/plain": [
       "                 testID hwAvail_benchmark\n",
       "0  cpu95-19990104-03254        1999-01-01\n",
       "1  cpu95-19990104-03256        1999-01-01\n",
       "2  cpu95-19990118-03257        1998-11-01\n",
       "3  cpu95-19990118-03258        1998-11-01\n",
       "4  cpu95-19990122-03268        1998-12-01"
      ]
     },
     "execution_count": 9,
     "metadata": {},
     "output_type": "execute_result"
    }
   ],
   "source": [
    "summaries['hwAvail_benchmark'] = summaries['hwAvail'].apply(lambda x: datetime.strptime(x,'%b-%Y'))\n",
    "summaries_date_extracted = summaries[['testID', 'hwAvail_benchmark']]\n",
    "summaries_date_extracted.head()\n"
   ]
  },
  {
   "cell_type": "markdown",
   "metadata": {},
   "source": [
    "#### d. Left merge the extracted hwAvail_bnchmark date data with the benchmark table on testID key. \n",
    "We left merge as we want to keep every row from the left dataframe, benchmark, while adding the nw row from the righ table matching on the testID. "
   ]
  },
  {
   "cell_type": "code",
   "execution_count": 10,
   "metadata": {},
   "outputs": [
    {
     "data": {
      "text/html": [
       "<div>\n",
       "<style scoped>\n",
       "    .dataframe tbody tr th:only-of-type {\n",
       "        vertical-align: middle;\n",
       "    }\n",
       "\n",
       "    .dataframe tbody tr th {\n",
       "        vertical-align: top;\n",
       "    }\n",
       "\n",
       "    .dataframe thead th {\n",
       "        text-align: right;\n",
       "    }\n",
       "</style>\n",
       "<table border=\"1\" class=\"dataframe\">\n",
       "  <thead>\n",
       "    <tr style=\"text-align: right;\">\n",
       "      <th></th>\n",
       "      <th>testID</th>\n",
       "      <th>benchName</th>\n",
       "      <th>base</th>\n",
       "      <th>peak</th>\n",
       "      <th>hwAvail_benchmark</th>\n",
       "    </tr>\n",
       "  </thead>\n",
       "  <tbody>\n",
       "    <tr>\n",
       "      <th>0</th>\n",
       "      <td>cpu95-19990104-03254</td>\n",
       "      <td>101.tomcatv</td>\n",
       "      <td>19.40</td>\n",
       "      <td>27.1</td>\n",
       "      <td>1999-01-01</td>\n",
       "    </tr>\n",
       "    <tr>\n",
       "      <th>1</th>\n",
       "      <td>cpu95-19990104-03254</td>\n",
       "      <td>102.swim</td>\n",
       "      <td>27.20</td>\n",
       "      <td>34.8</td>\n",
       "      <td>1999-01-01</td>\n",
       "    </tr>\n",
       "    <tr>\n",
       "      <th>2</th>\n",
       "      <td>cpu95-19990104-03254</td>\n",
       "      <td>103.su2cor</td>\n",
       "      <td>10.10</td>\n",
       "      <td>9.98</td>\n",
       "      <td>1999-01-01</td>\n",
       "    </tr>\n",
       "    <tr>\n",
       "      <th>3</th>\n",
       "      <td>cpu95-19990104-03254</td>\n",
       "      <td>104.hydro2d</td>\n",
       "      <td>8.58</td>\n",
       "      <td>8.61</td>\n",
       "      <td>1999-01-01</td>\n",
       "    </tr>\n",
       "    <tr>\n",
       "      <th>4</th>\n",
       "      <td>cpu95-19990104-03254</td>\n",
       "      <td>107.mgrid</td>\n",
       "      <td>8.94</td>\n",
       "      <td>9.44</td>\n",
       "      <td>1999-01-01</td>\n",
       "    </tr>\n",
       "  </tbody>\n",
       "</table>\n",
       "</div>"
      ],
      "text/plain": [
       "                 testID    benchName   base  peak hwAvail_benchmark\n",
       "0  cpu95-19990104-03254  101.tomcatv  19.40  27.1        1999-01-01\n",
       "1  cpu95-19990104-03254     102.swim  27.20  34.8        1999-01-01\n",
       "2  cpu95-19990104-03254   103.su2cor  10.10  9.98        1999-01-01\n",
       "3  cpu95-19990104-03254  104.hydro2d   8.58  8.61        1999-01-01\n",
       "4  cpu95-19990104-03254    107.mgrid   8.94  9.44        1999-01-01"
      ]
     },
     "execution_count": 10,
     "metadata": {},
     "output_type": "execute_result"
    }
   ],
   "source": [
    "date_benchmark = pd.merge(left=benchmark, right=summaries_date_extracted, how='left', left_on='testID', right_on='testID')\n",
    "date_benchmark.head()\n"
   ]
  },
  {
   "cell_type": "markdown",
   "metadata": {},
   "source": [
    "#### e. Convert the date from hwAvail_benchamrk into days for easy comparision. "
   ]
  },
  {
   "cell_type": "code",
   "execution_count": 11,
   "metadata": {},
   "outputs": [],
   "source": [
    "# picking a start point for comparative conversion \n",
    "initial_date = date_benchmark['hwAvail_benchmark'].min()\n",
    "# creating a nw column to host the delta dates (day based)\n",
    "date_benchmark['date_delta'] = date_benchmark['hwAvail_benchmark'].apply(lambda x:(x - initial_date).total_seconds() / 3600*24)\n"
   ]
  },
  {
   "cell_type": "markdown",
   "metadata": {},
   "source": [
    "#### f. Selecting a benchmark name from the list of benchmark names observed earlier. "
   ]
  },
  {
   "cell_type": "code",
   "execution_count": 12,
   "metadata": {},
   "outputs": [
    {
     "data": {
      "text/html": [
       "<div>\n",
       "<style scoped>\n",
       "    .dataframe tbody tr th:only-of-type {\n",
       "        vertical-align: middle;\n",
       "    }\n",
       "\n",
       "    .dataframe tbody tr th {\n",
       "        vertical-align: top;\n",
       "    }\n",
       "\n",
       "    .dataframe thead th {\n",
       "        text-align: right;\n",
       "    }\n",
       "</style>\n",
       "<table border=\"1\" class=\"dataframe\">\n",
       "  <thead>\n",
       "    <tr style=\"text-align: right;\">\n",
       "      <th></th>\n",
       "      <th>testID</th>\n",
       "      <th>benchName</th>\n",
       "      <th>base</th>\n",
       "      <th>peak</th>\n",
       "      <th>hwAvail_benchmark</th>\n",
       "      <th>date_delta</th>\n",
       "    </tr>\n",
       "  </thead>\n",
       "  <tbody>\n",
       "    <tr>\n",
       "      <th>9958</th>\n",
       "      <td>cpu2000-19991130-00002</td>\n",
       "      <td>187.facerec</td>\n",
       "      <td>129.0</td>\n",
       "      <td>NaN</td>\n",
       "      <td>1999-05-01</td>\n",
       "      <td>1718208.0</td>\n",
       "    </tr>\n",
       "    <tr>\n",
       "      <th>9984</th>\n",
       "      <td>cpu2000-19991130-00004</td>\n",
       "      <td>187.facerec</td>\n",
       "      <td>200.0</td>\n",
       "      <td>NaN</td>\n",
       "      <td>1996-10-01</td>\n",
       "      <td>1175616.0</td>\n",
       "    </tr>\n",
       "    <tr>\n",
       "      <th>10010</th>\n",
       "      <td>cpu2000-19991130-00006</td>\n",
       "      <td>187.facerec</td>\n",
       "      <td>677.0</td>\n",
       "      <td>804</td>\n",
       "      <td>2000-02-01</td>\n",
       "      <td>1877184.0</td>\n",
       "    </tr>\n",
       "    <tr>\n",
       "      <th>10036</th>\n",
       "      <td>cpu2000-19991130-00008</td>\n",
       "      <td>187.facerec</td>\n",
       "      <td>178.0</td>\n",
       "      <td>NaN</td>\n",
       "      <td>1997-05-01</td>\n",
       "      <td>1297728.0</td>\n",
       "    </tr>\n",
       "    <tr>\n",
       "      <th>10062</th>\n",
       "      <td>cpu2000-19991130-00010</td>\n",
       "      <td>187.facerec</td>\n",
       "      <td>456.0</td>\n",
       "      <td>544</td>\n",
       "      <td>1998-12-01</td>\n",
       "      <td>1631232.0</td>\n",
       "    </tr>\n",
       "  </tbody>\n",
       "</table>\n",
       "</div>"
      ],
      "text/plain": [
       "                       testID    benchName   base peak hwAvail_benchmark  \\\n",
       "9958   cpu2000-19991130-00002  187.facerec  129.0  NaN        1999-05-01   \n",
       "9984   cpu2000-19991130-00004  187.facerec  200.0  NaN        1996-10-01   \n",
       "10010  cpu2000-19991130-00006  187.facerec  677.0  804        2000-02-01   \n",
       "10036  cpu2000-19991130-00008  187.facerec  178.0  NaN        1997-05-01   \n",
       "10062  cpu2000-19991130-00010  187.facerec  456.0  544        1998-12-01   \n",
       "\n",
       "       date_delta  \n",
       "9958    1718208.0  \n",
       "9984    1175616.0  \n",
       "10010   1877184.0  \n",
       "10036   1297728.0  \n",
       "10062   1631232.0  "
      ]
     },
     "execution_count": 12,
     "metadata": {},
     "output_type": "execute_result"
    }
   ],
   "source": [
    "date_benchmark = date_benchmark[date_benchmark['benchName']=='187.facerec']\n",
    "date_benchmark.head()"
   ]
  },
  {
   "cell_type": "markdown",
   "metadata": {},
   "source": [
    "### 2. Plot the data in a semi-log plot.\n",
    "\n"
   ]
  },
  {
   "cell_type": "markdown",
   "metadata": {},
   "source": [
    "We transform the dependent variable, base, to log base while remaining the indepedent varible, time, in the original metric. "
   ]
  },
  {
   "cell_type": "code",
   "execution_count": 13,
   "metadata": {},
   "outputs": [
    {
     "data": {
      "image/png": "[encoded data removed]",
      "text/plain": [
       "<Figure size 432x288 with 1 Axes>"
      ]
     },
     "metadata": {
      "needs_background": "light"
     },
     "output_type": "display_data"
    }
   ],
   "source": [
    "x_time = date_benchmark[['date_delta']]\n",
    "y_baseLog = np.log(date_benchmark['base'].values)\n",
    "plt.scatter(x_time, y_baseLog)\n",
    "plt.xlabel('Time (delta day)')\n",
    "plt.ylabel('Log Base Performance')\n",
    "plt.title('Semilog Graph for base speed and time delta of benchmark')\n",
    "\n",
    "plt.show()"
   ]
  },
  {
   "cell_type": "markdown",
   "metadata": {},
   "source": [
    "### 3. Now train a linear model to fit your plot.\n"
   ]
  },
  {
   "cell_type": "markdown",
   "metadata": {},
   "source": [
    "The plot has shown that log base performance has a linear relationship with the time. hence, we will be fitting our date into a linear regression. "
   ]
  },
  {
   "cell_type": "code",
   "execution_count": 14,
   "metadata": {},
   "outputs": [
    {
     "data": {
      "text/plain": [
       "LinearRegression(copy_X=True, fit_intercept=True, n_jobs=None, normalize=False)"
      ]
     },
     "execution_count": 14,
     "metadata": {},
     "output_type": "execute_result"
    }
   ],
   "source": [
    "# splitting data into test and train sets\n",
    "\n",
    "X_train, X_test, y_train, y_test = train_test_split(x_time, y_baseLog, test_size=0.2, random_state=1)\n",
    "\n",
    "model = LinearRegression()\n",
    "# fitting the training data\n",
    "model.fit(X_train, y_train)\n"
   ]
  },
  {
   "cell_type": "code",
   "execution_count": 15,
   "metadata": {},
   "outputs": [],
   "source": [
    "# predicting based on the test data\n",
    "y_pred = model.predict(X_test)"
   ]
  },
  {
   "cell_type": "markdown",
   "metadata": {},
   "source": [
    "#### Obeserving the performance stats on our model. "
   ]
  },
  {
   "cell_type": "code",
   "execution_count": 16,
   "metadata": {},
   "outputs": [
    {
     "name": "stdout",
     "output_type": "stream",
     "text": [
      "Coefficients: \n",
      " [1.36642131e-06]\n",
      "Intercept: \n",
      " 3.389017269286665\n",
      "Mean squared error: 0.09\n",
      "MAE: 0.24\n",
      "R-squared: 0.81  showing that 81% of the variance in log based performance data can be explained by the dates.\n"
     ]
    }
   ],
   "source": [
    "# The coefficient\n",
    "print('Coefficients: \\n', model.coef_)\n",
    "# The intercept\n",
    "print('Intercept: \\n', model.intercept_)\n",
    "# The mean squared error\n",
    "print('Mean squared error: %.2f' % MSE(y_test, y_pred))\n",
    "# The median avarag error \n",
    "print(\"MAE: %.2f\" % MAE(y_test, y_pred))\n",
    "# R-squared: \n",
    "print('R-squared: %.2f' % R2(y_test, y_pred), ' showing that 81% of the variance in log based performance data can be explained by the dates.')\n",
    "\n"
   ]
  },
  {
   "cell_type": "markdown",
   "metadata": {},
   "source": [
    "##### We can now also check how well is our model at predicting the speed given time by comparing actual results to predicted.\n"
   ]
  },
  {
   "cell_type": "code",
   "execution_count": 17,
   "metadata": {
    "scrolled": true
   },
   "outputs": [
    {
     "data": {
      "text/plain": [
       "Text(0.5, 1.0, 'Predcited log base performnce vs real log base performance')"
      ]
     },
     "execution_count": 17,
     "metadata": {},
     "output_type": "execute_result"
    },
    {
     "data": {
      "image/png": "[encoded data removed]",
      "text/plain": [
       "<Figure size 432x288 with 1 Axes>"
      ]
     },
     "metadata": {
      "needs_background": "light"
     },
     "output_type": "display_data"
    }
   ],
   "source": [
    "plt.scatter(y_test, y_pred)\n",
    "plt.title(\"Predcited log base performnce vs real log base performance\")"
   ]
  },
  {
   "cell_type": "code",
   "execution_count": 18,
   "metadata": {},
   "outputs": [
    {
     "data": {
      "text/plain": [
       "Text(0.5, 1.0, 'Difference between the actual and predcited log base performance values ')"
      ]
     },
     "execution_count": 18,
     "metadata": {},
     "output_type": "execute_result"
    },
    {
     "data": {
      "image/png": "[encoded data removed]",
      "text/plain": [
       "<Figure size 432x288 with 1 Axes>"
      ]
     },
     "metadata": {
      "needs_background": "light"
     },
     "output_type": "display_data"
    }
   ],
   "source": [
    "# looking at residuals\n",
    "plt.hist(y_test - y_pred)\n",
    "plt.title(\"Difference between the actual and predcited log base performance values \")\n",
    "\n"
   ]
  },
  {
   "cell_type": "markdown",
   "metadata": {},
   "source": [
    "Previous two graphs show that our model is performing well for our data. The risiduals are almost normally distributed and the comparison graph shows that the predicted values are close to the real ones. However, both graphs also show that there are some outliers in our data and MSE of 0.09 shows that the model is almost perfect (close to 0)."
   ]
  },
  {
   "cell_type": "code",
   "execution_count": 19,
   "metadata": {},
   "outputs": [
    {
     "data": {
      "image/png": "[encoded data removed]",
      "text/plain": [
       "<Figure size 432x288 with 1 Axes>"
      ]
     },
     "metadata": {
      "needs_background": "light"
     },
     "output_type": "display_data"
    }
   ],
   "source": [
    "# Showcasing the results using plots\n",
    "plt.scatter(X_test, y_test)\n",
    "plt.plot(X_test, y_pred, color='pink', linewidth=3)\n",
    "plt.xlabel('Time (delta day)')\n",
    "plt.ylabel('Log Base Performance')\n",
    "plt.title('Semilog Graph for base speed and time delta of benchmark')\n",
    "plt.show()"
   ]
  },
  {
   "cell_type": "code",
   "execution_count": 20,
   "metadata": {},
   "outputs": [
    {
     "data": {
      "text/plain": [
       "Text(0.5, 1, 'Semilog Graph for base speed and time delta of benchmark')"
      ]
     },
     "execution_count": 20,
     "metadata": {},
     "output_type": "execute_result"
    },
    {
     "data": {
      "image/png": "[encoded data removed]",
      "text/plain": [
       "<Figure size 864x432 with 1 Axes>"
      ]
     },
     "metadata": {
      "needs_background": "light"
     },
     "output_type": "display_data"
    }
   ],
   "source": [
    "# using sns to plot a linear relationship between log base performance and time \n",
    "# with regression line on full set\n",
    "date_benchmark['baseLog'] = np.log(date_benchmark.base)\n",
    "ax = sns.lmplot(x='date_delta', y='baseLog', data=date_benchmark, height=6, aspect=2)\n",
    "plt.xlabel('Time (delta day)')\n",
    "plt.ylabel('Log Base Performance')\n",
    "plt.title('Semilog Graph for base speed and time delta of benchmark')\n",
    "\n"
   ]
  },
  {
   "cell_type": "markdown",
   "metadata": {},
   "source": [
    "### 3. How well is Moore's Law holding up?\n"
   ]
  },
  {
   "cell_type": "markdown",
   "metadata": {},
   "source": [
    "The coefficient tells us that if all other variables remain constant, then every delta day increase in time will result in 1.36 times increase in the predicted variable, log base performance of cpu. \n",
    "\n",
    "Addionally, we can account for the fact that we transformed the dependent variable, base, into log base which affects the scale of the increase of the original metric of the base speed. Hence, to interpet the amount of change in the original metric of the output, we\n",
    "\n",
    "1) exponentiate the coefficient of base to obtain exp(1.36082803)= 3.8994208027843 ~ 3.9;\n",
    "\n",
    "2) subtract one from this number and multiply by 100 (How can I interpret log transformed variables in terms of percent change in linear regression?, n.d)\n",
    "\n",
    "\n",
    "Thus, for every delta day increase in time, the base speed of the cpu increases by 290 percent.\n",
    "\n",
    "Our model has R-squared of 0.81 which shows that around 81% of the variance in the log base performnce is explained by the dates. This is also supported by the regression model predcitions graphs showing that model is performing well (MSE = 0.09) but there are still some values not captured by the model. \n",
    "\n",
    "Moore's law shows that the number of transistors in a dense integrated circuit (IC) doubles about every two years based on Wikipedia. \n",
    "\n",
    "Since we do have a model explaining 81% variance in the change and for every delta day increase in time, the base speed of the cpu increases by 290 percent (in otherwords, exponentially), Moore's Law is holding up as it refers to an observation that the power of computers will increase exponentially.\n",
    "\n"
   ]
  },
  {
   "cell_type": "markdown",
   "metadata": {},
   "source": [
    "# 2. MNIST Digits"
   ]
  },
  {
   "cell_type": "markdown",
   "metadata": {},
   "source": [
    "No machine learning course would be complete without using the MNIST dataset. This dataset was a hugely influential dataset of handwriting digits (0-9)."
   ]
  },
  {
   "cell_type": "markdown",
   "metadata": {},
   "source": [
    "### 1. Using scikit-learn, load the MNIST digits (see here).\n",
    "\n"
   ]
  },
  {
   "cell_type": "code",
   "execution_count": 21,
   "metadata": {},
   "outputs": [
    {
     "name": "stdout",
     "output_type": "stream",
     "text": [
      "(1797, 64)\n"
     ]
    }
   ],
   "source": [
    "# loading MNIST digits data file\n",
    "from sklearn.datasets import load_digits\n",
    "\n",
    "digits = load_digits()\n",
    "\n",
    "print(digits.data.shape)"
   ]
  },
  {
   "cell_type": "markdown",
   "metadata": {},
   "source": [
    "### 2. Plot some of the examples.\n",
    "\n"
   ]
  },
  {
   "cell_type": "code",
   "execution_count": 22,
   "metadata": {},
   "outputs": [
    {
     "data": {
      "text/plain": [
       "<Figure size 432x288 with 0 Axes>"
      ]
     },
     "metadata": {},
     "output_type": "display_data"
    },
    {
     "data": {
      "image/png": "[encoded data removed]",
      "text/plain": [
       "<Figure size 288x288 with 1 Axes>"
      ]
     },
     "metadata": {
      "needs_background": "light"
     },
     "output_type": "display_data"
    },
    {
     "data": {
      "image/png": "[encoded data removed]",
      "text/plain": [
       "<Figure size 288x288 with 1 Axes>"
      ]
     },
     "metadata": {
      "needs_background": "light"
     },
     "output_type": "display_data"
    },
    {
     "data": {
      "image/png": "[encoded data removed]",
      "text/plain": [
       "<Figure size 288x288 with 1 Axes>"
      ]
     },
     "metadata": {
      "needs_background": "light"
     },
     "output_type": "display_data"
    },
    {
     "data": {
      "image/png": "[encoded data removed]",
      "text/plain": [
       "<Figure size 288x288 with 1 Axes>"
      ]
     },
     "metadata": {
      "needs_background": "light"
     },
     "output_type": "display_data"
    }
   ],
   "source": [
    "# showcasing examples \n",
    "plt.gray() \n",
    "plt.matshow(digits.images[0])\n",
    "plt.matshow(digits.images[1]) \n",
    "plt.matshow(digits.images[2]) \n",
    "plt.matshow(digits.images[3]) \n",
    "plt.show() "
   ]
  },
  {
   "cell_type": "markdown",
   "metadata": {},
   "source": [
    "### 3. Choose two digit classes (e.g. 7s and 3s), and train a k-nearest neighbor classifier.\n",
    "\n"
   ]
  },
  {
   "cell_type": "code",
   "execution_count": 23,
   "metadata": {},
   "outputs": [
    {
     "data": {
      "text/plain": [
       "array([3, 7])"
      ]
     },
     "execution_count": 23,
     "metadata": {},
     "output_type": "execute_result"
    }
   ],
   "source": [
    "# Splitting the dataset into inputs and targets\n",
    "X = digits.data\n",
    "y = digits.target\n",
    "\n",
    "\n",
    "X = X[np.logical_or(y == 3, y == 7)]\n",
    "y = y[np.logical_or(y == 3, y == 7)]\n",
    "# verify selection\n",
    "np.unique(y)"
   ]
  },
  {
   "cell_type": "code",
   "execution_count": 24,
   "metadata": {},
   "outputs": [
    {
     "name": "stdout",
     "output_type": "stream",
     "text": [
      "(array([3, 7]), array([144, 145]))\n",
      "(array([3, 7]), array([39, 34]))\n"
     ]
    }
   ],
   "source": [
    "# Splitting data into test and train sets\n",
    "# Assigning 20% of data as testing data\n",
    "X_train, X_test, y_train, y_test = train_test_split(X, y, test_size=0.2, random_state=1)\n",
    "\n",
    "print(np.unique(y_train,return_counts=True))\n",
    "print(np.unique(y_test,return_counts=True))\n",
    "\n"
   ]
  },
  {
   "cell_type": "code",
   "execution_count": 25,
   "metadata": {},
   "outputs": [],
   "source": [
    "# buidling a k-NN model\n",
    "knn = KNeighborsClassifier()"
   ]
  },
  {
   "cell_type": "markdown",
   "metadata": {},
   "source": [
    "#### Hypertuning to find the optimal parameters for our model to improve accuracy"
   ]
  },
  {
   "cell_type": "markdown",
   "metadata": {},
   "source": [
    "We are using here hypertuning with cross-validation of cv = 5 in order to chose the most optimal parameters to minimize the error rate for our model. Usage of cross-validation will also help to mitigate overfitting of our model. "
   ]
  },
  {
   "cell_type": "code",
   "execution_count": 26,
   "metadata": {},
   "outputs": [
    {
     "name": "stdout",
     "output_type": "stream",
     "text": [
      "The most optimal parameter of k is: {'n_neighbors': 3}\n",
      "The best accuracy score is: 0.9965397923875432\n"
     ]
    }
   ],
   "source": [
    "# creating a dictionary by specifing a range of values for ‘n_neighbors’ in order to see which value works best for our model (k = majority of nearest points to base evaluation from)\n",
    "k_n_param= {'n_neighbors': np.arange(3, 25, 2)}\n",
    "\n",
    "# using  grid search and cross-validation to test all values for n_neighbors\n",
    "hypertuned_knn = GridSearchCV(knn, k_n_param, cv = 5)\n",
    "\n",
    "# fitting model to data\n",
    "hypertuned_knn.fit(X_train, y_train)\n",
    "\n",
    "# checking for the most optimal  of k-value and corresponding training accuracy score\n",
    "print(\"The most optimal parameter of k is:\", hypertuned_knn.best_params_)\n",
    "print(\"The best accuracy score is:\", hypertuned_knn.best_score_)\n"
   ]
  },
  {
   "cell_type": "markdown",
   "metadata": {},
   "source": [
    "### 4. Report your error rates on a held out part of the data.\n",
    "\n"
   ]
  },
  {
   "cell_type": "code",
   "execution_count": 27,
   "metadata": {},
   "outputs": [
    {
     "name": "stdout",
     "output_type": "stream",
     "text": [
      " The error rate with the most optimal parameter, k=3, is: 0.00346\n",
      " The error rate with the holdout method is: 0.013699\n"
     ]
    }
   ],
   "source": [
    "# using the test dataset to predict and calculate the error rate\n",
    "predictions = hypertuned_knn.predict(X_test)\n",
    "model_accuracy = metrics.accuracy_score(y_test, predictions)\n",
    "# finding accuracy for holdout method (train-test-split method)\n",
    "print(' The error rate with the most optimal parameter, k=3, is:', round(1-hypertuned_knn.best_score_, 6))\n",
    "print(' The error rate with the holdout method is:', round(1-model_accuracy, 6))\n"
   ]
  },
  {
   "cell_type": "markdown",
   "metadata": {},
   "source": [
    "The error rate shows that the model has a great accuracy when predicting 3 or 7. "
   ]
  },
  {
   "cell_type": "markdown",
   "metadata": {},
   "source": [
    "### 5. Test your model on the full dataset (available from http://yann.lecun.com/exdb/mnist/)"
   ]
  },
  {
   "cell_type": "code",
   "execution_count": 28,
   "metadata": {},
   "outputs": [],
   "source": [
    "from keras.datasets import mnist\n",
    "\n",
    "(x_train, y_train), (x_test, y_test) = mnist.load_data()"
   ]
  },
  {
   "cell_type": "code",
   "execution_count": 29,
   "metadata": {},
   "outputs": [],
   "source": [
    "#reshaping the 3d to 2d set \n",
    "nsamples, nx, ny = x_train.shape\n",
    "d2_x_train = x_train.reshape((nsamples,nx*ny))\n",
    "\n",
    "nsamples_t, nx_t, ny_t = x_test.shape\n",
    "d2_x_test = x_test.reshape((nsamples_t,nx_t*ny_t))"
   ]
  },
  {
   "cell_type": "code",
   "execution_count": 30,
   "metadata": {},
   "outputs": [],
   "source": [
    "def digits_3_7(x, y):\n",
    "    x_37 = []\n",
    "    y_37 = []\n",
    "    for i in range(len(x)):\n",
    "        if y[i] == 3 or y[i] == 7:\n",
    "            x_37.append(x[i])\n",
    "            y_37.append(y[i])\n",
    "    return x_37, y_37\n",
    "\n",
    "x_train_37, y_train_37 = digits_3_7(d2_x_train, y_train)\n",
    "x_test_37, y_test_37 = digits_3_7(d2_x_test, y_test)"
   ]
  },
  {
   "cell_type": "code",
   "execution_count": 31,
   "metadata": {},
   "outputs": [
    {
     "data": {
      "text/plain": [
       "KNeighborsClassifier(algorithm='auto', leaf_size=30, metric='minkowski',\n",
       "                     metric_params=None, n_jobs=None, n_neighbors=5, p=2,\n",
       "                     weights='uniform')"
      ]
     },
     "execution_count": 31,
     "metadata": {},
     "output_type": "execute_result"
    }
   ],
   "source": [
    "neigh = KNeighborsClassifier(n_neighbors=5)\n",
    "neigh.fit(x_train_37, y_train_37)"
   ]
  },
  {
   "cell_type": "code",
   "execution_count": 32,
   "metadata": {},
   "outputs": [
    {
     "name": "stdout",
     "output_type": "stream",
     "text": [
      "The most optimal parameter of k is: {'n_neighbors': 3}\n",
      "The best accuracy score is: 0.9948370442078089\n"
     ]
    }
   ],
   "source": [
    "# creating a dictionary by specifing a range of values for ‘n_neighbors’ in order to see which value works best for our model (k = majority of nearest points to base evaluation from)\n",
    "k_n_param_37= {'n_neighbors': np.arange(3, 25, 2)}\n",
    "\n",
    "# using  grid search and cross-validation to test all values for n_neighbors\n",
    "hypertuned_knn_37 = GridSearchCV(neigh, k_n_param_37, cv = 5)\n",
    "\n",
    "# fitting model to data\n",
    "hypertuned_knn_37.fit(x_train_37, y_train_37)\n",
    "\n",
    "# checking for the most optimal  of k-value and corresponding training accuracy score\n",
    "print(\"The most optimal parameter of k is:\", hypertuned_knn_37.best_params_)\n",
    "print(\"The best accuracy score is:\", hypertuned_knn_37.best_score_)"
   ]
  },
  {
   "cell_type": "code",
   "execution_count": 33,
   "metadata": {},
   "outputs": [],
   "source": [
    "# evaluate the model\n",
    "predictions_37 = neigh.predict(x_test_37)"
   ]
  },
  {
   "cell_type": "code",
   "execution_count": 34,
   "metadata": {},
   "outputs": [
    {
     "name": "stdout",
     "output_type": "stream",
     "text": [
      "The error rate on a test dataset is: 0.006379\n"
     ]
    }
   ],
   "source": [
    "model_accuracy_37 = metrics.accuracy_score(y_test_37, predictions_37)\n",
    "print('The error rate on a test dataset is:', round(1 - model_accuracy_37,6))"
   ]
  },
  {
   "cell_type": "markdown",
   "metadata": {},
   "source": [
    "### References"
   ]
  },
  {
   "cell_type": "markdown",
   "metadata": {},
   "source": [
    "How can I interpret log transformed variables in terms of percent change in linear regression? | SAS FAQ. UCLA: Statistical Consulting Group. https://stats.oarc.ucla.edu/sas/faq/how-can-i-interpret-log-transformed-variables-in-terms-of-percent-change-in-linear-regression/"
   ]
  },
  {
   "cell_type": "code",
   "execution_count": null,
   "metadata": {},
   "outputs": [],
   "source": []
  }
 ],
 "metadata": {
  "kernelspec": {
   "display_name": "Python 3",
   "language": "python",
   "name": "python3"
  },
  "language_info": {
   "codemirror_mode": {
    "name": "ipython",
    "version": 3
   },
   "file_extension": ".py",
   "mimetype": "text/x-python",
   "name": "python",
   "nbconvert_exporter": "python",
   "pygments_lexer": "ipython3",
   "version": "3.7.3"
  }
 },
 "nbformat": 4,
 "nbformat_minor": 2
}
