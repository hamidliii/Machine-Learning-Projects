{
 "cells": [
  {
   "cell_type": "markdown",
   "metadata": {},
   "source": [
    "# Yosemite Village yearly weather"
   ]
  },
  {
   "cell_type": "markdown",
   "metadata": {},
   "source": [
    "## Step 1. Data loading and processing"
   ]
  },
  {
   "cell_type": "markdown",
   "metadata": {},
   "source": [
    "### 1.1 Loading the needed portion of the dataset and inspecting it"
   ]
  },
  {
   "cell_type": "code",
   "execution_count": 2,
   "metadata": {},
   "outputs": [],
   "source": [
    "from sklearn.metrics.pairwise import rbf_kernel\n",
    "from sklearn.linear_model import LinearRegression\n",
    "from sklearn.linear_model import Ridge\n",
    "from sklearn.model_selection import GridSearchCV\n",
    "from sklearn.model_selection import RepeatedKFold\n",
    "from sklearn.linear_model import RidgeCV\n",
    "from sklearn.metrics import r2_score\n",
    "\n",
    "\n",
    "\n",
    "import numpy as np\n",
    "import pandas as pd\n",
    "import datetime\n",
    "import matplotlib.pyplot as plt"
   ]
  },
  {
   "cell_type": "code",
   "execution_count": 4,
   "metadata": {},
   "outputs": [
    {
     "data": {
      "text/html": [
       "<div>\n",
       "<style scoped>\n",
       "    .dataframe tbody tr th:only-of-type {\n",
       "        vertical-align: middle;\n",
       "    }\n",
       "\n",
       "    .dataframe tbody tr th {\n",
       "        vertical-align: top;\n",
       "    }\n",
       "\n",
       "    .dataframe thead th {\n",
       "        text-align: right;\n",
       "    }\n",
       "</style>\n",
       "<table border=\"1\" class=\"dataframe\">\n",
       "  <thead>\n",
       "    <tr style=\"text-align: right;\">\n",
       "      <th></th>\n",
       "      <th>Date</th>\n",
       "      <th>Time: Hours, Minutes</th>\n",
       "      <th>Temperature</th>\n",
       "    </tr>\n",
       "  </thead>\n",
       "  <tbody>\n",
       "    <tr>\n",
       "      <th>631291</th>\n",
       "      <td>20161231.0</td>\n",
       "      <td>2340.0</td>\n",
       "      <td>0.3</td>\n",
       "    </tr>\n",
       "    <tr>\n",
       "      <th>631292</th>\n",
       "      <td>20161231.0</td>\n",
       "      <td>2345.0</td>\n",
       "      <td>0.2</td>\n",
       "    </tr>\n",
       "    <tr>\n",
       "      <th>631293</th>\n",
       "      <td>20161231.0</td>\n",
       "      <td>2350.0</td>\n",
       "      <td>0.0</td>\n",
       "    </tr>\n",
       "    <tr>\n",
       "      <th>631294</th>\n",
       "      <td>20161231.0</td>\n",
       "      <td>2355.0</td>\n",
       "      <td>-0.1</td>\n",
       "    </tr>\n",
       "    <tr>\n",
       "      <th>631295</th>\n",
       "      <td>20170101.0</td>\n",
       "      <td>0.0</td>\n",
       "      <td>-0.1</td>\n",
       "    </tr>\n",
       "  </tbody>\n",
       "</table>\n",
       "</div>"
      ],
      "text/plain": [
       "              Date  Time: Hours, Minutes  Temperature\n",
       "631291  20161231.0                2340.0          0.3\n",
       "631292  20161231.0                2345.0          0.2\n",
       "631293  20161231.0                2350.0          0.0\n",
       "631294  20161231.0                2355.0         -0.1\n",
       "631295  20170101.0                   0.0         -0.1"
      ]
     },
     "execution_count": 4,
     "metadata": {},
     "output_type": "execute_result"
    }
   ],
   "source": [
    "# Setting years used in the names of the datasets\n",
    "years = range(2011, 2017)\n",
    "# Loading data from same directory where this notebook is\n",
    "files = ['CRNS0101-05-%d-CA_Yosemite_Village_12_W.txt' % y for y in years]\n",
    "\n",
    "\n",
    "# Selecting the columns which will be used\n",
    "# Year, Time, and Temprature\n",
    "usecols = [1, 2, 8]\n",
    "data = [np.loadtxt(f, usecols = usecols) for f in files]\n",
    "data = np.vstack(data)\n",
    "\n",
    "\n",
    "# Converting the data to dataframe format\n",
    "df_temp = pd.DataFrame(data)\n",
    "\n",
    "# Naming the columns in the df\n",
    "df_temp.rename(columns={0: 'Date', \n",
    "                   1: 'Time: Hours, Minutes',\n",
    "                   2: 'Temperature', }, inplace=True)\n",
    "# Showing last 5 entries\n",
    "df_temp.tail()"
   ]
  },
  {
   "cell_type": "markdown",
   "metadata": {},
   "source": [
    "### 1.2 Checking for any irregularities in the data such as outliers \n",
    "We start with a historgram of the tempareture distribution to see if there are any outlier in the data which can be counted as obvious erroneous observations. "
   ]
  },
  {
   "cell_type": "code",
   "execution_count": 5,
   "metadata": {},
   "outputs": [
    {
     "data": {
      "text/plain": [
       "<matplotlib.axes._subplots.AxesSubplot at 0x7f8822618dd8>"
      ]
     },
     "execution_count": 5,
     "metadata": {},
     "output_type": "execute_result"
    },
    {
     "data": {
      "image/png": "[encoded data removed]",
      "text/plain": [
       "<Figure size 432x288 with 1 Axes>"
      ]
     },
     "metadata": {
      "needs_background": "light"
     },
     "output_type": "display_data"
    }
   ],
   "source": [
    "import seaborn as sns\n",
    "\n",
    "# Showcase the distribution of tmperature data \n",
    "sns.distplot(df_temp.Temperature, hist=True, color = 'pink')\n"
   ]
  },
  {
   "cell_type": "code",
   "execution_count": 6,
   "metadata": {},
   "outputs": [
    {
     "data": {
      "text/plain": [
       "29.9"
      ]
     },
     "execution_count": 6,
     "metadata": {},
     "output_type": "execute_result"
    }
   ],
   "source": [
    "# Checking for highest temperature \n",
    "max(df_temp.Temperature)"
   ]
  },
  {
   "cell_type": "markdown",
   "metadata": {},
   "source": [
    "The histogram shows us that the majoirty of the inputs is around 0 with highest at 29.9 C. However, there are some values on near -10000 celsius which is an imposible temperature input for our planet. Hence, we can check for anything below -100 and remove them as below that are erroneous observations. "
   ]
  },
  {
   "cell_type": "code",
   "execution_count": 7,
   "metadata": {},
   "outputs": [
    {
     "data": {
      "text/html": [
       "<div>\n",
       "<style scoped>\n",
       "    .dataframe tbody tr th:only-of-type {\n",
       "        vertical-align: middle;\n",
       "    }\n",
       "\n",
       "    .dataframe tbody tr th {\n",
       "        vertical-align: top;\n",
       "    }\n",
       "\n",
       "    .dataframe thead th {\n",
       "        text-align: right;\n",
       "    }\n",
       "</style>\n",
       "<table border=\"1\" class=\"dataframe\">\n",
       "  <thead>\n",
       "    <tr style=\"text-align: right;\">\n",
       "      <th></th>\n",
       "      <th>Date</th>\n",
       "      <th>Time: Hours, Minutes</th>\n",
       "      <th>Temperature</th>\n",
       "    </tr>\n",
       "  </thead>\n",
       "  <tbody>\n",
       "    <tr>\n",
       "      <th>0</th>\n",
       "      <td>20110101.0</td>\n",
       "      <td>5.0</td>\n",
       "      <td>-6.4</td>\n",
       "    </tr>\n",
       "    <tr>\n",
       "      <th>1</th>\n",
       "      <td>20110101.0</td>\n",
       "      <td>10.0</td>\n",
       "      <td>-6.5</td>\n",
       "    </tr>\n",
       "    <tr>\n",
       "      <th>2</th>\n",
       "      <td>20110101.0</td>\n",
       "      <td>15.0</td>\n",
       "      <td>-6.5</td>\n",
       "    </tr>\n",
       "    <tr>\n",
       "      <th>3</th>\n",
       "      <td>20110101.0</td>\n",
       "      <td>20.0</td>\n",
       "      <td>-6.5</td>\n",
       "    </tr>\n",
       "    <tr>\n",
       "      <th>4</th>\n",
       "      <td>20110101.0</td>\n",
       "      <td>25.0</td>\n",
       "      <td>-6.7</td>\n",
       "    </tr>\n",
       "  </tbody>\n",
       "</table>\n",
       "</div>"
      ],
      "text/plain": [
       "         Date  Time: Hours, Minutes  Temperature\n",
       "0  20110101.0                   5.0         -6.4\n",
       "1  20110101.0                  10.0         -6.5\n",
       "2  20110101.0                  15.0         -6.5\n",
       "3  20110101.0                  20.0         -6.5\n",
       "4  20110101.0                  25.0         -6.7"
      ]
     },
     "execution_count": 7,
     "metadata": {},
     "output_type": "execute_result"
    }
   ],
   "source": [
    "# Removing all the inputs lower than -100\n",
    "df_temp = df_temp[df_temp.Temperature >= -100]\n",
    "df_temp.head()"
   ]
  },
  {
   "cell_type": "code",
   "execution_count": 8,
   "metadata": {},
   "outputs": [
    {
     "data": {
      "text/plain": [
       "<matplotlib.axes._subplots.AxesSubplot at 0x7f8821d5ff60>"
      ]
     },
     "execution_count": 8,
     "metadata": {},
     "output_type": "execute_result"
    },
    {
     "data": {
      "image/png": "[encoded data removed]",
      "text/plain": [
       "<Figure size 432x288 with 1 Axes>"
      ]
     },
     "metadata": {
      "needs_background": "light"
     },
     "output_type": "display_data"
    }
   ],
   "source": [
    "# Showing the distribution after droping the irregular inputs\n",
    "sns.distplot(df_temp.Temperature, hist=True, color = 'pink', hist_kws={'edgecolor':'purple'})\n"
   ]
  },
  {
   "cell_type": "code",
   "execution_count": 9,
   "metadata": {},
   "outputs": [
    {
     "data": {
      "text/plain": [
       "-12.1"
      ]
     },
     "execution_count": 9,
     "metadata": {},
     "output_type": "execute_result"
    }
   ],
   "source": [
    "# Double checking the lowest temp\n",
    "min(df_temp.Temperature)"
   ]
  },
  {
   "cell_type": "markdown",
   "metadata": {},
   "source": [
    "### 1.3 Converting the dataset into a richer format whereby the day of the year is also captured => (ddd, mmm).\n",
    "\n",
    "For example the time “20150212 1605”, can be converted into (43, 965) because the 12th of February is the 43rd day of the year, and 16:05 is the 965th minute of the day."
   ]
  },
  {
   "cell_type": "code",
   "execution_count": 10,
   "metadata": {},
   "outputs": [
    {
     "data": {
      "text/html": [
       "<div>\n",
       "<style scoped>\n",
       "    .dataframe tbody tr th:only-of-type {\n",
       "        vertical-align: middle;\n",
       "    }\n",
       "\n",
       "    .dataframe tbody tr th {\n",
       "        vertical-align: top;\n",
       "    }\n",
       "\n",
       "    .dataframe thead th {\n",
       "        text-align: right;\n",
       "    }\n",
       "</style>\n",
       "<table border=\"1\" class=\"dataframe\">\n",
       "  <thead>\n",
       "    <tr style=\"text-align: right;\">\n",
       "      <th></th>\n",
       "      <th>Date</th>\n",
       "      <th>Time: Hours, Minutes</th>\n",
       "      <th>Temperature</th>\n",
       "    </tr>\n",
       "  </thead>\n",
       "  <tbody>\n",
       "    <tr>\n",
       "      <th>0</th>\n",
       "      <td>2011-01-01</td>\n",
       "      <td>5.0</td>\n",
       "      <td>-6.4</td>\n",
       "    </tr>\n",
       "    <tr>\n",
       "      <th>1</th>\n",
       "      <td>2011-01-01</td>\n",
       "      <td>10.0</td>\n",
       "      <td>-6.5</td>\n",
       "    </tr>\n",
       "    <tr>\n",
       "      <th>2</th>\n",
       "      <td>2011-01-01</td>\n",
       "      <td>15.0</td>\n",
       "      <td>-6.5</td>\n",
       "    </tr>\n",
       "    <tr>\n",
       "      <th>3</th>\n",
       "      <td>2011-01-01</td>\n",
       "      <td>20.0</td>\n",
       "      <td>-6.5</td>\n",
       "    </tr>\n",
       "    <tr>\n",
       "      <th>4</th>\n",
       "      <td>2011-01-01</td>\n",
       "      <td>25.0</td>\n",
       "      <td>-6.7</td>\n",
       "    </tr>\n",
       "  </tbody>\n",
       "</table>\n",
       "</div>"
      ],
      "text/plain": [
       "        Date  Time: Hours, Minutes  Temperature\n",
       "0 2011-01-01                   5.0         -6.4\n",
       "1 2011-01-01                  10.0         -6.5\n",
       "2 2011-01-01                  15.0         -6.5\n",
       "3 2011-01-01                  20.0         -6.5\n",
       "4 2011-01-01                  25.0         -6.7"
      ]
     },
     "execution_count": 10,
     "metadata": {},
     "output_type": "execute_result"
    }
   ],
   "source": [
    "# Coverting the date data into datetime format \n",
    "df_temp.Date = pd.to_datetime(df_temp.Date, format = ('%Y%m%d'))\n",
    "df_temp.head()"
   ]
  },
  {
   "cell_type": "code",
   "execution_count": 11,
   "metadata": {},
   "outputs": [
    {
     "data": {
      "text/html": [
       "<div>\n",
       "<style scoped>\n",
       "    .dataframe tbody tr th:only-of-type {\n",
       "        vertical-align: middle;\n",
       "    }\n",
       "\n",
       "    .dataframe tbody tr th {\n",
       "        vertical-align: top;\n",
       "    }\n",
       "\n",
       "    .dataframe thead th {\n",
       "        text-align: right;\n",
       "    }\n",
       "</style>\n",
       "<table border=\"1\" class=\"dataframe\">\n",
       "  <thead>\n",
       "    <tr style=\"text-align: right;\">\n",
       "      <th></th>\n",
       "      <th>Date</th>\n",
       "      <th>Time: Hours, Minutes</th>\n",
       "      <th>Temperature</th>\n",
       "      <th>Day</th>\n",
       "    </tr>\n",
       "  </thead>\n",
       "  <tbody>\n",
       "    <tr>\n",
       "      <th>0</th>\n",
       "      <td>2011-01-01</td>\n",
       "      <td>5.0</td>\n",
       "      <td>-6.4</td>\n",
       "      <td>1</td>\n",
       "    </tr>\n",
       "    <tr>\n",
       "      <th>1</th>\n",
       "      <td>2011-01-01</td>\n",
       "      <td>10.0</td>\n",
       "      <td>-6.5</td>\n",
       "      <td>1</td>\n",
       "    </tr>\n",
       "    <tr>\n",
       "      <th>2</th>\n",
       "      <td>2011-01-01</td>\n",
       "      <td>15.0</td>\n",
       "      <td>-6.5</td>\n",
       "      <td>1</td>\n",
       "    </tr>\n",
       "    <tr>\n",
       "      <th>3</th>\n",
       "      <td>2011-01-01</td>\n",
       "      <td>20.0</td>\n",
       "      <td>-6.5</td>\n",
       "      <td>1</td>\n",
       "    </tr>\n",
       "    <tr>\n",
       "      <th>4</th>\n",
       "      <td>2011-01-01</td>\n",
       "      <td>25.0</td>\n",
       "      <td>-6.7</td>\n",
       "      <td>1</td>\n",
       "    </tr>\n",
       "  </tbody>\n",
       "</table>\n",
       "</div>"
      ],
      "text/plain": [
       "        Date  Time: Hours, Minutes  Temperature  Day\n",
       "0 2011-01-01                   5.0         -6.4    1\n",
       "1 2011-01-01                  10.0         -6.5    1\n",
       "2 2011-01-01                  15.0         -6.5    1\n",
       "3 2011-01-01                  20.0         -6.5    1\n",
       "4 2011-01-01                  25.0         -6.7    1"
      ]
     },
     "execution_count": 11,
     "metadata": {},
     "output_type": "execute_result"
    }
   ],
   "source": [
    "# Adding a column showcasing the number of days passed since start of the year \n",
    "df_temp['Day'] = df_temp.Date.dt.strftime('%j').astype(int)\n",
    "df_temp.head()"
   ]
  },
  {
   "cell_type": "code",
   "execution_count": 12,
   "metadata": {},
   "outputs": [
    {
     "data": {
      "text/html": [
       "<div>\n",
       "<style scoped>\n",
       "    .dataframe tbody tr th:only-of-type {\n",
       "        vertical-align: middle;\n",
       "    }\n",
       "\n",
       "    .dataframe tbody tr th {\n",
       "        vertical-align: top;\n",
       "    }\n",
       "\n",
       "    .dataframe thead th {\n",
       "        text-align: right;\n",
       "    }\n",
       "</style>\n",
       "<table border=\"1\" class=\"dataframe\">\n",
       "  <thead>\n",
       "    <tr style=\"text-align: right;\">\n",
       "      <th></th>\n",
       "      <th>Date</th>\n",
       "      <th>Time: Hours, Minutes</th>\n",
       "      <th>Temperature</th>\n",
       "      <th>Day</th>\n",
       "      <th>Min</th>\n",
       "    </tr>\n",
       "  </thead>\n",
       "  <tbody>\n",
       "    <tr>\n",
       "      <th>0</th>\n",
       "      <td>2011-01-01</td>\n",
       "      <td>5.0</td>\n",
       "      <td>-6.4</td>\n",
       "      <td>1</td>\n",
       "      <td>5.0</td>\n",
       "    </tr>\n",
       "    <tr>\n",
       "      <th>1</th>\n",
       "      <td>2011-01-01</td>\n",
       "      <td>10.0</td>\n",
       "      <td>-6.5</td>\n",
       "      <td>1</td>\n",
       "      <td>10.0</td>\n",
       "    </tr>\n",
       "    <tr>\n",
       "      <th>2</th>\n",
       "      <td>2011-01-01</td>\n",
       "      <td>15.0</td>\n",
       "      <td>-6.5</td>\n",
       "      <td>1</td>\n",
       "      <td>15.0</td>\n",
       "    </tr>\n",
       "    <tr>\n",
       "      <th>3</th>\n",
       "      <td>2011-01-01</td>\n",
       "      <td>20.0</td>\n",
       "      <td>-6.5</td>\n",
       "      <td>1</td>\n",
       "      <td>20.0</td>\n",
       "    </tr>\n",
       "    <tr>\n",
       "      <th>4</th>\n",
       "      <td>2011-01-01</td>\n",
       "      <td>25.0</td>\n",
       "      <td>-6.7</td>\n",
       "      <td>1</td>\n",
       "      <td>25.0</td>\n",
       "    </tr>\n",
       "  </tbody>\n",
       "</table>\n",
       "</div>"
      ],
      "text/plain": [
       "        Date  Time: Hours, Minutes  Temperature  Day   Min\n",
       "0 2011-01-01                   5.0         -6.4    1   5.0\n",
       "1 2011-01-01                  10.0         -6.5    1  10.0\n",
       "2 2011-01-01                  15.0         -6.5    1  15.0\n",
       "3 2011-01-01                  20.0         -6.5    1  20.0\n",
       "4 2011-01-01                  25.0         -6.7    1  25.0"
      ]
     },
     "execution_count": 12,
     "metadata": {},
     "output_type": "execute_result"
    }
   ],
   "source": [
    "# Adding a column showcasing the number of minutes passed since start of the day\n",
    "df_temp['Min'] = np.floor(df_temp['Time: Hours, Minutes']/100)*60 + np.mod(\n",
    "    df_temp['Time: Hours, Minutes'], 100)\n",
    "df_temp.head()\n"
   ]
  },
  {
   "cell_type": "code",
   "execution_count": 13,
   "metadata": {},
   "outputs": [
    {
     "data": {
      "text/html": [
       "<div>\n",
       "<style scoped>\n",
       "    .dataframe tbody tr th:only-of-type {\n",
       "        vertical-align: middle;\n",
       "    }\n",
       "\n",
       "    .dataframe tbody tr th {\n",
       "        vertical-align: top;\n",
       "    }\n",
       "\n",
       "    .dataframe thead th {\n",
       "        text-align: right;\n",
       "    }\n",
       "</style>\n",
       "<table border=\"1\" class=\"dataframe\">\n",
       "  <thead>\n",
       "    <tr style=\"text-align: right;\">\n",
       "      <th></th>\n",
       "      <th>Date</th>\n",
       "      <th>Time: Hours, Minutes</th>\n",
       "      <th>Temperature</th>\n",
       "      <th>Day</th>\n",
       "      <th>Min</th>\n",
       "      <th>Year</th>\n",
       "    </tr>\n",
       "  </thead>\n",
       "  <tbody>\n",
       "    <tr>\n",
       "      <th>631291</th>\n",
       "      <td>2016-12-31</td>\n",
       "      <td>2340.0</td>\n",
       "      <td>0.3</td>\n",
       "      <td>366</td>\n",
       "      <td>1420.0</td>\n",
       "      <td>2016</td>\n",
       "    </tr>\n",
       "    <tr>\n",
       "      <th>631292</th>\n",
       "      <td>2016-12-31</td>\n",
       "      <td>2345.0</td>\n",
       "      <td>0.2</td>\n",
       "      <td>366</td>\n",
       "      <td>1425.0</td>\n",
       "      <td>2016</td>\n",
       "    </tr>\n",
       "    <tr>\n",
       "      <th>631293</th>\n",
       "      <td>2016-12-31</td>\n",
       "      <td>2350.0</td>\n",
       "      <td>0.0</td>\n",
       "      <td>366</td>\n",
       "      <td>1430.0</td>\n",
       "      <td>2016</td>\n",
       "    </tr>\n",
       "    <tr>\n",
       "      <th>631294</th>\n",
       "      <td>2016-12-31</td>\n",
       "      <td>2355.0</td>\n",
       "      <td>-0.1</td>\n",
       "      <td>366</td>\n",
       "      <td>1435.0</td>\n",
       "      <td>2016</td>\n",
       "    </tr>\n",
       "    <tr>\n",
       "      <th>631295</th>\n",
       "      <td>2017-01-01</td>\n",
       "      <td>0.0</td>\n",
       "      <td>-0.1</td>\n",
       "      <td>1</td>\n",
       "      <td>0.0</td>\n",
       "      <td>2017</td>\n",
       "    </tr>\n",
       "  </tbody>\n",
       "</table>\n",
       "</div>"
      ],
      "text/plain": [
       "             Date  Time: Hours, Minutes  Temperature  Day     Min  Year\n",
       "631291 2016-12-31                2340.0          0.3  366  1420.0  2016\n",
       "631292 2016-12-31                2345.0          0.2  366  1425.0  2016\n",
       "631293 2016-12-31                2350.0          0.0  366  1430.0  2016\n",
       "631294 2016-12-31                2355.0         -0.1  366  1435.0  2016\n",
       "631295 2017-01-01                   0.0         -0.1    1     0.0  2017"
      ]
     },
     "execution_count": 13,
     "metadata": {},
     "output_type": "execute_result"
    }
   ],
   "source": [
    "# Adding a column showing only the year \n",
    "df_temp['Year'] = df_temp['Date'].dt.year\n",
    "df_temp.tail()"
   ]
  },
  {
   "cell_type": "markdown",
   "metadata": {},
   "source": [
    "## Step 2. Splitting data into training and test set"
   ]
  },
  {
   "cell_type": "markdown",
   "metadata": {},
   "source": [
    "This data covers 6 years, so split the data into a training set of the first 5 years, and a testing set of the 6th year."
   ]
  },
  {
   "cell_type": "code",
   "execution_count": 14,
   "metadata": {},
   "outputs": [],
   "source": [
    "# Creating a split point at 2016 \n",
    "split = np.where(np.logical_and(df_temp.Date == '2016-01-01 00:00:00' , df_temp.Min == 0))[0][0]\n",
    "\n",
    "# Splitting into train and test data\n",
    "train = df_temp.iloc[:split]\n",
    "test = df_temp.iloc[split:]\n",
    "\n",
    "# Converting train and test dataframe values into arrays\n",
    "train = train.values \n",
    "test = test.values"
   ]
  },
  {
   "cell_type": "markdown",
   "metadata": {},
   "source": [
    "As we will be training model on daily, yearly and fully components, we need to split data into those components. "
   ]
  },
  {
   "cell_type": "code",
   "execution_count": 15,
   "metadata": {},
   "outputs": [],
   "source": [
    "# Creating training dataset for each component of the dataset \n",
    "train_temp = np.array(train[:, 2])\n",
    "train_days = np.array(train[:, 3])\n",
    "train_mins = np.array(train[:, 4])\n",
    "\n",
    "\n",
    "# Creating testing dataset for each component of the dataset \n",
    "test_temp = np.array(test[:, 2])\n",
    "test_days = np.array(test[:, 3])\n",
    "test_mins = np.array(test[:, 4])\n"
   ]
  },
  {
   "cell_type": "code",
   "execution_count": 16,
   "metadata": {},
   "outputs": [],
   "source": [
    "# Transforming all data sets into columns from rows\n",
    "train_temp, test_temp = train_temp.reshape(-1,1), test_temp.reshape(-1,1)\n",
    "train_mins, test_mins = train_mins.reshape(-1,1), test_mins.reshape(-1,1)\n",
    "train_days, test_days = train_days.reshape(-1,1), test_days.reshape(-1,1)\n",
    "\n",
    "# Getting all the values for mins, days and years\n",
    "mins = df_temp['Min'].values.reshape(-1, 1)\n",
    "days = df_temp['Day'].values.reshape(-1, 1)"
   ]
  },
  {
   "cell_type": "markdown",
   "metadata": {},
   "source": [
    "## Step 3. Cover each input dimension with a list of radial basis functions."
   ]
  },
  {
   "cell_type": "markdown",
   "metadata": {},
   "source": [
    "This turns the pair of inputs into a much richer representation, mapping (d,t) into (Φ₁(d), Φ₂(t)). Here, I experiment with different numbers of radial basis functions and different widths of the radial basis function in different dimensions.\n",
    "\n",
    "\n",
    "In the case of RBF kernels, except the parameter c, there is one more to fine-tune, the sigma parameter (σ) (bandwidth of kernel function). This parameter controls the level of non-linearity introduced in the model. If the sigma value is very small, then the decision boundary is highly non-linear."
   ]
  },
  {
   "cell_type": "markdown",
   "metadata": {},
   "source": [
    "### 3.1.  Defining all the needed functions to  build a linear parameter model that captures both seasonal variations and daily variations."
   ]
  },
  {
   "cell_type": "code",
   "execution_count": 62,
   "metadata": {},
   "outputs": [],
   "source": [
    "def r2(train_x, train_y, test_x=[], test_y=[], test=False):\n",
    "    \"\"\"\n",
    "        Function calculates R² for a given model based on the training and test data.\n",
    "    \"\"\"\n",
    "    # Using 10-fold cross-validation to avoid overfitting as we have big dataset \n",
    "    cv = RepeatedKFold(n_splits=10, n_repeats=3, random_state=1)\n",
    "    # Defining the model and automatically picking best alpha \n",
    "    regression_model = RidgeCV(alphas= np.arange(0, 1, 0.01), cv=cv, fit_intercept=False)\n",
    "    regression_model.fit(train_x, train_y)\n",
    "    \n",
    "    if test:\n",
    "        return regression_model.score(train_x, train_y), regression_model.score(test_x, test_y)\n",
    "    else:\n",
    "        return regression_model.score(train_x, train_y)\n",
    "\n",
    "def centers_min(num):\n",
    "    \"\"\"\n",
    "        Function creates n number for the RBF by dividing the range of minutes of the \n",
    "        day into same distances.\n",
    "    \"\"\"\n",
    "    # Return reshaped the list of centers as columns\n",
    "    return np.linspace(0, 1440, num).reshape(-1,1)\n",
    "\n",
    "def centers_days(num):\n",
    "    \"\"\"\n",
    "        Function creates n number for the RBF by dividing the range of the day of the \n",
    "        year into same distances.\n",
    "    \"\"\"\n",
    "    # Return reshaped the list of centers as columns\n",
    "    return np.linspace(0, 366, num).reshape(-1,1)\n",
    "\n",
    "def RBF(x_axis, centers, bandwidth):\n",
    "    \"\"\"\n",
    "        Function returns RBF based on different numbers of radial basis functions and\n",
    "        different bandwidths of the radial basis function in different dimensions.\n",
    "    \"\"\"\n",
    "    rbf_results = rbf_kernel(x_axis, centers, gamma=1.0/bandwidth)\n",
    "    \n",
    "    return rbf_results\n"
   ]
  },
  {
   "cell_type": "markdown",
   "metadata": {},
   "source": [
    "### 3.2. Daily variations without RBF cover."
   ]
  },
  {
   "cell_type": "code",
   "execution_count": 18,
   "metadata": {},
   "outputs": [],
   "source": [
    "# Setting pre-split data to train and test sets\n",
    "x_train = train_mins\n",
    "y_train = train_temp\n",
    "\n",
    "# Setting the model \n",
    "regr = LinearRegression()\n",
    "regr.fit(train_mins, train_temp)\n",
    "\n",
    "x_plot = [[0], [1435]]\n",
    "y_predict = regr.predict(x_plot)"
   ]
  },
  {
   "cell_type": "code",
   "execution_count": 69,
   "metadata": {},
   "outputs": [
    {
     "data": {
      "image/png": "[encoded data removed]",
      "text/plain": [
       "<Figure size 864x576 with 1 Axes>"
      ]
     },
     "metadata": {
      "needs_background": "light"
     },
     "output_type": "display_data"
    }
   ],
   "source": [
    "# Plotting the linear parameter model for time-of-day contributions \n",
    "plt.figure(figsize=(12,8))\n",
    "plt.scatter(train_mins, train_temp, label='Data', color='lightblue')\n",
    "plt.plot(x_plot, y_predict, label='Linear prediction', color='pink')\n",
    "plt.legend(loc='best')\n",
    "plt.title(\"Running a linear regression on time-of-day temprature\")\n",
    "plt.xlabel(\"Minute of Day\")\n",
    "plt.ylabel(\"Temperature (C)\")\n",
    "plt.show()"
   ]
  },
  {
   "cell_type": "code",
   "execution_count": 19,
   "metadata": {},
   "outputs": [
    {
     "name": "stdout",
     "output_type": "stream",
     "text": [
      "R^2 for training mins data without RBF: 0.0171\n",
      "R^2 for testing mins data without RBF: 0.0178\n"
     ]
    }
   ],
   "source": [
    "# Looking into R^2 error before covering each input dimension with a list of radial basis functions\n",
    "print (f\"R^2 for training mins data without RBF: {round(regr.score(x_train, y_train),4)}\")\n",
    "print (f\"R^2 for testing mins data without RBF: {round(regr.score(test_mins, test_temp),4)}\")\n"
   ]
  },
  {
   "cell_type": "markdown",
   "metadata": {},
   "source": [
    "### 3.3. Daily variations with RBF cover."
   ]
  },
  {
   "cell_type": "code",
   "execution_count": 20,
   "metadata": {},
   "outputs": [],
   "source": [
    "mins_centers = 10\n",
    "mins_bandwidth = 50\n",
    "\n",
    "# Covering each input dimension with a list of radial basis functions\n",
    "rbf_train_mins = RBF(train_mins, centers_min(mins_centers), mins_bandwidth)\n",
    "rbf_test_mins = RBF(test_mins, centers_min(mins_centers), mins_bandwidth)\n",
    "\n",
    "# Setting the model \n",
    "# regr = Ridge(alpha=0.0001, fit_intercept=False)\n",
    "regr = LinearRegression()\n",
    "regr.fit(rbf_train_mins, train_temp)\n",
    "y_predict_test = regr.predict(rbf_test_mins)\n",
    "y_pred_train = regr.predict(rbf_train_mins)\n",
    "\n"
   ]
  },
  {
   "cell_type": "code",
   "execution_count": 75,
   "metadata": {},
   "outputs": [
    {
     "data": {
      "image/png": "[encoded data removed]",
      "text/plain": [
       "<Figure size 864x576 with 1 Axes>"
      ]
     },
     "metadata": {
      "needs_background": "light"
     },
     "output_type": "display_data"
    }
   ],
   "source": [
    "# Plotting the RBF-applied linear parameter model for time-of-day contributions \n",
    "plt.figure(figsize=(12,8))\n",
    "plt.scatter(train_mins, train_temp, label='Data', color='lightblue')\n",
    "plt.plot(test_mins, y_predict_test, label='Linear prediction after RBF', color='pink')\n",
    "plt.legend(loc='best')\n",
    "plt.title(\"Running a linear regression on time-of-day temprature\")\n",
    "plt.xlabel(\"Minutes of a Day\")\n",
    "plt.ylabel(\"Temperature (C)\")\n",
    "plt.show()"
   ]
  },
  {
   "cell_type": "code",
   "execution_count": 21,
   "metadata": {},
   "outputs": [
    {
     "name": "stdout",
     "output_type": "stream",
     "text": [
      "R^2 for training mins data with RBF: 0.005\n",
      "R^2 for testing mins data with RBF: 0.0048\n"
     ]
    }
   ],
   "source": [
    "from sklearn.metrics import r2_score\n",
    "# Looking into R^2 error after covering each input dimension with a list of radial basis functions\n",
    "print(f\"R^2 for training mins data with RBF: {round(r2_score(train_temp, y_pred_train),4)}\")\n",
    "print(f\"R^2 for testing mins data with RBF: {round(r2_score(test_temp, y_predict_test),4)}\")\n"
   ]
  },
  {
   "cell_type": "markdown",
   "metadata": {},
   "source": [
    "### 3.4. Seasonal changes model without RBF cover."
   ]
  },
  {
   "cell_type": "code",
   "execution_count": 22,
   "metadata": {},
   "outputs": [],
   "source": [
    "# Setting the model \n",
    "regr = LinearRegression()\n",
    "regr.fit(train_days, train_temp)\n",
    "\n",
    "x_plot = [[0], [366]]\n",
    "y_predict = regr.predict(x_plot)"
   ]
  },
  {
   "cell_type": "code",
   "execution_count": 78,
   "metadata": {},
   "outputs": [
    {
     "data": {
      "image/png": "[encoded data removed]",
      "text/plain": [
       "<Figure size 864x576 with 1 Axes>"
      ]
     },
     "metadata": {
      "needs_background": "light"
     },
     "output_type": "display_data"
    }
   ],
   "source": [
    "# Plotting the linear parameter model for time-of-year contributions \n",
    "plt.figure(figsize=(12,8))\n",
    "plt.scatter(train_days, train_temp, label='Data', color='lightblue')\n",
    "plt.plot(x_plot, y_predict, label='Linear prediction', color='orange')\n",
    "plt.legend(loc='best')\n",
    "plt.title(\"Running a linear regression on time-of-year temprature\")\n",
    "plt.xlabel(\"Days of Year\")\n",
    "plt.ylabel(\"Temperature (C)\")\n",
    "plt.show()"
   ]
  },
  {
   "cell_type": "code",
   "execution_count": 23,
   "metadata": {},
   "outputs": [
    {
     "name": "stdout",
     "output_type": "stream",
     "text": [
      "R^2 for training days data without RBF: 0.0326\n",
      "R^2 for testing days data without RBF: 0.0409\n"
     ]
    }
   ],
   "source": [
    "# Looking into R^2 error before covering each input dimension with a list of radial basis functions\n",
    "print(f\"R^2 for training days data without RBF: {round(regr.score(train_days, train_temp),4)}\")\n",
    "print(f\"R^2 for testing days data without RBF: {round(regr.score(test_days, test_temp),4)}\")\n",
    "\n"
   ]
  },
  {
   "cell_type": "markdown",
   "metadata": {},
   "source": [
    "### 3.5. Seasonal changes model with RBF cover."
   ]
  },
  {
   "cell_type": "code",
   "execution_count": 24,
   "metadata": {},
   "outputs": [],
   "source": [
    "days_centers = 5\n",
    "days_bandwidth = 10\n",
    "\n",
    "# Covering each input dimension with a list of radial basis functions\n",
    "rbf_train_days = RBF(train_days, centers_days(days_centers), days_bandwidth)\n",
    "rbf_test_days = RBF(test_days, centers_days(days_centers), days_bandwidth)\n",
    "\n",
    "# Setting the model \n",
    "# regr = Ridge(alpha=0.0001, fit_intercept=False)\n",
    "regr = LinearRegression()\n",
    "regr.fit(rbf_train_days, train_temp)\n",
    "\n",
    "y_predict_train = regr.predict(rbf_train_days)\n",
    "y_predict_test = regr.predict(rbf_test_days)"
   ]
  },
  {
   "cell_type": "code",
   "execution_count": 85,
   "metadata": {},
   "outputs": [
    {
     "data": {
      "image/png": "[encoded data removed]",
      "text/plain": [
       "<Figure size 864x576 with 1 Axes>"
      ]
     },
     "metadata": {
      "needs_background": "light"
     },
     "output_type": "display_data"
    }
   ],
   "source": [
    "# Plotting the RBF-applied linear parameter model for time-of-year contributions \n",
    "plt.figure(figsize=(12,8))\n",
    "plt.scatter(train_days, train_temp, label='Data', color='lightblue')\n",
    "plt.plot(test_days, y_predict_test, label='Linear prediction after RBF', color='orange')\n",
    "plt.legend(loc='best')\n",
    "plt.title(\"Running a linear regression on time-of-year temprature\")\n",
    "plt.xlabel(\"Days of Year\")\n",
    "plt.ylabel(\"Temperature (C)\")\n",
    "plt.show()"
   ]
  },
  {
   "cell_type": "code",
   "execution_count": 25,
   "metadata": {},
   "outputs": [
    {
     "name": "stdout",
     "output_type": "stream",
     "text": [
      "R^2 for training days data with RBF: 0.0674\n",
      "R^2 for testing days data with RBF: 0.0649\n"
     ]
    }
   ],
   "source": [
    "# Looking into R^2 error after covering each input dimension with a list of radial basis functions\n",
    "print (f\"R^2 for training days data with RBF: {round(r2_score(train_temp, y_predict_train),4)}\")\n",
    "print (f\"R^2 for testing days data with RBF: {round(r2_score(test_temp, y_predict_test),4)}\")\n",
    "\n"
   ]
  },
  {
   "cell_type": "markdown",
   "metadata": {},
   "source": [
    "## Step 4. Experiment with different numbers of radial basis functions and different widths of the radial basis function in different dimensions."
   ]
  },
  {
   "cell_type": "code",
   "execution_count": 59,
   "metadata": {},
   "outputs": [
    {
     "data": {
      "text/html": [
       "<div>\n",
       "<style scoped>\n",
       "    .dataframe tbody tr th:only-of-type {\n",
       "        vertical-align: middle;\n",
       "    }\n",
       "\n",
       "    .dataframe tbody tr th {\n",
       "        vertical-align: top;\n",
       "    }\n",
       "\n",
       "    .dataframe thead th {\n",
       "        text-align: right;\n",
       "    }\n",
       "</style>\n",
       "<table border=\"1\" class=\"dataframe\">\n",
       "  <thead>\n",
       "    <tr style=\"text-align: right;\">\n",
       "      <th></th>\n",
       "      <th>Centers Num.</th>\n",
       "      <th>Bandwidth</th>\n",
       "      <th>Full Model Test R^2</th>\n",
       "      <th>Full Model Train R^2</th>\n",
       "      <th>Days Testing R^2</th>\n",
       "      <th>Days Training R^2</th>\n",
       "      <th>Mins Testing R^2</th>\n",
       "      <th>Mins Training R^2</th>\n",
       "    </tr>\n",
       "  </thead>\n",
       "  <tbody>\n",
       "    <tr>\n",
       "      <th>0</th>\n",
       "      <td>1</td>\n",
       "      <td>0.1</td>\n",
       "      <td>0.005837</td>\n",
       "      <td>0.005166</td>\n",
       "      <td>0.005662</td>\n",
       "      <td>0.005007</td>\n",
       "      <td>0.000175</td>\n",
       "      <td>0.000044</td>\n",
       "    </tr>\n",
       "    <tr>\n",
       "      <th>1</th>\n",
       "      <td>1</td>\n",
       "      <td>1.0</td>\n",
       "      <td>0.009409</td>\n",
       "      <td>0.006280</td>\n",
       "      <td>0.009047</td>\n",
       "      <td>0.005949</td>\n",
       "      <td>0.000363</td>\n",
       "      <td>0.000216</td>\n",
       "    </tr>\n",
       "    <tr>\n",
       "      <th>2</th>\n",
       "      <td>1</td>\n",
       "      <td>10.0</td>\n",
       "      <td>0.020786</td>\n",
       "      <td>0.016530</td>\n",
       "      <td>0.020396</td>\n",
       "      <td>0.016173</td>\n",
       "      <td>0.000390</td>\n",
       "      <td>0.000242</td>\n",
       "    </tr>\n",
       "    <tr>\n",
       "      <th>3</th>\n",
       "      <td>1</td>\n",
       "      <td>100.0</td>\n",
       "      <td>0.052691</td>\n",
       "      <td>0.078698</td>\n",
       "      <td>0.051786</td>\n",
       "      <td>0.077858</td>\n",
       "      <td>0.000905</td>\n",
       "      <td>0.000723</td>\n",
       "    </tr>\n",
       "    <tr>\n",
       "      <th>4</th>\n",
       "      <td>1</td>\n",
       "      <td>1000.0</td>\n",
       "      <td>0.161596</td>\n",
       "      <td>0.241109</td>\n",
       "      <td>0.158683</td>\n",
       "      <td>0.238406</td>\n",
       "      <td>0.002911</td>\n",
       "      <td>0.002578</td>\n",
       "    </tr>\n",
       "    <tr>\n",
       "      <th>5</th>\n",
       "      <td>1</td>\n",
       "      <td>10000.0</td>\n",
       "      <td>0.399139</td>\n",
       "      <td>0.479676</td>\n",
       "      <td>0.389047</td>\n",
       "      <td>0.470270</td>\n",
       "      <td>0.010075</td>\n",
       "      <td>0.009320</td>\n",
       "    </tr>\n",
       "    <tr>\n",
       "      <th>6</th>\n",
       "      <td>10</td>\n",
       "      <td>0.1</td>\n",
       "      <td>0.018599</td>\n",
       "      <td>0.034018</td>\n",
       "      <td>0.017568</td>\n",
       "      <td>0.033268</td>\n",
       "      <td>0.001052</td>\n",
       "      <td>0.000905</td>\n",
       "    </tr>\n",
       "    <tr>\n",
       "      <th>7</th>\n",
       "      <td>10</td>\n",
       "      <td>1.0</td>\n",
       "      <td>0.043408</td>\n",
       "      <td>0.074377</td>\n",
       "      <td>0.041861</td>\n",
       "      <td>0.072816</td>\n",
       "      <td>0.001548</td>\n",
       "      <td>0.001446</td>\n",
       "    </tr>\n",
       "    <tr>\n",
       "      <th>8</th>\n",
       "      <td>10</td>\n",
       "      <td>10.0</td>\n",
       "      <td>0.134682</td>\n",
       "      <td>0.188252</td>\n",
       "      <td>0.132252</td>\n",
       "      <td>0.185783</td>\n",
       "      <td>0.002430</td>\n",
       "      <td>0.002356</td>\n",
       "    </tr>\n",
       "    <tr>\n",
       "      <th>9</th>\n",
       "      <td>10</td>\n",
       "      <td>100.0</td>\n",
       "      <td>0.399063</td>\n",
       "      <td>0.435751</td>\n",
       "      <td>0.391726</td>\n",
       "      <td>0.428364</td>\n",
       "      <td>0.007328</td>\n",
       "      <td>0.007276</td>\n",
       "    </tr>\n",
       "    <tr>\n",
       "      <th>10</th>\n",
       "      <td>10</td>\n",
       "      <td>1000.0</td>\n",
       "      <td>0.593338</td>\n",
       "      <td>0.594058</td>\n",
       "      <td>0.570593</td>\n",
       "      <td>0.571343</td>\n",
       "      <td>0.022623</td>\n",
       "      <td>0.022618</td>\n",
       "    </tr>\n",
       "    <tr>\n",
       "      <th>11</th>\n",
       "      <td>10</td>\n",
       "      <td>10000.0</td>\n",
       "      <td>0.614489</td>\n",
       "      <td>0.616303</td>\n",
       "      <td>0.569807</td>\n",
       "      <td>0.572029</td>\n",
       "      <td>0.044438</td>\n",
       "      <td>0.044212</td>\n",
       "    </tr>\n",
       "    <tr>\n",
       "      <th>12</th>\n",
       "      <td>50</td>\n",
       "      <td>0.1</td>\n",
       "      <td>0.088075</td>\n",
       "      <td>0.065204</td>\n",
       "      <td>0.086934</td>\n",
       "      <td>0.065121</td>\n",
       "      <td>0.004796</td>\n",
       "      <td>0.004687</td>\n",
       "    </tr>\n",
       "    <tr>\n",
       "      <th>13</th>\n",
       "      <td>50</td>\n",
       "      <td>1.0</td>\n",
       "      <td>0.220147</td>\n",
       "      <td>0.174313</td>\n",
       "      <td>0.212036</td>\n",
       "      <td>0.166224</td>\n",
       "      <td>0.008084</td>\n",
       "      <td>0.007974</td>\n",
       "    </tr>\n",
       "    <tr>\n",
       "      <th>14</th>\n",
       "      <td>50</td>\n",
       "      <td>10.0</td>\n",
       "      <td>0.582054</td>\n",
       "      <td>0.536348</td>\n",
       "      <td>0.568871</td>\n",
       "      <td>0.523282</td>\n",
       "      <td>0.013105</td>\n",
       "      <td>0.012973</td>\n",
       "    </tr>\n",
       "    <tr>\n",
       "      <th>15</th>\n",
       "      <td>50</td>\n",
       "      <td>100.0</td>\n",
       "      <td>0.629662</td>\n",
       "      <td>0.579259</td>\n",
       "      <td>0.591146</td>\n",
       "      <td>0.541026</td>\n",
       "      <td>0.038321</td>\n",
       "      <td>0.038116</td>\n",
       "    </tr>\n",
       "    <tr>\n",
       "      <th>16</th>\n",
       "      <td>50</td>\n",
       "      <td>1000.0</td>\n",
       "      <td>0.634838</td>\n",
       "      <td>0.582438</td>\n",
       "      <td>0.590032</td>\n",
       "      <td>0.536734</td>\n",
       "      <td>0.044512</td>\n",
       "      <td>0.044281</td>\n",
       "    </tr>\n",
       "    <tr>\n",
       "      <th>17</th>\n",
       "      <td>50</td>\n",
       "      <td>10000.0</td>\n",
       "      <td>0.621491</td>\n",
       "      <td>0.593342</td>\n",
       "      <td>0.576719</td>\n",
       "      <td>0.550933</td>\n",
       "      <td>0.044512</td>\n",
       "      <td>0.044281</td>\n",
       "    </tr>\n",
       "  </tbody>\n",
       "</table>\n",
       "</div>"
      ],
      "text/plain": [
       "    Centers Num.  Bandwidth  Full Model Test R^2  Full Model Train R^2  \\\n",
       "0              1        0.1             0.005837              0.005166   \n",
       "1              1        1.0             0.009409              0.006280   \n",
       "2              1       10.0             0.020786              0.016530   \n",
       "3              1      100.0             0.052691              0.078698   \n",
       "4              1     1000.0             0.161596              0.241109   \n",
       "5              1    10000.0             0.399139              0.479676   \n",
       "6             10        0.1             0.018599              0.034018   \n",
       "7             10        1.0             0.043408              0.074377   \n",
       "8             10       10.0             0.134682              0.188252   \n",
       "9             10      100.0             0.399063              0.435751   \n",
       "10            10     1000.0             0.593338              0.594058   \n",
       "11            10    10000.0             0.614489              0.616303   \n",
       "12            50        0.1             0.088075              0.065204   \n",
       "13            50        1.0             0.220147              0.174313   \n",
       "14            50       10.0             0.582054              0.536348   \n",
       "15            50      100.0             0.629662              0.579259   \n",
       "16            50     1000.0             0.634838              0.582438   \n",
       "17            50    10000.0             0.621491              0.593342   \n",
       "\n",
       "    Days Testing R^2  Days Training R^2  Mins Testing R^2  Mins Training R^2  \n",
       "0           0.005662           0.005007          0.000175           0.000044  \n",
       "1           0.009047           0.005949          0.000363           0.000216  \n",
       "2           0.020396           0.016173          0.000390           0.000242  \n",
       "3           0.051786           0.077858          0.000905           0.000723  \n",
       "4           0.158683           0.238406          0.002911           0.002578  \n",
       "5           0.389047           0.470270          0.010075           0.009320  \n",
       "6           0.017568           0.033268          0.001052           0.000905  \n",
       "7           0.041861           0.072816          0.001548           0.001446  \n",
       "8           0.132252           0.185783          0.002430           0.002356  \n",
       "9           0.391726           0.428364          0.007328           0.007276  \n",
       "10          0.570593           0.571343          0.022623           0.022618  \n",
       "11          0.569807           0.572029          0.044438           0.044212  \n",
       "12          0.086934           0.065121          0.004796           0.004687  \n",
       "13          0.212036           0.166224          0.008084           0.007974  \n",
       "14          0.568871           0.523282          0.013105           0.012973  \n",
       "15          0.591146           0.541026          0.038321           0.038116  \n",
       "16          0.590032           0.536734          0.044512           0.044281  \n",
       "17          0.576719           0.550933          0.044512           0.044281  "
      ]
     },
     "execution_count": 59,
     "metadata": {},
     "output_type": "execute_result"
    }
   ],
   "source": [
    "# This code piece took me 3+ hours, so think twice before running it\n",
    "# Generating different center numbers between between 1 and 50\n",
    "center_n = [1, 10, 50]\n",
    "# Placeholders for the centers \n",
    "center_mins = []\n",
    "center_days = []\n",
    "\n",
    "# Calculate the centers for mins and days\n",
    "for c in center_n:\n",
    "    center_mins.append(centers_min(c))\n",
    "    \n",
    "for c in center_n:\n",
    "    center_days.append(centers_days(c))\n",
    "        \n",
    "# Creating a list of various bandwidth points\n",
    "bandwidths = np.array([1, 10, 100, 1000])\n",
    "\n",
    "# Placeholder for R2 results\n",
    "output = []\n",
    "\n",
    "\n",
    "for center in center_mins:\n",
    "    for bandwidth in bandwidths:\n",
    "        \n",
    "        x_axis_train = RBF(train_mins, center, bandwidth)\n",
    "        x_axis_test = RBF(test_mins, center, bandwidth)\n",
    "\n",
    "        r2_mins_train, r2_mins_test = r2(x_axis_train, train_temp, x_axis_test, test_temp, test=True)       \n",
    "    \n",
    "for center in center_days:\n",
    "    for bandwidth in bandwidths:\n",
    "        x_axis_train = RBF(train_days, center, bandwidth)\n",
    "        x_axis_test = RBF(test_days, center, bandwidth)\n",
    "\n",
    "        r2_days_train, r2_days_test = r2(x_axis_train, train_temp, x_axis_test, test_temp, test=True)\n",
    "    \n",
    "                \n",
    "output.append([len(center), bandwidth, r2_full_test, r2_full_train, r2_days_test,r2_days_train, r2_mins_train, r2_mins_test])\n",
    "\n",
    "\n",
    "# Shocase the error outputs\n",
    "results = pd.DataFrame(output, columns=['Centers Num.\", \"Bandwidth\", \"Full Model Test R^2\",  \"Full Model Train R^2\", \n",
    "                                 \"Days Testing R^2\", \"Days Training R^2\", \"Mins Testing R^2\", \"Mins Training R^2\"])\n",
    "results.head(18)"
   ]
  },
  {
   "cell_type": "markdown",
   "metadata": {},
   "source": [
    "This table shows a general trend of the proportional increase of the number of RBF centres, bandwidth and the $R^2$ score. However, we also see that the training score decreases as the testing score increases. Even with a slight difference, this can indicate overfitting of our model, which limits its functionality of predicting the weather for new dates. Hence, we pick bandwidth to be 10000 while the number of centres to be ten as at those values the model has highest $R^2$ while also having test score to be lower than train score for all three model variations (full, seasonal, and daily)."
   ]
  },
  {
   "cell_type": "markdown",
   "metadata": {},
   "source": [
    "## Step 5. Using RBF representation, build a linear parameter model that captures both seasonal variations and daily variations."
   ]
  },
  {
   "cell_type": "code",
   "execution_count": 79,
   "metadata": {},
   "outputs": [
    {
     "name": "stdout",
     "output_type": "stream",
     "text": [
      "R^2 for seasonal training data: 0.5676\n",
      "R^2 for seasonal testing data : 0.5785\n"
     ]
    }
   ],
   "source": [
    "# Best seasonal changes model \n",
    "best_days_train = RBF(train_days, centers_days(10), 10000)\n",
    "best_days_test = RBF(test_days, centers_days(10), 10000)\n",
    "\n",
    "regr = Ridge(alpha=0.0001, fit_intercept=False)\n",
    "regr.fit(best_days_train, train_temp)\n",
    "y_pred = regr.predict(best_days_train)\n",
    "\n",
    "# plt.scatter(train_days, train_temp, label='Data', color='b')\n",
    "# plt.scatter(train_days, y_pred, label='Model Prediction', color='m')\n",
    "# plt.legend(loc='best')\n",
    "# plt.title(\"Running a linear regression on time-of-year temprature\")\n",
    "# plt.xlabel(\"Days of Year\")\n",
    "# plt.ylabel(\"Temperature (C)\")\n",
    "# plt.show()\n",
    "\n",
    "print (f\"R^2 for seasonal training data: {round(regr.score(best_days_train, train_temp),4)}\")\n",
    "print (f\"R^2 for seasonal testing data : {round(regr.score(best_days_test, test_temp),4)}\")\n"
   ]
  },
  {
   "cell_type": "code",
   "execution_count": 80,
   "metadata": {},
   "outputs": [
    {
     "name": "stdout",
     "output_type": "stream",
     "text": [
      "R^2 for daily training data: 0.043\n",
      "R^2 for daily testing data : 0.0427\n"
     ]
    }
   ],
   "source": [
    "# Best daily changes model \n",
    "best_mins_train = RBF(train_mins, centers_min(10), 10000)\n",
    "best_mins_test = RBF(test_mins, centers_min(10), 10000)\n",
    "\n",
    "regr = Ridge(alpha=0.0001, fit_intercept=False)\n",
    "regr.fit(best_mins_train, train_temp)\n",
    "y_pred = regr.predict(best_mins_train)\n",
    "\n",
    "# plt.scatter(train_mins, train_temp, label='Data', color='b')\n",
    "# plt.scatter(train_mins, y_pred, label='Model Prediction', color='m')\n",
    "# plt.legend(loc='best')\n",
    "# plt.title(\"Running a linear regression on time-of-day temprature\")\n",
    "# plt.xlabel(\"Minutes of a Day\")\n",
    "# plt.ylabel(\"Temperature (C)\")\n",
    "# plt.show()\n",
    "\n",
    "print (f\"R^2 for daily training data: {round (regr.score(best_mins_train, train_temp),4)}\")\n",
    "print (f\"R^2 for daily testing data : {round (regr.score(best_mins_test, test_temp),4)}\")\n"
   ]
  },
  {
   "cell_type": "code",
   "execution_count": 77,
   "metadata": {},
   "outputs": [
    {
     "name": "stdout",
     "output_type": "stream",
     "text": [
      "R^2 for training data: 0.6139\n",
      "R^2 for testing data: 0.6155\n"
     ]
    }
   ],
   "source": [
    "# Best full model \n",
    "full_train = pd.concat([pd.DataFrame(best_mins_train),\n",
    "                          pd.DataFrame(best_days_train)], axis=1)\n",
    "\n",
    "full_test = pd.concat([pd.DataFrame(best_mins_test),\n",
    "                          pd.DataFrame(best_days_test)], axis=1)\n",
    "\n",
    "regr = LinearRegression()\n",
    "regr.fit(full_train, train_temp)\n",
    "\n",
    "y_predict_train = regr.predict(full_train)\n",
    "y_predict_test = regr.predict(full_test)\n",
    "\n",
    "print (f\"R^2 for training data: {round(r2_score(train_temp, y_predict_train),4)}\")\n",
    "print (f\"R^2 for testing data: {round(r2_score(test_temp, y_predict_test),4)}\")"
   ]
  },
  {
   "cell_type": "markdown",
   "metadata": {},
   "source": [
    "## Step 6. A 3D plot showing temperature as a function of (day, time)."
   ]
  },
  {
   "cell_type": "code",
   "execution_count": 45,
   "metadata": {},
   "outputs": [
    {
     "data": {
      "image/png": "[encoded data removed]",
      "text/plain": [
       "<Figure size 1080x720 with 1 Axes>"
      ]
     },
     "metadata": {
      "needs_background": "light"
     },
     "output_type": "display_data"
    }
   ],
   "source": [
    "from mpl_toolkits.mplot3d import Axes3D \n",
    "plt.figure(figsize=(15,10))\n",
    "ax = plt.axes(projection='3d')\n",
    "ax.scatter3D(np.asarray(train_days, dtype = \"float\"), np.asarray(train_mins, dtype = \"float\"), np.asarray(train_temp, dtype = \"float\"), cmap='Pastel2')\n",
    "plt.title(\"Temperature as a function of (day, time).\")\n",
    "ax.set_xlabel('Day of Year', fontsize=20, rotation=150, color = \"m\", labelpad=10)\n",
    "ax.set_ylabel('Min of Day', fontsize=20, color = \"purple\", labelpad=10)\n",
    "ax.set_zlabel('Temperature (C)', fontsize=20, rotation=60, color=\"blue\")\n",
    "plt.show()"
   ]
  },
  {
   "cell_type": "markdown",
   "metadata": {},
   "source": [
    "There is too much data to show it beautifully in 3d."
   ]
  },
  {
   "cell_type": "markdown",
   "metadata": {},
   "source": [
    "## Step 7. Using R², quantifing how our model performs on the testing data.\n"
   ]
  },
  {
   "cell_type": "markdown",
   "metadata": {},
   "source": [
    "With all three models, we see that before applying RBF, the test $R^2$ score is slightly more than the train $R^2$  score, indicating overfitting. After using RBF, the general scores increase and test scores are lower, which shows that we have addressed overfitting. \n",
    "\n",
    "Additionally, as the number of RBF centres increases, the $R^2$ score results for all models also increases, as shown in the table above. So, $R^2$  is highest when the num centres are 50 or more. But we see that there is an incidctaion to overfitting as test scores are slightly higher than train scores. hence, we pick num of centers to be 10 instead as results are very close to each other but at 10, the test score are lower than train scores. We see a similar pattern for observing the bandwidth (sigma) of the RBF. We have a minimum score for each variant of the models for lower values of bandwidth. However, as bandwidth increases with the number of centres, $R^2$ output increases. Hence, we pick highest bandwidth, 10000, and highest number of centers where test scores are lower than train scores, 10.\n",
    "\n",
    "\n"
   ]
  },
  {
   "cell_type": "markdown",
   "metadata": {},
   "source": [
    "### 7.1 Train with just the daily component of the model\n",
    "\n",
    "The daily model has the lowest values for $R^2$ scores. In real life, time-in-day variation doesn't, in general, predict the overall weather pattern, which explains those low scores. \n"
   ]
  },
  {
   "cell_type": "markdown",
   "metadata": {},
   "source": [
    "### 7.2 Train with just the yearly component of the model\n",
    "The seasonal changes capture the dataset better, almost as good as the whole model. Hence, nearly half of the variance in the temperature can be explained by the seasonal variation."
   ]
  },
  {
   "cell_type": "markdown",
   "metadata": {},
   "source": [
    "### 7.3 Train with the full model\n",
    "The whole set performed best in terms of $R^2$ test scores. This is logical as both seasonal and daily changes contribute to the temperature output. However, around 40% of the variance in temperature is still not explained even by the full dataset we analyzed. Hence, those models would suit general weather prediction but can be inaccurate for more precise weathercasts. Additionally, as we saw, picking right badnwidth (sigma) and number of RBF circles will be crucisial in improving the accuracy of a model and also making sure it doesn't overfit. "
   ]
  },
  {
   "cell_type": "code",
   "execution_count": null,
   "metadata": {},
   "outputs": [],
   "source": []
  }
 ],
 "metadata": {
  "kernelspec": {
   "display_name": "Python 3",
   "language": "python",
   "name": "python3"
  },
  "language_info": {
   "codemirror_mode": {
    "name": "ipython",
    "version": 3
   },
   "file_extension": ".py",
   "mimetype": "text/x-python",
   "name": "python",
   "nbconvert_exporter": "python",
   "pygments_lexer": "ipython3",
   "version": "3.7.3"
  }
 },
 "nbformat": 4,
 "nbformat_minor": 2
}
