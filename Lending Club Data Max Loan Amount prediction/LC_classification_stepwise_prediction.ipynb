{
 "cells": [
  {
   "cell_type": "markdown",
   "metadata": {},
   "source": [
    "# Assignment 2"
   ]
  },
  {
   "cell_type": "code",
   "execution_count": 3,
   "metadata": {},
   "outputs": [],
   "source": [
    "# Ignore the Warning Messages\n",
    "import warnings\n",
    "warnings.filterwarnings('ignore')"
   ]
  },
  {
   "cell_type": "markdown",
   "metadata": {},
   "source": [
    "### Lending Club Data\n",
    "Data taken from: https://www.kaggle.com/wordsforthewise/lending-club"
   ]
  },
  {
   "cell_type": "markdown",
   "metadata": {},
   "source": [
    "We will be working with a dataset focused on the peer-to-peer lending company, LendingClub. "
   ]
  },
  {
   "cell_type": "markdown",
   "metadata": {},
   "source": [
    "### Objective"
   ]
  },
  {
   "cell_type": "markdown",
   "metadata": {},
   "source": [
    "We will build a model that predicts the largest loan amount that will be successfully funded for any given individual."
   ]
  },
  {
   "cell_type": "markdown",
   "metadata": {},
   "source": [
    "## Loading Data\n"
   ]
  },
  {
   "cell_type": "code",
   "execution_count": 4,
   "metadata": {},
   "outputs": [],
   "source": [
    "import pandas as pd\n",
    "\n",
    "approved_loans_1 = pd.read_csv('accepted.csv')\n",
    "declined_loans_1 = pd.read_csv('rejected.csv')"
   ]
  },
  {
   "cell_type": "code",
   "execution_count": 5,
   "metadata": {},
   "outputs": [],
   "source": [
    "import copy\n",
    "declined_loans = copy.deepcopy(declined_loans_1)"
   ]
  },
  {
   "cell_type": "code",
   "execution_count": 6,
   "metadata": {},
   "outputs": [],
   "source": [
    "approved_loans = copy.deepcopy(approved_loans_1)"
   ]
  },
  {
   "cell_type": "code",
   "execution_count": 7,
   "metadata": {},
   "outputs": [
    {
     "data": {
      "text/plain": [
       "(27648741, 9)"
      ]
     },
     "execution_count": 7,
     "metadata": {},
     "output_type": "execute_result"
    }
   ],
   "source": [
    "declined_loans.shape"
   ]
  },
  {
   "cell_type": "code",
   "execution_count": 8,
   "metadata": {},
   "outputs": [
    {
     "data": {
      "text/plain": [
       "(2260701, 151)"
      ]
     },
     "execution_count": 8,
     "metadata": {},
     "output_type": "execute_result"
    }
   ],
   "source": [
    "approved_loans.shape"
   ]
  },
  {
   "cell_type": "markdown",
   "metadata": {},
   "source": [
    "I will also initially work with 50% of randomly picked data and then try to run on more data (I initially run with all data but one-hot encoding of zip cdes took moore than 3 hours of running)"
   ]
  },
  {
   "cell_type": "code",
   "execution_count": 9,
   "metadata": {},
   "outputs": [],
   "source": [
    "# slice the date to take in only 50% entries\n",
    "approved_loans = approved_loans.sample(frac=0.5, replace=False, random_state=1)\n",
    "declined_loans = declined_loans.sample(frac=0.5, replace=False, random_state=1)\n"
   ]
  },
  {
   "cell_type": "code",
   "execution_count": 10,
   "metadata": {},
   "outputs": [
    {
     "data": {
      "text/plain": [
       "(1130350, 151)"
      ]
     },
     "execution_count": 10,
     "metadata": {},
     "output_type": "execute_result"
    }
   ],
   "source": [
    "approved_loans.shape"
   ]
  },
  {
   "cell_type": "code",
   "execution_count": 11,
   "metadata": {},
   "outputs": [
    {
     "data": {
      "text/plain": [
       "(13824370, 9)"
      ]
     },
     "execution_count": 11,
     "metadata": {},
     "output_type": "execute_result"
    }
   ],
   "source": [
    "declined_loans.shape"
   ]
  },
  {
   "cell_type": "code",
   "execution_count": 12,
   "metadata": {},
   "outputs": [],
   "source": [
    "# balance out both sets to have same amount of entries\n",
    "declined_loans = declined_loans.head(1130350)"
   ]
  },
  {
   "cell_type": "code",
   "execution_count": 13,
   "metadata": {},
   "outputs": [
    {
     "data": {
      "text/plain": [
       "(1130350, 9)"
      ]
     },
     "execution_count": 13,
     "metadata": {},
     "output_type": "execute_result"
    }
   ],
   "source": [
    "declined_loans.shape"
   ]
  },
  {
   "cell_type": "markdown",
   "metadata": {},
   "source": [
    "# Part 1: Data Cleaning"
   ]
  },
  {
   "cell_type": "markdown",
   "metadata": {},
   "source": [
    "### Step 1: Checking out what's going on in the dataframes."
   ]
  },
  {
   "cell_type": "code",
   "execution_count": 14,
   "metadata": {},
   "outputs": [
    {
     "data": {
      "text/html": [
       "<div>\n",
       "<style scoped>\n",
       "    .dataframe tbody tr th:only-of-type {\n",
       "        vertical-align: middle;\n",
       "    }\n",
       "\n",
       "    .dataframe tbody tr th {\n",
       "        vertical-align: top;\n",
       "    }\n",
       "\n",
       "    .dataframe thead th {\n",
       "        text-align: right;\n",
       "    }\n",
       "</style>\n",
       "<table border=\"1\" class=\"dataframe\">\n",
       "  <thead>\n",
       "    <tr style=\"text-align: right;\">\n",
       "      <th></th>\n",
       "      <th>id</th>\n",
       "      <th>member_id</th>\n",
       "      <th>loan_amnt</th>\n",
       "      <th>funded_amnt</th>\n",
       "      <th>funded_amnt_inv</th>\n",
       "      <th>term</th>\n",
       "      <th>int_rate</th>\n",
       "      <th>installment</th>\n",
       "      <th>grade</th>\n",
       "      <th>sub_grade</th>\n",
       "      <th>...</th>\n",
       "      <th>hardship_payoff_balance_amount</th>\n",
       "      <th>hardship_last_payment_amount</th>\n",
       "      <th>disbursement_method</th>\n",
       "      <th>debt_settlement_flag</th>\n",
       "      <th>debt_settlement_flag_date</th>\n",
       "      <th>settlement_status</th>\n",
       "      <th>settlement_date</th>\n",
       "      <th>settlement_amount</th>\n",
       "      <th>settlement_percentage</th>\n",
       "      <th>settlement_term</th>\n",
       "    </tr>\n",
       "  </thead>\n",
       "  <tbody>\n",
       "    <tr>\n",
       "      <th>1557444</th>\n",
       "      <td>132555889</td>\n",
       "      <td>NaN</td>\n",
       "      <td>11000.0</td>\n",
       "      <td>11000.0</td>\n",
       "      <td>11000.0</td>\n",
       "      <td>36 months</td>\n",
       "      <td>10.90</td>\n",
       "      <td>359.61</td>\n",
       "      <td>B</td>\n",
       "      <td>B4</td>\n",
       "      <td>...</td>\n",
       "      <td>NaN</td>\n",
       "      <td>NaN</td>\n",
       "      <td>DirectPay</td>\n",
       "      <td>N</td>\n",
       "      <td>NaN</td>\n",
       "      <td>NaN</td>\n",
       "      <td>NaN</td>\n",
       "      <td>NaN</td>\n",
       "      <td>NaN</td>\n",
       "      <td>NaN</td>\n",
       "    </tr>\n",
       "    <tr>\n",
       "      <th>1089926</th>\n",
       "      <td>69743499</td>\n",
       "      <td>NaN</td>\n",
       "      <td>12000.0</td>\n",
       "      <td>12000.0</td>\n",
       "      <td>12000.0</td>\n",
       "      <td>36 months</td>\n",
       "      <td>6.99</td>\n",
       "      <td>370.48</td>\n",
       "      <td>A</td>\n",
       "      <td>A3</td>\n",
       "      <td>...</td>\n",
       "      <td>NaN</td>\n",
       "      <td>NaN</td>\n",
       "      <td>Cash</td>\n",
       "      <td>N</td>\n",
       "      <td>NaN</td>\n",
       "      <td>NaN</td>\n",
       "      <td>NaN</td>\n",
       "      <td>NaN</td>\n",
       "      <td>NaN</td>\n",
       "      <td>NaN</td>\n",
       "    </tr>\n",
       "    <tr>\n",
       "      <th>71683</th>\n",
       "      <td>63590274</td>\n",
       "      <td>NaN</td>\n",
       "      <td>5000.0</td>\n",
       "      <td>5000.0</td>\n",
       "      <td>5000.0</td>\n",
       "      <td>36 months</td>\n",
       "      <td>12.05</td>\n",
       "      <td>166.20</td>\n",
       "      <td>C</td>\n",
       "      <td>C1</td>\n",
       "      <td>...</td>\n",
       "      <td>NaN</td>\n",
       "      <td>NaN</td>\n",
       "      <td>Cash</td>\n",
       "      <td>N</td>\n",
       "      <td>NaN</td>\n",
       "      <td>NaN</td>\n",
       "      <td>NaN</td>\n",
       "      <td>NaN</td>\n",
       "      <td>NaN</td>\n",
       "      <td>NaN</td>\n",
       "    </tr>\n",
       "    <tr>\n",
       "      <th>356146</th>\n",
       "      <td>42364040</td>\n",
       "      <td>NaN</td>\n",
       "      <td>20000.0</td>\n",
       "      <td>20000.0</td>\n",
       "      <td>19975.0</td>\n",
       "      <td>36 months</td>\n",
       "      <td>15.61</td>\n",
       "      <td>699.30</td>\n",
       "      <td>D</td>\n",
       "      <td>D1</td>\n",
       "      <td>...</td>\n",
       "      <td>NaN</td>\n",
       "      <td>NaN</td>\n",
       "      <td>Cash</td>\n",
       "      <td>N</td>\n",
       "      <td>NaN</td>\n",
       "      <td>NaN</td>\n",
       "      <td>NaN</td>\n",
       "      <td>NaN</td>\n",
       "      <td>NaN</td>\n",
       "      <td>NaN</td>\n",
       "    </tr>\n",
       "    <tr>\n",
       "      <th>1396198</th>\n",
       "      <td>144254317</td>\n",
       "      <td>NaN</td>\n",
       "      <td>5000.0</td>\n",
       "      <td>5000.0</td>\n",
       "      <td>5000.0</td>\n",
       "      <td>36 months</td>\n",
       "      <td>18.94</td>\n",
       "      <td>183.13</td>\n",
       "      <td>D</td>\n",
       "      <td>D2</td>\n",
       "      <td>...</td>\n",
       "      <td>NaN</td>\n",
       "      <td>NaN</td>\n",
       "      <td>Cash</td>\n",
       "      <td>N</td>\n",
       "      <td>NaN</td>\n",
       "      <td>NaN</td>\n",
       "      <td>NaN</td>\n",
       "      <td>NaN</td>\n",
       "      <td>NaN</td>\n",
       "      <td>NaN</td>\n",
       "    </tr>\n",
       "  </tbody>\n",
       "</table>\n",
       "<p>5 rows × 151 columns</p>\n",
       "</div>"
      ],
      "text/plain": [
       "                id  member_id  loan_amnt  funded_amnt  funded_amnt_inv  \\\n",
       "1557444  132555889        NaN    11000.0      11000.0          11000.0   \n",
       "1089926   69743499        NaN    12000.0      12000.0          12000.0   \n",
       "71683     63590274        NaN     5000.0       5000.0           5000.0   \n",
       "356146    42364040        NaN    20000.0      20000.0          19975.0   \n",
       "1396198  144254317        NaN     5000.0       5000.0           5000.0   \n",
       "\n",
       "               term  int_rate  installment grade sub_grade  ...  \\\n",
       "1557444   36 months     10.90       359.61     B        B4  ...   \n",
       "1089926   36 months      6.99       370.48     A        A3  ...   \n",
       "71683     36 months     12.05       166.20     C        C1  ...   \n",
       "356146    36 months     15.61       699.30     D        D1  ...   \n",
       "1396198   36 months     18.94       183.13     D        D2  ...   \n",
       "\n",
       "        hardship_payoff_balance_amount hardship_last_payment_amount  \\\n",
       "1557444                            NaN                          NaN   \n",
       "1089926                            NaN                          NaN   \n",
       "71683                              NaN                          NaN   \n",
       "356146                             NaN                          NaN   \n",
       "1396198                            NaN                          NaN   \n",
       "\n",
       "        disbursement_method  debt_settlement_flag debt_settlement_flag_date  \\\n",
       "1557444           DirectPay                     N                       NaN   \n",
       "1089926                Cash                     N                       NaN   \n",
       "71683                  Cash                     N                       NaN   \n",
       "356146                 Cash                     N                       NaN   \n",
       "1396198                Cash                     N                       NaN   \n",
       "\n",
       "        settlement_status settlement_date settlement_amount  \\\n",
       "1557444               NaN             NaN               NaN   \n",
       "1089926               NaN             NaN               NaN   \n",
       "71683                 NaN             NaN               NaN   \n",
       "356146                NaN             NaN               NaN   \n",
       "1396198               NaN             NaN               NaN   \n",
       "\n",
       "        settlement_percentage settlement_term  \n",
       "1557444                   NaN             NaN  \n",
       "1089926                   NaN             NaN  \n",
       "71683                     NaN             NaN  \n",
       "356146                    NaN             NaN  \n",
       "1396198                   NaN             NaN  \n",
       "\n",
       "[5 rows x 151 columns]"
      ]
     },
     "execution_count": 14,
     "metadata": {},
     "output_type": "execute_result"
    }
   ],
   "source": [
    "approved_loans.head(5)"
   ]
  },
  {
   "cell_type": "code",
   "execution_count": 15,
   "metadata": {},
   "outputs": [
    {
     "data": {
      "text/plain": [
       "(1130350, 151)"
      ]
     },
     "execution_count": 15,
     "metadata": {},
     "output_type": "execute_result"
    }
   ],
   "source": [
    "approved_loans.shape"
   ]
  },
  {
   "cell_type": "code",
   "execution_count": 16,
   "metadata": {},
   "outputs": [
    {
     "data": {
      "text/html": [
       "<div>\n",
       "<style scoped>\n",
       "    .dataframe tbody tr th:only-of-type {\n",
       "        vertical-align: middle;\n",
       "    }\n",
       "\n",
       "    .dataframe tbody tr th {\n",
       "        vertical-align: top;\n",
       "    }\n",
       "\n",
       "    .dataframe thead th {\n",
       "        text-align: right;\n",
       "    }\n",
       "</style>\n",
       "<table border=\"1\" class=\"dataframe\">\n",
       "  <thead>\n",
       "    <tr style=\"text-align: right;\">\n",
       "      <th></th>\n",
       "      <th>Amount Requested</th>\n",
       "      <th>Application Date</th>\n",
       "      <th>Loan Title</th>\n",
       "      <th>Risk_Score</th>\n",
       "      <th>Debt-To-Income Ratio</th>\n",
       "      <th>Zip Code</th>\n",
       "      <th>State</th>\n",
       "      <th>Employment Length</th>\n",
       "      <th>Policy Code</th>\n",
       "    </tr>\n",
       "  </thead>\n",
       "  <tbody>\n",
       "    <tr>\n",
       "      <th>25221177</th>\n",
       "      <td>10000.0</td>\n",
       "      <td>2017-05-09</td>\n",
       "      <td>debt_consolidation</td>\n",
       "      <td>NaN</td>\n",
       "      <td>20.03%</td>\n",
       "      <td>922xx</td>\n",
       "      <td>CA</td>\n",
       "      <td>&lt; 1 year</td>\n",
       "      <td>0.0</td>\n",
       "    </tr>\n",
       "    <tr>\n",
       "      <th>15860144</th>\n",
       "      <td>20000.0</td>\n",
       "      <td>2018-11-11</td>\n",
       "      <td>Credit card refinancing</td>\n",
       "      <td>NaN</td>\n",
       "      <td>18.6%</td>\n",
       "      <td>484xx</td>\n",
       "      <td>MI</td>\n",
       "      <td>&lt; 1 year</td>\n",
       "      <td>0.0</td>\n",
       "    </tr>\n",
       "    <tr>\n",
       "      <th>6035463</th>\n",
       "      <td>5800.0</td>\n",
       "      <td>2018-08-27</td>\n",
       "      <td>Debt consolidation</td>\n",
       "      <td>NaN</td>\n",
       "      <td>15.79%</td>\n",
       "      <td>906xx</td>\n",
       "      <td>CA</td>\n",
       "      <td>&lt; 1 year</td>\n",
       "      <td>0.0</td>\n",
       "    </tr>\n",
       "    <tr>\n",
       "      <th>12636787</th>\n",
       "      <td>11450.0</td>\n",
       "      <td>2017-08-19</td>\n",
       "      <td>Car financing</td>\n",
       "      <td>549.0</td>\n",
       "      <td>100%</td>\n",
       "      <td>754xx</td>\n",
       "      <td>TX</td>\n",
       "      <td>&lt; 1 year</td>\n",
       "      <td>0.0</td>\n",
       "    </tr>\n",
       "    <tr>\n",
       "      <th>6076264</th>\n",
       "      <td>3000.0</td>\n",
       "      <td>2018-08-29</td>\n",
       "      <td>Debt consolidation</td>\n",
       "      <td>NaN</td>\n",
       "      <td>7.67%</td>\n",
       "      <td>916xx</td>\n",
       "      <td>CA</td>\n",
       "      <td>&lt; 1 year</td>\n",
       "      <td>0.0</td>\n",
       "    </tr>\n",
       "  </tbody>\n",
       "</table>\n",
       "</div>"
      ],
      "text/plain": [
       "          Amount Requested Application Date               Loan Title  \\\n",
       "25221177           10000.0       2017-05-09       debt_consolidation   \n",
       "15860144           20000.0       2018-11-11  Credit card refinancing   \n",
       "6035463             5800.0       2018-08-27       Debt consolidation   \n",
       "12636787           11450.0       2017-08-19            Car financing   \n",
       "6076264             3000.0       2018-08-29       Debt consolidation   \n",
       "\n",
       "          Risk_Score Debt-To-Income Ratio Zip Code State Employment Length  \\\n",
       "25221177         NaN               20.03%    922xx    CA          < 1 year   \n",
       "15860144         NaN                18.6%    484xx    MI          < 1 year   \n",
       "6035463          NaN               15.79%    906xx    CA          < 1 year   \n",
       "12636787       549.0                 100%    754xx    TX          < 1 year   \n",
       "6076264          NaN                7.67%    916xx    CA          < 1 year   \n",
       "\n",
       "          Policy Code  \n",
       "25221177          0.0  \n",
       "15860144          0.0  \n",
       "6035463           0.0  \n",
       "12636787          0.0  \n",
       "6076264           0.0  "
      ]
     },
     "execution_count": 16,
     "metadata": {},
     "output_type": "execute_result"
    }
   ],
   "source": [
    "declined_loans.head(5)"
   ]
  },
  {
   "cell_type": "code",
   "execution_count": 17,
   "metadata": {},
   "outputs": [
    {
     "data": {
      "text/plain": [
       "(1130350, 9)"
      ]
     },
     "execution_count": 17,
     "metadata": {},
     "output_type": "execute_result"
    }
   ],
   "source": [
    "declined_loans.shape"
   ]
  },
  {
   "cell_type": "markdown",
   "metadata": {},
   "source": [
    "### Step 2: Deciding which columns to keep "
   ]
  },
  {
   "cell_type": "code",
   "execution_count": 18,
   "metadata": {
    "scrolled": true
   },
   "outputs": [
    {
     "name": "stdout",
     "output_type": "stream",
     "text": [
      "Column names in approved loans dataset:\n",
      "id,\n",
      " member_id,\n",
      " loan_amnt,\n",
      " funded_amnt,\n",
      " funded_amnt_inv,\n",
      " term,\n",
      " int_rate,\n",
      " installment,\n",
      " grade,\n",
      " sub_grade,\n",
      " emp_title,\n",
      " emp_length,\n",
      " home_ownership,\n",
      " annual_inc,\n",
      " verification_status,\n",
      " issue_d,\n",
      " loan_status,\n",
      " pymnt_plan,\n",
      " url,\n",
      " desc,\n",
      " purpose,\n",
      " title,\n",
      " zip_code,\n",
      " addr_state,\n",
      " dti,\n",
      " delinq_2yrs,\n",
      " earliest_cr_line,\n",
      " fico_range_low,\n",
      " fico_range_high,\n",
      " inq_last_6mths,\n",
      " mths_since_last_delinq,\n",
      " mths_since_last_record,\n",
      " open_acc,\n",
      " pub_rec,\n",
      " revol_bal,\n",
      " revol_util,\n",
      " total_acc,\n",
      " initial_list_status,\n",
      " out_prncp,\n",
      " out_prncp_inv,\n",
      " total_pymnt,\n",
      " total_pymnt_inv,\n",
      " total_rec_prncp,\n",
      " total_rec_int,\n",
      " total_rec_late_fee,\n",
      " recoveries,\n",
      " collection_recovery_fee,\n",
      " last_pymnt_d,\n",
      " last_pymnt_amnt,\n",
      " next_pymnt_d,\n",
      " last_credit_pull_d,\n",
      " last_fico_range_high,\n",
      " last_fico_range_low,\n",
      " collections_12_mths_ex_med,\n",
      " mths_since_last_major_derog,\n",
      " policy_code,\n",
      " application_type,\n",
      " annual_inc_joint,\n",
      " dti_joint,\n",
      " verification_status_joint,\n",
      " acc_now_delinq,\n",
      " tot_coll_amt,\n",
      " tot_cur_bal,\n",
      " open_acc_6m,\n",
      " open_act_il,\n",
      " open_il_12m,\n",
      " open_il_24m,\n",
      " mths_since_rcnt_il,\n",
      " total_bal_il,\n",
      " il_util,\n",
      " open_rv_12m,\n",
      " open_rv_24m,\n",
      " max_bal_bc,\n",
      " all_util,\n",
      " total_rev_hi_lim,\n",
      " inq_fi,\n",
      " total_cu_tl,\n",
      " inq_last_12m,\n",
      " acc_open_past_24mths,\n",
      " avg_cur_bal,\n",
      " bc_open_to_buy,\n",
      " bc_util,\n",
      " chargeoff_within_12_mths,\n",
      " delinq_amnt,\n",
      " mo_sin_old_il_acct,\n",
      " mo_sin_old_rev_tl_op,\n",
      " mo_sin_rcnt_rev_tl_op,\n",
      " mo_sin_rcnt_tl,\n",
      " mort_acc,\n",
      " mths_since_recent_bc,\n",
      " mths_since_recent_bc_dlq,\n",
      " mths_since_recent_inq,\n",
      " mths_since_recent_revol_delinq,\n",
      " num_accts_ever_120_pd,\n",
      " num_actv_bc_tl,\n",
      " num_actv_rev_tl,\n",
      " num_bc_sats,\n",
      " num_bc_tl,\n",
      " num_il_tl,\n",
      " num_op_rev_tl,\n",
      " num_rev_accts,\n",
      " num_rev_tl_bal_gt_0,\n",
      " num_sats,\n",
      " num_tl_120dpd_2m,\n",
      " num_tl_30dpd,\n",
      " num_tl_90g_dpd_24m,\n",
      " num_tl_op_past_12m,\n",
      " pct_tl_nvr_dlq,\n",
      " percent_bc_gt_75,\n",
      " pub_rec_bankruptcies,\n",
      " tax_liens,\n",
      " tot_hi_cred_lim,\n",
      " total_bal_ex_mort,\n",
      " total_bc_limit,\n",
      " total_il_high_credit_limit,\n",
      " revol_bal_joint,\n",
      " sec_app_fico_range_low,\n",
      " sec_app_fico_range_high,\n",
      " sec_app_earliest_cr_line,\n",
      " sec_app_inq_last_6mths,\n",
      " sec_app_mort_acc,\n",
      " sec_app_open_acc,\n",
      " sec_app_revol_util,\n",
      " sec_app_open_act_il,\n",
      " sec_app_num_rev_accts,\n",
      " sec_app_chargeoff_within_12_mths,\n",
      " sec_app_collections_12_mths_ex_med,\n",
      " sec_app_mths_since_last_major_derog,\n",
      " hardship_flag,\n",
      " hardship_type,\n",
      " hardship_reason,\n",
      " hardship_status,\n",
      " deferral_term,\n",
      " hardship_amount,\n",
      " hardship_start_date,\n",
      " hardship_end_date,\n",
      " payment_plan_start_date,\n",
      " hardship_length,\n",
      " hardship_dpd,\n",
      " hardship_loan_status,\n",
      " orig_projected_additional_accrued_interest,\n",
      " hardship_payoff_balance_amount,\n",
      " hardship_last_payment_amount,\n",
      " disbursement_method,\n",
      " debt_settlement_flag,\n",
      " debt_settlement_flag_date,\n",
      " settlement_status,\n",
      " settlement_date,\n",
      " settlement_amount,\n",
      " settlement_percentage,\n",
      " settlement_term\n",
      "\n",
      "Column names in declined loans dataset:\n",
      "Amount Requested,\n",
      " Application Date,\n",
      " Loan Title,\n",
      " Risk_Score,\n",
      " Debt-To-Income Ratio,\n",
      " Zip Code,\n",
      " State,\n",
      " Employment Length,\n",
      " Policy Code\n"
     ]
    }
   ],
   "source": [
    "# checking names of all columns for the approved loans \n",
    "print(\"Column names in approved loans dataset:\")\n",
    "print(\",\\n \".join(list(approved_loans)))\n",
    "\n",
    "# checking names of all columns for the declined loans \n",
    "print(\"\\nColumn names in declined loans dataset:\")\n",
    "print(\",\\n \".join(list(declined_loans)))"
   ]
  },
  {
   "cell_type": "markdown",
   "metadata": {},
   "source": [
    "#### 2.1. Based on the names in both columns, we will manually pick columns with the same data and change their names in the approved dataset to match the names in the declined set. "
   ]
  },
  {
   "cell_type": "code",
   "execution_count": 19,
   "metadata": {},
   "outputs": [],
   "source": [
    "# Finding in the approved dataset the columns with similar data as in declined set \n",
    "approved_loans = approved_loans[['loan_amnt', 'issue_d', 'dti', 'addr_state', 'emp_length', 'policy_code', 'zip_code']]\n",
    "\n",
    "# Renaming the column names to the same as in declined dataset\n",
    "approved_loans.rename(index=str, inplace=True, columns={\n",
    "    'loan_amnt': 'Amount Requested',\n",
    "    'issue_d': 'Application Date',\n",
    "    'dti': 'Debt-To-Income Ratio',\n",
    "    'addr_state': 'State',\n",
    "    'emp_length': 'Employment Length',\n",
    "    'policy_code': 'Policy Code',\n",
    "    'zip_code' : 'Zip Code'\n",
    "})"
   ]
  },
  {
   "cell_type": "code",
   "execution_count": 20,
   "metadata": {},
   "outputs": [
    {
     "data": {
      "text/html": [
       "<div>\n",
       "<style scoped>\n",
       "    .dataframe tbody tr th:only-of-type {\n",
       "        vertical-align: middle;\n",
       "    }\n",
       "\n",
       "    .dataframe tbody tr th {\n",
       "        vertical-align: top;\n",
       "    }\n",
       "\n",
       "    .dataframe thead th {\n",
       "        text-align: right;\n",
       "    }\n",
       "</style>\n",
       "<table border=\"1\" class=\"dataframe\">\n",
       "  <thead>\n",
       "    <tr style=\"text-align: right;\">\n",
       "      <th></th>\n",
       "      <th>Amount Requested</th>\n",
       "      <th>Application Date</th>\n",
       "      <th>Debt-To-Income Ratio</th>\n",
       "      <th>State</th>\n",
       "      <th>Employment Length</th>\n",
       "      <th>Policy Code</th>\n",
       "      <th>Zip Code</th>\n",
       "    </tr>\n",
       "  </thead>\n",
       "  <tbody>\n",
       "    <tr>\n",
       "      <th>1557444</th>\n",
       "      <td>11000.0</td>\n",
       "      <td>May-2018</td>\n",
       "      <td>16.10</td>\n",
       "      <td>PA</td>\n",
       "      <td>8 years</td>\n",
       "      <td>1.0</td>\n",
       "      <td>169xx</td>\n",
       "    </tr>\n",
       "    <tr>\n",
       "      <th>1089926</th>\n",
       "      <td>12000.0</td>\n",
       "      <td>Jan-2016</td>\n",
       "      <td>19.84</td>\n",
       "      <td>TX</td>\n",
       "      <td>9 years</td>\n",
       "      <td>1.0</td>\n",
       "      <td>773xx</td>\n",
       "    </tr>\n",
       "    <tr>\n",
       "      <th>71683</th>\n",
       "      <td>5000.0</td>\n",
       "      <td>Nov-2015</td>\n",
       "      <td>16.95</td>\n",
       "      <td>MI</td>\n",
       "      <td>1 year</td>\n",
       "      <td>1.0</td>\n",
       "      <td>490xx</td>\n",
       "    </tr>\n",
       "    <tr>\n",
       "      <th>356146</th>\n",
       "      <td>20000.0</td>\n",
       "      <td>Apr-2015</td>\n",
       "      <td>34.56</td>\n",
       "      <td>CA</td>\n",
       "      <td>8 years</td>\n",
       "      <td>1.0</td>\n",
       "      <td>900xx</td>\n",
       "    </tr>\n",
       "    <tr>\n",
       "      <th>1396198</th>\n",
       "      <td>5000.0</td>\n",
       "      <td>Nov-2018</td>\n",
       "      <td>35.58</td>\n",
       "      <td>FL</td>\n",
       "      <td>10+ years</td>\n",
       "      <td>1.0</td>\n",
       "      <td>330xx</td>\n",
       "    </tr>\n",
       "  </tbody>\n",
       "</table>\n",
       "</div>"
      ],
      "text/plain": [
       "         Amount Requested Application Date  Debt-To-Income Ratio State  \\\n",
       "1557444           11000.0         May-2018                 16.10    PA   \n",
       "1089926           12000.0         Jan-2016                 19.84    TX   \n",
       "71683              5000.0         Nov-2015                 16.95    MI   \n",
       "356146            20000.0         Apr-2015                 34.56    CA   \n",
       "1396198            5000.0         Nov-2018                 35.58    FL   \n",
       "\n",
       "        Employment Length  Policy Code Zip Code  \n",
       "1557444           8 years          1.0    169xx  \n",
       "1089926           9 years          1.0    773xx  \n",
       "71683              1 year          1.0    490xx  \n",
       "356146            8 years          1.0    900xx  \n",
       "1396198         10+ years          1.0    330xx  "
      ]
     },
     "execution_count": 20,
     "metadata": {},
     "output_type": "execute_result"
    }
   ],
   "source": [
    "# Checking the new dataset form\n",
    "approved_loans.head()"
   ]
  },
  {
   "cell_type": "markdown",
   "metadata": {},
   "source": [
    "#### 2.2 From declined set, we will remove the columns which are missing in the approved dataset as they can bias the model learning process resulting in false rejections."
   ]
  },
  {
   "cell_type": "markdown",
   "metadata": {},
   "source": [
    "1. **Loan Title** doesn't possess important information as it shouldn't affect the outcome. Hence, we can drop it. \n",
    "2. **Risk Score** is an important metric, but there is no equivalent of it in the approved dataset as applications before November 5, 2013, the risk score is the borrower's FICO score, and after November 5, 2013, the risk score is the borrower's Vantage score. Hence, before and after November 5, 2013, the data scales would be different. \n",
    "3. **State** data is captured by the **Zip Code** data as Zip Code corresponds to the state. Hence, we keep zip codes that give more specific living places than state information as first two digits capture the state and with the 3rd digit, we also get information about the  sectional center facility area which divides further the demographic living condition information. This can be helpful as the rliving cnditions of the requester can affect the amount of loan granted to them and 3-digit zip code gives a good division into living conditions (https://www.maptive.com/3-digit-zip-code-maps/). \n",
    "4. I have also decided to drop the **Application Date** as in approved dataset it is reffered to the date the loan was funded while in the declined dataset it refers to the date the brrower applied for the loan. Hence, the dates are correspodning to different information. Hence, we would aassume that the date of application doesn't play role in the loan application outcome. I drop this column after dividing the dataset into 2015-2018 period."
   ]
  },
  {
   "cell_type": "code",
   "execution_count": 21,
   "metadata": {},
   "outputs": [],
   "source": [
    "# Removing the missing columns \n",
    "declined_loans.drop(['Loan Title', 'Risk_Score', 'State'], axis=1, inplace=True)"
   ]
  },
  {
   "cell_type": "code",
   "execution_count": 22,
   "metadata": {},
   "outputs": [
    {
     "data": {
      "text/html": [
       "<div>\n",
       "<style scoped>\n",
       "    .dataframe tbody tr th:only-of-type {\n",
       "        vertical-align: middle;\n",
       "    }\n",
       "\n",
       "    .dataframe tbody tr th {\n",
       "        vertical-align: top;\n",
       "    }\n",
       "\n",
       "    .dataframe thead th {\n",
       "        text-align: right;\n",
       "    }\n",
       "</style>\n",
       "<table border=\"1\" class=\"dataframe\">\n",
       "  <thead>\n",
       "    <tr style=\"text-align: right;\">\n",
       "      <th></th>\n",
       "      <th>Amount Requested</th>\n",
       "      <th>Application Date</th>\n",
       "      <th>Debt-To-Income Ratio</th>\n",
       "      <th>Zip Code</th>\n",
       "      <th>Employment Length</th>\n",
       "      <th>Policy Code</th>\n",
       "    </tr>\n",
       "  </thead>\n",
       "  <tbody>\n",
       "    <tr>\n",
       "      <th>25221177</th>\n",
       "      <td>10000.0</td>\n",
       "      <td>2017-05-09</td>\n",
       "      <td>20.03%</td>\n",
       "      <td>922xx</td>\n",
       "      <td>&lt; 1 year</td>\n",
       "      <td>0.0</td>\n",
       "    </tr>\n",
       "    <tr>\n",
       "      <th>15860144</th>\n",
       "      <td>20000.0</td>\n",
       "      <td>2018-11-11</td>\n",
       "      <td>18.6%</td>\n",
       "      <td>484xx</td>\n",
       "      <td>&lt; 1 year</td>\n",
       "      <td>0.0</td>\n",
       "    </tr>\n",
       "    <tr>\n",
       "      <th>6035463</th>\n",
       "      <td>5800.0</td>\n",
       "      <td>2018-08-27</td>\n",
       "      <td>15.79%</td>\n",
       "      <td>906xx</td>\n",
       "      <td>&lt; 1 year</td>\n",
       "      <td>0.0</td>\n",
       "    </tr>\n",
       "    <tr>\n",
       "      <th>12636787</th>\n",
       "      <td>11450.0</td>\n",
       "      <td>2017-08-19</td>\n",
       "      <td>100%</td>\n",
       "      <td>754xx</td>\n",
       "      <td>&lt; 1 year</td>\n",
       "      <td>0.0</td>\n",
       "    </tr>\n",
       "    <tr>\n",
       "      <th>6076264</th>\n",
       "      <td>3000.0</td>\n",
       "      <td>2018-08-29</td>\n",
       "      <td>7.67%</td>\n",
       "      <td>916xx</td>\n",
       "      <td>&lt; 1 year</td>\n",
       "      <td>0.0</td>\n",
       "    </tr>\n",
       "  </tbody>\n",
       "</table>\n",
       "</div>"
      ],
      "text/plain": [
       "          Amount Requested Application Date Debt-To-Income Ratio Zip Code  \\\n",
       "25221177           10000.0       2017-05-09               20.03%    922xx   \n",
       "15860144           20000.0       2018-11-11                18.6%    484xx   \n",
       "6035463             5800.0       2018-08-27               15.79%    906xx   \n",
       "12636787           11450.0       2017-08-19                 100%    754xx   \n",
       "6076264             3000.0       2018-08-29                7.67%    916xx   \n",
       "\n",
       "         Employment Length  Policy Code  \n",
       "25221177          < 1 year          0.0  \n",
       "15860144          < 1 year          0.0  \n",
       "6035463           < 1 year          0.0  \n",
       "12636787          < 1 year          0.0  \n",
       "6076264           < 1 year          0.0  "
      ]
     },
     "execution_count": 22,
     "metadata": {},
     "output_type": "execute_result"
    }
   ],
   "source": [
    "# Checking the new dataset form\n",
    "declined_loans.head()"
   ]
  },
  {
   "cell_type": "markdown",
   "metadata": {},
   "source": [
    "#### 2.3 Encoding weather the loan has been approved or not."
   ]
  },
  {
   "cell_type": "code",
   "execution_count": 23,
   "metadata": {},
   "outputs": [],
   "source": [
    "approved_loans['Approved'] = 1\n",
    "declined_loans['Approved'] = 0"
   ]
  },
  {
   "cell_type": "code",
   "execution_count": 24,
   "metadata": {},
   "outputs": [
    {
     "data": {
      "text/html": [
       "<div>\n",
       "<style scoped>\n",
       "    .dataframe tbody tr th:only-of-type {\n",
       "        vertical-align: middle;\n",
       "    }\n",
       "\n",
       "    .dataframe tbody tr th {\n",
       "        vertical-align: top;\n",
       "    }\n",
       "\n",
       "    .dataframe thead th {\n",
       "        text-align: right;\n",
       "    }\n",
       "</style>\n",
       "<table border=\"1\" class=\"dataframe\">\n",
       "  <thead>\n",
       "    <tr style=\"text-align: right;\">\n",
       "      <th></th>\n",
       "      <th>Amount Requested</th>\n",
       "      <th>Application Date</th>\n",
       "      <th>Debt-To-Income Ratio</th>\n",
       "      <th>Zip Code</th>\n",
       "      <th>Employment Length</th>\n",
       "      <th>Policy Code</th>\n",
       "      <th>Approved</th>\n",
       "    </tr>\n",
       "  </thead>\n",
       "  <tbody>\n",
       "    <tr>\n",
       "      <th>25221177</th>\n",
       "      <td>10000.0</td>\n",
       "      <td>2017-05-09</td>\n",
       "      <td>20.03%</td>\n",
       "      <td>922xx</td>\n",
       "      <td>&lt; 1 year</td>\n",
       "      <td>0.0</td>\n",
       "      <td>0</td>\n",
       "    </tr>\n",
       "    <tr>\n",
       "      <th>15860144</th>\n",
       "      <td>20000.0</td>\n",
       "      <td>2018-11-11</td>\n",
       "      <td>18.6%</td>\n",
       "      <td>484xx</td>\n",
       "      <td>&lt; 1 year</td>\n",
       "      <td>0.0</td>\n",
       "      <td>0</td>\n",
       "    </tr>\n",
       "    <tr>\n",
       "      <th>6035463</th>\n",
       "      <td>5800.0</td>\n",
       "      <td>2018-08-27</td>\n",
       "      <td>15.79%</td>\n",
       "      <td>906xx</td>\n",
       "      <td>&lt; 1 year</td>\n",
       "      <td>0.0</td>\n",
       "      <td>0</td>\n",
       "    </tr>\n",
       "    <tr>\n",
       "      <th>12636787</th>\n",
       "      <td>11450.0</td>\n",
       "      <td>2017-08-19</td>\n",
       "      <td>100%</td>\n",
       "      <td>754xx</td>\n",
       "      <td>&lt; 1 year</td>\n",
       "      <td>0.0</td>\n",
       "      <td>0</td>\n",
       "    </tr>\n",
       "    <tr>\n",
       "      <th>6076264</th>\n",
       "      <td>3000.0</td>\n",
       "      <td>2018-08-29</td>\n",
       "      <td>7.67%</td>\n",
       "      <td>916xx</td>\n",
       "      <td>&lt; 1 year</td>\n",
       "      <td>0.0</td>\n",
       "      <td>0</td>\n",
       "    </tr>\n",
       "  </tbody>\n",
       "</table>\n",
       "</div>"
      ],
      "text/plain": [
       "          Amount Requested Application Date Debt-To-Income Ratio Zip Code  \\\n",
       "25221177           10000.0       2017-05-09               20.03%    922xx   \n",
       "15860144           20000.0       2018-11-11                18.6%    484xx   \n",
       "6035463             5800.0       2018-08-27               15.79%    906xx   \n",
       "12636787           11450.0       2017-08-19                 100%    754xx   \n",
       "6076264             3000.0       2018-08-29                7.67%    916xx   \n",
       "\n",
       "         Employment Length  Policy Code  Approved  \n",
       "25221177          < 1 year          0.0         0  \n",
       "15860144          < 1 year          0.0         0  \n",
       "6035463           < 1 year          0.0         0  \n",
       "12636787          < 1 year          0.0         0  \n",
       "6076264           < 1 year          0.0         0  "
      ]
     },
     "execution_count": 24,
     "metadata": {},
     "output_type": "execute_result"
    }
   ],
   "source": [
    "# Checking updated set\n",
    "declined_loans.head()"
   ]
  },
  {
   "cell_type": "code",
   "execution_count": 25,
   "metadata": {},
   "outputs": [
    {
     "data": {
      "text/plain": [
       "(1130350, 7)"
      ]
     },
     "execution_count": 25,
     "metadata": {},
     "output_type": "execute_result"
    }
   ],
   "source": [
    "declined_loans.shape"
   ]
  },
  {
   "cell_type": "code",
   "execution_count": 26,
   "metadata": {},
   "outputs": [
    {
     "data": {
      "text/html": [
       "<div>\n",
       "<style scoped>\n",
       "    .dataframe tbody tr th:only-of-type {\n",
       "        vertical-align: middle;\n",
       "    }\n",
       "\n",
       "    .dataframe tbody tr th {\n",
       "        vertical-align: top;\n",
       "    }\n",
       "\n",
       "    .dataframe thead th {\n",
       "        text-align: right;\n",
       "    }\n",
       "</style>\n",
       "<table border=\"1\" class=\"dataframe\">\n",
       "  <thead>\n",
       "    <tr style=\"text-align: right;\">\n",
       "      <th></th>\n",
       "      <th>Amount Requested</th>\n",
       "      <th>Application Date</th>\n",
       "      <th>Debt-To-Income Ratio</th>\n",
       "      <th>State</th>\n",
       "      <th>Employment Length</th>\n",
       "      <th>Policy Code</th>\n",
       "      <th>Zip Code</th>\n",
       "      <th>Approved</th>\n",
       "    </tr>\n",
       "  </thead>\n",
       "  <tbody>\n",
       "    <tr>\n",
       "      <th>1557444</th>\n",
       "      <td>11000.0</td>\n",
       "      <td>May-2018</td>\n",
       "      <td>16.10</td>\n",
       "      <td>PA</td>\n",
       "      <td>8 years</td>\n",
       "      <td>1.0</td>\n",
       "      <td>169xx</td>\n",
       "      <td>1</td>\n",
       "    </tr>\n",
       "    <tr>\n",
       "      <th>1089926</th>\n",
       "      <td>12000.0</td>\n",
       "      <td>Jan-2016</td>\n",
       "      <td>19.84</td>\n",
       "      <td>TX</td>\n",
       "      <td>9 years</td>\n",
       "      <td>1.0</td>\n",
       "      <td>773xx</td>\n",
       "      <td>1</td>\n",
       "    </tr>\n",
       "    <tr>\n",
       "      <th>71683</th>\n",
       "      <td>5000.0</td>\n",
       "      <td>Nov-2015</td>\n",
       "      <td>16.95</td>\n",
       "      <td>MI</td>\n",
       "      <td>1 year</td>\n",
       "      <td>1.0</td>\n",
       "      <td>490xx</td>\n",
       "      <td>1</td>\n",
       "    </tr>\n",
       "    <tr>\n",
       "      <th>356146</th>\n",
       "      <td>20000.0</td>\n",
       "      <td>Apr-2015</td>\n",
       "      <td>34.56</td>\n",
       "      <td>CA</td>\n",
       "      <td>8 years</td>\n",
       "      <td>1.0</td>\n",
       "      <td>900xx</td>\n",
       "      <td>1</td>\n",
       "    </tr>\n",
       "    <tr>\n",
       "      <th>1396198</th>\n",
       "      <td>5000.0</td>\n",
       "      <td>Nov-2018</td>\n",
       "      <td>35.58</td>\n",
       "      <td>FL</td>\n",
       "      <td>10+ years</td>\n",
       "      <td>1.0</td>\n",
       "      <td>330xx</td>\n",
       "      <td>1</td>\n",
       "    </tr>\n",
       "  </tbody>\n",
       "</table>\n",
       "</div>"
      ],
      "text/plain": [
       "         Amount Requested Application Date  Debt-To-Income Ratio State  \\\n",
       "1557444           11000.0         May-2018                 16.10    PA   \n",
       "1089926           12000.0         Jan-2016                 19.84    TX   \n",
       "71683              5000.0         Nov-2015                 16.95    MI   \n",
       "356146            20000.0         Apr-2015                 34.56    CA   \n",
       "1396198            5000.0         Nov-2018                 35.58    FL   \n",
       "\n",
       "        Employment Length  Policy Code Zip Code  Approved  \n",
       "1557444           8 years          1.0    169xx         1  \n",
       "1089926           9 years          1.0    773xx         1  \n",
       "71683              1 year          1.0    490xx         1  \n",
       "356146            8 years          1.0    900xx         1  \n",
       "1396198         10+ years          1.0    330xx         1  "
      ]
     },
     "execution_count": 26,
     "metadata": {},
     "output_type": "execute_result"
    }
   ],
   "source": [
    "# Checking updated set\n",
    "approved_loans.head()"
   ]
  },
  {
   "cell_type": "code",
   "execution_count": 27,
   "metadata": {},
   "outputs": [
    {
     "data": {
      "text/plain": [
       "(1130350, 8)"
      ]
     },
     "execution_count": 27,
     "metadata": {},
     "output_type": "execute_result"
    }
   ],
   "source": [
    "approved_loans.shape"
   ]
  },
  {
   "cell_type": "markdown",
   "metadata": {},
   "source": [
    "## Step 3. Making data uniform across two datasets"
   ]
  },
  {
   "cell_type": "markdown",
   "metadata": {},
   "source": [
    "#### 3.1 Formating Debt-To-Income Ratio in the declined set to match the decimal format of approved set. \n",
    "Currently, the declined set contains DTI in percentages, hence, we remove % sign and convert the DTI values to float type."
   ]
  },
  {
   "cell_type": "code",
   "execution_count": 28,
   "metadata": {},
   "outputs": [],
   "source": [
    "declined_loans['Debt-To-Income Ratio'] = list(map(lambda dti: float(dti[:-1]),\n",
    "                                             declined_loans['Debt-To-Income Ratio']))\n"
   ]
  },
  {
   "cell_type": "code",
   "execution_count": 29,
   "metadata": {},
   "outputs": [
    {
     "data": {
      "text/html": [
       "<div>\n",
       "<style scoped>\n",
       "    .dataframe tbody tr th:only-of-type {\n",
       "        vertical-align: middle;\n",
       "    }\n",
       "\n",
       "    .dataframe tbody tr th {\n",
       "        vertical-align: top;\n",
       "    }\n",
       "\n",
       "    .dataframe thead th {\n",
       "        text-align: right;\n",
       "    }\n",
       "</style>\n",
       "<table border=\"1\" class=\"dataframe\">\n",
       "  <thead>\n",
       "    <tr style=\"text-align: right;\">\n",
       "      <th></th>\n",
       "      <th>Amount Requested</th>\n",
       "      <th>Application Date</th>\n",
       "      <th>Debt-To-Income Ratio</th>\n",
       "      <th>Zip Code</th>\n",
       "      <th>Employment Length</th>\n",
       "      <th>Policy Code</th>\n",
       "      <th>Approved</th>\n",
       "    </tr>\n",
       "  </thead>\n",
       "  <tbody>\n",
       "    <tr>\n",
       "      <th>25221177</th>\n",
       "      <td>10000.0</td>\n",
       "      <td>2017-05-09</td>\n",
       "      <td>20.03</td>\n",
       "      <td>922xx</td>\n",
       "      <td>&lt; 1 year</td>\n",
       "      <td>0.0</td>\n",
       "      <td>0</td>\n",
       "    </tr>\n",
       "    <tr>\n",
       "      <th>15860144</th>\n",
       "      <td>20000.0</td>\n",
       "      <td>2018-11-11</td>\n",
       "      <td>18.60</td>\n",
       "      <td>484xx</td>\n",
       "      <td>&lt; 1 year</td>\n",
       "      <td>0.0</td>\n",
       "      <td>0</td>\n",
       "    </tr>\n",
       "    <tr>\n",
       "      <th>6035463</th>\n",
       "      <td>5800.0</td>\n",
       "      <td>2018-08-27</td>\n",
       "      <td>15.79</td>\n",
       "      <td>906xx</td>\n",
       "      <td>&lt; 1 year</td>\n",
       "      <td>0.0</td>\n",
       "      <td>0</td>\n",
       "    </tr>\n",
       "    <tr>\n",
       "      <th>12636787</th>\n",
       "      <td>11450.0</td>\n",
       "      <td>2017-08-19</td>\n",
       "      <td>100.00</td>\n",
       "      <td>754xx</td>\n",
       "      <td>&lt; 1 year</td>\n",
       "      <td>0.0</td>\n",
       "      <td>0</td>\n",
       "    </tr>\n",
       "    <tr>\n",
       "      <th>6076264</th>\n",
       "      <td>3000.0</td>\n",
       "      <td>2018-08-29</td>\n",
       "      <td>7.67</td>\n",
       "      <td>916xx</td>\n",
       "      <td>&lt; 1 year</td>\n",
       "      <td>0.0</td>\n",
       "      <td>0</td>\n",
       "    </tr>\n",
       "  </tbody>\n",
       "</table>\n",
       "</div>"
      ],
      "text/plain": [
       "          Amount Requested Application Date  Debt-To-Income Ratio Zip Code  \\\n",
       "25221177           10000.0       2017-05-09                 20.03    922xx   \n",
       "15860144           20000.0       2018-11-11                 18.60    484xx   \n",
       "6035463             5800.0       2018-08-27                 15.79    906xx   \n",
       "12636787           11450.0       2017-08-19                100.00    754xx   \n",
       "6076264             3000.0       2018-08-29                  7.67    916xx   \n",
       "\n",
       "         Employment Length  Policy Code  Approved  \n",
       "25221177          < 1 year          0.0         0  \n",
       "15860144          < 1 year          0.0         0  \n",
       "6035463           < 1 year          0.0         0  \n",
       "12636787          < 1 year          0.0         0  \n",
       "6076264           < 1 year          0.0         0  "
      ]
     },
     "execution_count": 29,
     "metadata": {},
     "output_type": "execute_result"
    }
   ],
   "source": [
    "declined_loans.head() "
   ]
  },
  {
   "cell_type": "markdown",
   "metadata": {},
   "source": [
    "#### 3.2 Checking for the missing values in the booth datasets.\n",
    "If the percentage of the missing datat is not high, <10%, we will drop the entries with NaN value. "
   ]
  },
  {
   "cell_type": "code",
   "execution_count": 30,
   "metadata": {},
   "outputs": [],
   "source": [
    "nan_info = pd.DataFrame({\"Approved loan NaN rows\": approved_loans.isnull().sum(),\n",
    "                          \"Approved loan NaN rows %\": approved_loans.isnull().sum() / len(approved_loans), \n",
    "                          \"Declined loan NaN rows\": declined_loans.isnull().sum(),\n",
    "                          \"Declined loan NaN rows %\": declined_loans.isnull().sum() / len(declined_loans)})\n"
   ]
  },
  {
   "cell_type": "code",
   "execution_count": 31,
   "metadata": {},
   "outputs": [
    {
     "name": "stdout",
     "output_type": "stream",
     "text": [
      "                      Approved loan NaN rows  Approved loan NaN rows %  \\\n",
      "Amount Requested                          21                  0.000019   \n",
      "Application Date                          21                  0.000019   \n",
      "Approved                                   0                  0.000000   \n",
      "Debt-To-Income Ratio                     873                  0.000772   \n",
      "Employment Length                      73579                  0.065094   \n",
      "Policy Code                               21                  0.000019   \n",
      "State                                     21                  0.000019   \n",
      "Zip Code                                  21                  0.000019   \n",
      "\n",
      "                      Declined loan NaN rows  Declined loan NaN rows %  \n",
      "Amount Requested                         0.0                  0.000000  \n",
      "Application Date                         0.0                  0.000000  \n",
      "Approved                                 0.0                  0.000000  \n",
      "Debt-To-Income Ratio                     0.0                  0.000000  \n",
      "Employment Length                    39055.0                  0.034551  \n",
      "Policy Code                             34.0                  0.000030  \n",
      "State                                    NaN                       NaN  \n",
      "Zip Code                                13.0                  0.000012  \n"
     ]
    }
   ],
   "source": [
    "print(nan_info)"
   ]
  },
  {
   "cell_type": "markdown",
   "metadata": {},
   "source": [
    "As the NaN rows are less than 0.1% of each dataset, we can drop those rows as the leftover data contains full set of features and we do noot need to even to populate the missing rows (i.e by making them mean of data). The loss of data won't bias our learning either as it is minimal. "
   ]
  },
  {
   "cell_type": "code",
   "execution_count": 32,
   "metadata": {},
   "outputs": [],
   "source": [
    "approved_loans = approved_loans.dropna()\n",
    "declined_loans = declined_loans.dropna()\n"
   ]
  },
  {
   "attachments": {
    "Screen%20Shot%202022-02-20%20at%2017.22.12.png": {
     "image/png": "[encoded data removed]"
    },
    "Screen%20Shot%202022-02-20%20at%2017.23.44.png": {
     "image/png": "[encoded data removed]"
    }
   },
   "cell_type": "markdown",
   "metadata": {},
   "source": [
    "#### 3.3 Picking the period of time to work with in our dataset:\n",
    "\n",
    "We focus here on the period after the great reccesion which ended in 2009. Then, I looked into which years had general stable enviroment based on the The Balance report for US Inflation Rate from 1929 to 2023. In our dataset, starting from 2015 to 2018 are most stable years with low inflation rates. I am selecting those dates to not count for possible cnfidung variables such as inflation and economic crisis in the deetermination of the max loan amount.\n",
    "\n",
    "![Screen%20Shot%202022-02-20%20at%2017.23.44.png](attachment:Screen%20Shot%202022-02-20%20at%2017.23.44.png)\n",
    "\n",
    "![Screen%20Shot%202022-02-20%20at%2017.22.12.png](attachment:Screen%20Shot%202022-02-20%20at%2017.22.12.png)\n",
    "Image taken from https://www.thebalance.com/u-s-inflation-rate-history-by-year-and-forecast-3306093\n"
   ]
  },
  {
   "cell_type": "code",
   "execution_count": 33,
   "metadata": {},
   "outputs": [],
   "source": [
    "# making deepcopy of the declined data for further processing \n",
    "declined_loans_copy = copy.deepcopy(declined_loans)"
   ]
  },
  {
   "cell_type": "code",
   "execution_count": 34,
   "metadata": {},
   "outputs": [],
   "source": [
    "# Picking data only between 2015 and end of 2018 for declined loans \n",
    "declined_loans_copy = declined_loans_copy[(declined_loans_copy['Application Date'] > '2015-01-01')]"
   ]
  },
  {
   "cell_type": "code",
   "execution_count": 35,
   "metadata": {},
   "outputs": [
    {
     "name": "stdout",
     "output_type": "stream",
     "text": [
      "The earliest date in the declined dataset is: 2015-01-02\n",
      "The latest date in the declined dataset is: 2018-12-31\n"
     ]
    }
   ],
   "source": [
    "#checking the earliest and lastest dates in the updated dataset\n",
    "print(\"The earliest date in the declined dataset is:\", declined_loans_copy['Application Date'].min())\n",
    "print(\"The latest date in the declined dataset is:\", declined_loans_copy['Application Date'].max())\n"
   ]
  },
  {
   "cell_type": "code",
   "execution_count": 36,
   "metadata": {},
   "outputs": [
    {
     "data": {
      "text/plain": [
       "(952381, 7)"
      ]
     },
     "execution_count": 36,
     "metadata": {},
     "output_type": "execute_result"
    }
   ],
   "source": [
    "# Checking the current state of the declined dataset\n",
    "declined_loans_copy.shape"
   ]
  },
  {
   "cell_type": "code",
   "execution_count": 37,
   "metadata": {},
   "outputs": [
    {
     "data": {
      "text/html": [
       "<div>\n",
       "<style scoped>\n",
       "    .dataframe tbody tr th:only-of-type {\n",
       "        vertical-align: middle;\n",
       "    }\n",
       "\n",
       "    .dataframe tbody tr th {\n",
       "        vertical-align: top;\n",
       "    }\n",
       "\n",
       "    .dataframe thead th {\n",
       "        text-align: right;\n",
       "    }\n",
       "</style>\n",
       "<table border=\"1\" class=\"dataframe\">\n",
       "  <thead>\n",
       "    <tr style=\"text-align: right;\">\n",
       "      <th></th>\n",
       "      <th>Amount Requested</th>\n",
       "      <th>Application Date</th>\n",
       "      <th>Debt-To-Income Ratio</th>\n",
       "      <th>Zip Code</th>\n",
       "      <th>Employment Length</th>\n",
       "      <th>Policy Code</th>\n",
       "      <th>Approved</th>\n",
       "    </tr>\n",
       "  </thead>\n",
       "  <tbody>\n",
       "    <tr>\n",
       "      <th>25221177</th>\n",
       "      <td>10000.0</td>\n",
       "      <td>2017-05-09</td>\n",
       "      <td>20.03</td>\n",
       "      <td>922xx</td>\n",
       "      <td>&lt; 1 year</td>\n",
       "      <td>0.0</td>\n",
       "      <td>0</td>\n",
       "    </tr>\n",
       "    <tr>\n",
       "      <th>15860144</th>\n",
       "      <td>20000.0</td>\n",
       "      <td>2018-11-11</td>\n",
       "      <td>18.60</td>\n",
       "      <td>484xx</td>\n",
       "      <td>&lt; 1 year</td>\n",
       "      <td>0.0</td>\n",
       "      <td>0</td>\n",
       "    </tr>\n",
       "    <tr>\n",
       "      <th>6035463</th>\n",
       "      <td>5800.0</td>\n",
       "      <td>2018-08-27</td>\n",
       "      <td>15.79</td>\n",
       "      <td>906xx</td>\n",
       "      <td>&lt; 1 year</td>\n",
       "      <td>0.0</td>\n",
       "      <td>0</td>\n",
       "    </tr>\n",
       "    <tr>\n",
       "      <th>12636787</th>\n",
       "      <td>11450.0</td>\n",
       "      <td>2017-08-19</td>\n",
       "      <td>100.00</td>\n",
       "      <td>754xx</td>\n",
       "      <td>&lt; 1 year</td>\n",
       "      <td>0.0</td>\n",
       "      <td>0</td>\n",
       "    </tr>\n",
       "    <tr>\n",
       "      <th>6076264</th>\n",
       "      <td>3000.0</td>\n",
       "      <td>2018-08-29</td>\n",
       "      <td>7.67</td>\n",
       "      <td>916xx</td>\n",
       "      <td>&lt; 1 year</td>\n",
       "      <td>0.0</td>\n",
       "      <td>0</td>\n",
       "    </tr>\n",
       "  </tbody>\n",
       "</table>\n",
       "</div>"
      ],
      "text/plain": [
       "          Amount Requested Application Date  Debt-To-Income Ratio Zip Code  \\\n",
       "25221177           10000.0       2017-05-09                 20.03    922xx   \n",
       "15860144           20000.0       2018-11-11                 18.60    484xx   \n",
       "6035463             5800.0       2018-08-27                 15.79    906xx   \n",
       "12636787           11450.0       2017-08-19                100.00    754xx   \n",
       "6076264             3000.0       2018-08-29                  7.67    916xx   \n",
       "\n",
       "         Employment Length  Policy Code  Approved  \n",
       "25221177          < 1 year          0.0         0  \n",
       "15860144          < 1 year          0.0         0  \n",
       "6035463           < 1 year          0.0         0  \n",
       "12636787          < 1 year          0.0         0  \n",
       "6076264           < 1 year          0.0         0  "
      ]
     },
     "execution_count": 37,
     "metadata": {},
     "output_type": "execute_result"
    }
   ],
   "source": [
    "# Checking the current state of the declined dataset\n",
    "declined_loans_copy.head()"
   ]
  },
  {
   "cell_type": "code",
   "execution_count": 38,
   "metadata": {},
   "outputs": [],
   "source": [
    "# making deepcopy of the approved data for further processing \n",
    "approved_loans_copy = copy.deepcopy(approved_loans)"
   ]
  },
  {
   "cell_type": "code",
   "execution_count": 39,
   "metadata": {},
   "outputs": [],
   "source": [
    "from datetime import datetime\n",
    "\n",
    "# A helper function to tranform the string date format in the approved dataset \n",
    "# to the datetime format like in the declined dataset\n",
    "def date_string_to_datetime(row):\n",
    "    return datetime.strptime(row['Application Date'], \"%b-%Y\")"
   ]
  },
  {
   "cell_type": "code",
   "execution_count": 40,
   "metadata": {},
   "outputs": [],
   "source": [
    "# Tranforming the date data by using the helper fucntion\n",
    "approved_loans_copy['Application Date'] = approved_loans_copy.apply(date_string_to_datetime, axis=1)"
   ]
  },
  {
   "cell_type": "code",
   "execution_count": 41,
   "metadata": {},
   "outputs": [
    {
     "data": {
      "text/html": [
       "<div>\n",
       "<style scoped>\n",
       "    .dataframe tbody tr th:only-of-type {\n",
       "        vertical-align: middle;\n",
       "    }\n",
       "\n",
       "    .dataframe tbody tr th {\n",
       "        vertical-align: top;\n",
       "    }\n",
       "\n",
       "    .dataframe thead th {\n",
       "        text-align: right;\n",
       "    }\n",
       "</style>\n",
       "<table border=\"1\" class=\"dataframe\">\n",
       "  <thead>\n",
       "    <tr style=\"text-align: right;\">\n",
       "      <th></th>\n",
       "      <th>Amount Requested</th>\n",
       "      <th>Application Date</th>\n",
       "      <th>Debt-To-Income Ratio</th>\n",
       "      <th>State</th>\n",
       "      <th>Employment Length</th>\n",
       "      <th>Policy Code</th>\n",
       "      <th>Zip Code</th>\n",
       "      <th>Approved</th>\n",
       "    </tr>\n",
       "  </thead>\n",
       "  <tbody>\n",
       "    <tr>\n",
       "      <th>1557444</th>\n",
       "      <td>11000.0</td>\n",
       "      <td>2018-05-01</td>\n",
       "      <td>16.10</td>\n",
       "      <td>PA</td>\n",
       "      <td>8 years</td>\n",
       "      <td>1.0</td>\n",
       "      <td>169xx</td>\n",
       "      <td>1</td>\n",
       "    </tr>\n",
       "    <tr>\n",
       "      <th>1089926</th>\n",
       "      <td>12000.0</td>\n",
       "      <td>2016-01-01</td>\n",
       "      <td>19.84</td>\n",
       "      <td>TX</td>\n",
       "      <td>9 years</td>\n",
       "      <td>1.0</td>\n",
       "      <td>773xx</td>\n",
       "      <td>1</td>\n",
       "    </tr>\n",
       "    <tr>\n",
       "      <th>71683</th>\n",
       "      <td>5000.0</td>\n",
       "      <td>2015-11-01</td>\n",
       "      <td>16.95</td>\n",
       "      <td>MI</td>\n",
       "      <td>1 year</td>\n",
       "      <td>1.0</td>\n",
       "      <td>490xx</td>\n",
       "      <td>1</td>\n",
       "    </tr>\n",
       "    <tr>\n",
       "      <th>356146</th>\n",
       "      <td>20000.0</td>\n",
       "      <td>2015-04-01</td>\n",
       "      <td>34.56</td>\n",
       "      <td>CA</td>\n",
       "      <td>8 years</td>\n",
       "      <td>1.0</td>\n",
       "      <td>900xx</td>\n",
       "      <td>1</td>\n",
       "    </tr>\n",
       "    <tr>\n",
       "      <th>1396198</th>\n",
       "      <td>5000.0</td>\n",
       "      <td>2018-11-01</td>\n",
       "      <td>35.58</td>\n",
       "      <td>FL</td>\n",
       "      <td>10+ years</td>\n",
       "      <td>1.0</td>\n",
       "      <td>330xx</td>\n",
       "      <td>1</td>\n",
       "    </tr>\n",
       "  </tbody>\n",
       "</table>\n",
       "</div>"
      ],
      "text/plain": [
       "         Amount Requested Application Date  Debt-To-Income Ratio State  \\\n",
       "1557444           11000.0       2018-05-01                 16.10    PA   \n",
       "1089926           12000.0       2016-01-01                 19.84    TX   \n",
       "71683              5000.0       2015-11-01                 16.95    MI   \n",
       "356146            20000.0       2015-04-01                 34.56    CA   \n",
       "1396198            5000.0       2018-11-01                 35.58    FL   \n",
       "\n",
       "        Employment Length  Policy Code Zip Code  Approved  \n",
       "1557444           8 years          1.0    169xx         1  \n",
       "1089926           9 years          1.0    773xx         1  \n",
       "71683              1 year          1.0    490xx         1  \n",
       "356146            8 years          1.0    900xx         1  \n",
       "1396198         10+ years          1.0    330xx         1  "
      ]
     },
     "execution_count": 41,
     "metadata": {},
     "output_type": "execute_result"
    }
   ],
   "source": [
    "# Checking the current state of the approved dataset \n",
    "approved_loans_copy.head()"
   ]
  },
  {
   "cell_type": "code",
   "execution_count": 42,
   "metadata": {},
   "outputs": [],
   "source": [
    "# Picking data only between 2015 and end of 2018 for approved loans \n",
    "approved_loans_copy = approved_loans_copy[(approved_loans_copy['Application Date'] > '2015-01-01')]\n"
   ]
  },
  {
   "cell_type": "code",
   "execution_count": 43,
   "metadata": {},
   "outputs": [
    {
     "name": "stdout",
     "output_type": "stream",
     "text": [
      "The earliest date in the declined dataset is: 2015-02-01 00:00:00\n",
      "The latest date in the declined dataset is: 2018-12-01 00:00:00\n"
     ]
    }
   ],
   "source": [
    "#checking the earliest and lastest dates in the updated dataset\n",
    "print(\"The earliest date in the declined dataset is:\", approved_loans_copy['Application Date'].min())\n",
    "print(\"The latest date in the declined dataset is:\", approved_loans_copy['Application Date'].max())"
   ]
  },
  {
   "cell_type": "code",
   "execution_count": 44,
   "metadata": {},
   "outputs": [
    {
     "data": {
      "text/html": [
       "<div>\n",
       "<style scoped>\n",
       "    .dataframe tbody tr th:only-of-type {\n",
       "        vertical-align: middle;\n",
       "    }\n",
       "\n",
       "    .dataframe tbody tr th {\n",
       "        vertical-align: top;\n",
       "    }\n",
       "\n",
       "    .dataframe thead th {\n",
       "        text-align: right;\n",
       "    }\n",
       "</style>\n",
       "<table border=\"1\" class=\"dataframe\">\n",
       "  <thead>\n",
       "    <tr style=\"text-align: right;\">\n",
       "      <th></th>\n",
       "      <th>Amount Requested</th>\n",
       "      <th>Application Date</th>\n",
       "      <th>Debt-To-Income Ratio</th>\n",
       "      <th>State</th>\n",
       "      <th>Employment Length</th>\n",
       "      <th>Policy Code</th>\n",
       "      <th>Zip Code</th>\n",
       "      <th>Approved</th>\n",
       "    </tr>\n",
       "  </thead>\n",
       "  <tbody>\n",
       "    <tr>\n",
       "      <th>1557444</th>\n",
       "      <td>11000.0</td>\n",
       "      <td>2018-05-01</td>\n",
       "      <td>16.10</td>\n",
       "      <td>PA</td>\n",
       "      <td>8 years</td>\n",
       "      <td>1.0</td>\n",
       "      <td>169xx</td>\n",
       "      <td>1</td>\n",
       "    </tr>\n",
       "    <tr>\n",
       "      <th>1089926</th>\n",
       "      <td>12000.0</td>\n",
       "      <td>2016-01-01</td>\n",
       "      <td>19.84</td>\n",
       "      <td>TX</td>\n",
       "      <td>9 years</td>\n",
       "      <td>1.0</td>\n",
       "      <td>773xx</td>\n",
       "      <td>1</td>\n",
       "    </tr>\n",
       "    <tr>\n",
       "      <th>71683</th>\n",
       "      <td>5000.0</td>\n",
       "      <td>2015-11-01</td>\n",
       "      <td>16.95</td>\n",
       "      <td>MI</td>\n",
       "      <td>1 year</td>\n",
       "      <td>1.0</td>\n",
       "      <td>490xx</td>\n",
       "      <td>1</td>\n",
       "    </tr>\n",
       "    <tr>\n",
       "      <th>356146</th>\n",
       "      <td>20000.0</td>\n",
       "      <td>2015-04-01</td>\n",
       "      <td>34.56</td>\n",
       "      <td>CA</td>\n",
       "      <td>8 years</td>\n",
       "      <td>1.0</td>\n",
       "      <td>900xx</td>\n",
       "      <td>1</td>\n",
       "    </tr>\n",
       "    <tr>\n",
       "      <th>1396198</th>\n",
       "      <td>5000.0</td>\n",
       "      <td>2018-11-01</td>\n",
       "      <td>35.58</td>\n",
       "      <td>FL</td>\n",
       "      <td>10+ years</td>\n",
       "      <td>1.0</td>\n",
       "      <td>330xx</td>\n",
       "      <td>1</td>\n",
       "    </tr>\n",
       "  </tbody>\n",
       "</table>\n",
       "</div>"
      ],
      "text/plain": [
       "         Amount Requested Application Date  Debt-To-Income Ratio State  \\\n",
       "1557444           11000.0       2018-05-01                 16.10    PA   \n",
       "1089926           12000.0       2016-01-01                 19.84    TX   \n",
       "71683              5000.0       2015-11-01                 16.95    MI   \n",
       "356146            20000.0       2015-04-01                 34.56    CA   \n",
       "1396198            5000.0       2018-11-01                 35.58    FL   \n",
       "\n",
       "        Employment Length  Policy Code Zip Code  Approved  \n",
       "1557444           8 years          1.0    169xx         1  \n",
       "1089926           9 years          1.0    773xx         1  \n",
       "71683              1 year          1.0    490xx         1  \n",
       "356146            8 years          1.0    900xx         1  \n",
       "1396198         10+ years          1.0    330xx         1  "
      ]
     },
     "execution_count": 44,
     "metadata": {},
     "output_type": "execute_result"
    }
   ],
   "source": [
    "# Checking the current state of the approved dataset \n",
    "approved_loans_copy.head()"
   ]
  },
  {
   "cell_type": "code",
   "execution_count": 45,
   "metadata": {},
   "outputs": [
    {
     "data": {
      "text/plain": [
       "(817602, 8)"
      ]
     },
     "execution_count": 45,
     "metadata": {},
     "output_type": "execute_result"
    }
   ],
   "source": [
    "# Checking the current state of the approved dataset \n",
    "approved_loans_copy.shape"
   ]
  },
  {
   "cell_type": "markdown",
   "metadata": {},
   "source": [
    "#### 3.4 Dropping Approved date from both sets"
   ]
  },
  {
   "cell_type": "code",
   "execution_count": 46,
   "metadata": {},
   "outputs": [],
   "source": [
    "# Removing the columns \n",
    "declined_loans_copy.drop(['Application Date'], axis=1, inplace=True)\n",
    "approved_loans_copy.drop(['Application Date', 'State'], axis=1, inplace=True)"
   ]
  },
  {
   "cell_type": "code",
   "execution_count": 47,
   "metadata": {},
   "outputs": [
    {
     "data": {
      "text/html": [
       "<div>\n",
       "<style scoped>\n",
       "    .dataframe tbody tr th:only-of-type {\n",
       "        vertical-align: middle;\n",
       "    }\n",
       "\n",
       "    .dataframe tbody tr th {\n",
       "        vertical-align: top;\n",
       "    }\n",
       "\n",
       "    .dataframe thead th {\n",
       "        text-align: right;\n",
       "    }\n",
       "</style>\n",
       "<table border=\"1\" class=\"dataframe\">\n",
       "  <thead>\n",
       "    <tr style=\"text-align: right;\">\n",
       "      <th></th>\n",
       "      <th>Amount Requested</th>\n",
       "      <th>Debt-To-Income Ratio</th>\n",
       "      <th>Employment Length</th>\n",
       "      <th>Policy Code</th>\n",
       "      <th>Zip Code</th>\n",
       "      <th>Approved</th>\n",
       "    </tr>\n",
       "  </thead>\n",
       "  <tbody>\n",
       "    <tr>\n",
       "      <th>1557444</th>\n",
       "      <td>11000.0</td>\n",
       "      <td>16.10</td>\n",
       "      <td>8 years</td>\n",
       "      <td>1.0</td>\n",
       "      <td>169xx</td>\n",
       "      <td>1</td>\n",
       "    </tr>\n",
       "    <tr>\n",
       "      <th>1089926</th>\n",
       "      <td>12000.0</td>\n",
       "      <td>19.84</td>\n",
       "      <td>9 years</td>\n",
       "      <td>1.0</td>\n",
       "      <td>773xx</td>\n",
       "      <td>1</td>\n",
       "    </tr>\n",
       "    <tr>\n",
       "      <th>71683</th>\n",
       "      <td>5000.0</td>\n",
       "      <td>16.95</td>\n",
       "      <td>1 year</td>\n",
       "      <td>1.0</td>\n",
       "      <td>490xx</td>\n",
       "      <td>1</td>\n",
       "    </tr>\n",
       "    <tr>\n",
       "      <th>356146</th>\n",
       "      <td>20000.0</td>\n",
       "      <td>34.56</td>\n",
       "      <td>8 years</td>\n",
       "      <td>1.0</td>\n",
       "      <td>900xx</td>\n",
       "      <td>1</td>\n",
       "    </tr>\n",
       "    <tr>\n",
       "      <th>1396198</th>\n",
       "      <td>5000.0</td>\n",
       "      <td>35.58</td>\n",
       "      <td>10+ years</td>\n",
       "      <td>1.0</td>\n",
       "      <td>330xx</td>\n",
       "      <td>1</td>\n",
       "    </tr>\n",
       "  </tbody>\n",
       "</table>\n",
       "</div>"
      ],
      "text/plain": [
       "         Amount Requested  Debt-To-Income Ratio Employment Length  \\\n",
       "1557444           11000.0                 16.10           8 years   \n",
       "1089926           12000.0                 19.84           9 years   \n",
       "71683              5000.0                 16.95            1 year   \n",
       "356146            20000.0                 34.56           8 years   \n",
       "1396198            5000.0                 35.58         10+ years   \n",
       "\n",
       "         Policy Code Zip Code  Approved  \n",
       "1557444          1.0    169xx         1  \n",
       "1089926          1.0    773xx         1  \n",
       "71683            1.0    490xx         1  \n",
       "356146           1.0    900xx         1  \n",
       "1396198          1.0    330xx         1  "
      ]
     },
     "execution_count": 47,
     "metadata": {},
     "output_type": "execute_result"
    }
   ],
   "source": [
    "approved_loans_copy.head()"
   ]
  },
  {
   "cell_type": "code",
   "execution_count": 48,
   "metadata": {},
   "outputs": [
    {
     "data": {
      "text/html": [
       "<div>\n",
       "<style scoped>\n",
       "    .dataframe tbody tr th:only-of-type {\n",
       "        vertical-align: middle;\n",
       "    }\n",
       "\n",
       "    .dataframe tbody tr th {\n",
       "        vertical-align: top;\n",
       "    }\n",
       "\n",
       "    .dataframe thead th {\n",
       "        text-align: right;\n",
       "    }\n",
       "</style>\n",
       "<table border=\"1\" class=\"dataframe\">\n",
       "  <thead>\n",
       "    <tr style=\"text-align: right;\">\n",
       "      <th></th>\n",
       "      <th>Amount Requested</th>\n",
       "      <th>Debt-To-Income Ratio</th>\n",
       "      <th>Zip Code</th>\n",
       "      <th>Employment Length</th>\n",
       "      <th>Policy Code</th>\n",
       "      <th>Approved</th>\n",
       "    </tr>\n",
       "  </thead>\n",
       "  <tbody>\n",
       "    <tr>\n",
       "      <th>25221177</th>\n",
       "      <td>10000.0</td>\n",
       "      <td>20.03</td>\n",
       "      <td>922xx</td>\n",
       "      <td>&lt; 1 year</td>\n",
       "      <td>0.0</td>\n",
       "      <td>0</td>\n",
       "    </tr>\n",
       "    <tr>\n",
       "      <th>15860144</th>\n",
       "      <td>20000.0</td>\n",
       "      <td>18.60</td>\n",
       "      <td>484xx</td>\n",
       "      <td>&lt; 1 year</td>\n",
       "      <td>0.0</td>\n",
       "      <td>0</td>\n",
       "    </tr>\n",
       "    <tr>\n",
       "      <th>6035463</th>\n",
       "      <td>5800.0</td>\n",
       "      <td>15.79</td>\n",
       "      <td>906xx</td>\n",
       "      <td>&lt; 1 year</td>\n",
       "      <td>0.0</td>\n",
       "      <td>0</td>\n",
       "    </tr>\n",
       "    <tr>\n",
       "      <th>12636787</th>\n",
       "      <td>11450.0</td>\n",
       "      <td>100.00</td>\n",
       "      <td>754xx</td>\n",
       "      <td>&lt; 1 year</td>\n",
       "      <td>0.0</td>\n",
       "      <td>0</td>\n",
       "    </tr>\n",
       "    <tr>\n",
       "      <th>6076264</th>\n",
       "      <td>3000.0</td>\n",
       "      <td>7.67</td>\n",
       "      <td>916xx</td>\n",
       "      <td>&lt; 1 year</td>\n",
       "      <td>0.0</td>\n",
       "      <td>0</td>\n",
       "    </tr>\n",
       "  </tbody>\n",
       "</table>\n",
       "</div>"
      ],
      "text/plain": [
       "          Amount Requested  Debt-To-Income Ratio Zip Code Employment Length  \\\n",
       "25221177           10000.0                 20.03    922xx          < 1 year   \n",
       "15860144           20000.0                 18.60    484xx          < 1 year   \n",
       "6035463             5800.0                 15.79    906xx          < 1 year   \n",
       "12636787           11450.0                100.00    754xx          < 1 year   \n",
       "6076264             3000.0                  7.67    916xx          < 1 year   \n",
       "\n",
       "          Policy Code  Approved  \n",
       "25221177          0.0         0  \n",
       "15860144          0.0         0  \n",
       "6035463           0.0         0  \n",
       "12636787          0.0         0  \n",
       "6076264           0.0         0  "
      ]
     },
     "execution_count": 48,
     "metadata": {},
     "output_type": "execute_result"
    }
   ],
   "source": [
    "declined_loans_copy.head()"
   ]
  },
  {
   "cell_type": "markdown",
   "metadata": {},
   "source": [
    "## Step 4. Merging two datasets and transforming merged variables into cetegorical/numerical variables"
   ]
  },
  {
   "cell_type": "markdown",
   "metadata": {},
   "source": [
    "#### 4.1 Merging the datasets"
   ]
  },
  {
   "cell_type": "code",
   "execution_count": 66,
   "metadata": {},
   "outputs": [],
   "source": [
    "# Merging rows of declined and approved datasets\n",
    "combined_loans = pd.concat([approved_loans_copy, declined_loans_copy])\n",
    "# Balancing the merged data\n",
    "combined_loans = combined_loans.sample(frac = 1) "
   ]
  },
  {
   "cell_type": "code",
   "execution_count": 67,
   "metadata": {},
   "outputs": [
    {
     "data": {
      "text/html": [
       "<div>\n",
       "<style scoped>\n",
       "    .dataframe tbody tr th:only-of-type {\n",
       "        vertical-align: middle;\n",
       "    }\n",
       "\n",
       "    .dataframe tbody tr th {\n",
       "        vertical-align: top;\n",
       "    }\n",
       "\n",
       "    .dataframe thead th {\n",
       "        text-align: right;\n",
       "    }\n",
       "</style>\n",
       "<table border=\"1\" class=\"dataframe\">\n",
       "  <thead>\n",
       "    <tr style=\"text-align: right;\">\n",
       "      <th></th>\n",
       "      <th>Amount Requested</th>\n",
       "      <th>Approved</th>\n",
       "      <th>Debt-To-Income Ratio</th>\n",
       "      <th>Employment Length</th>\n",
       "      <th>Policy Code</th>\n",
       "      <th>Zip Code</th>\n",
       "    </tr>\n",
       "  </thead>\n",
       "  <tbody>\n",
       "    <tr>\n",
       "      <th>2115161</th>\n",
       "      <td>15000.0</td>\n",
       "      <td>1</td>\n",
       "      <td>7.40</td>\n",
       "      <td>7 years</td>\n",
       "      <td>1.0</td>\n",
       "      <td>838xx</td>\n",
       "    </tr>\n",
       "    <tr>\n",
       "      <th>19418551</th>\n",
       "      <td>8000.0</td>\n",
       "      <td>0</td>\n",
       "      <td>26.89</td>\n",
       "      <td>&lt; 1 year</td>\n",
       "      <td>0.0</td>\n",
       "      <td>641xx</td>\n",
       "    </tr>\n",
       "    <tr>\n",
       "      <th>1425629</th>\n",
       "      <td>7200.0</td>\n",
       "      <td>1</td>\n",
       "      <td>34.49</td>\n",
       "      <td>5 years</td>\n",
       "      <td>1.0</td>\n",
       "      <td>300xx</td>\n",
       "    </tr>\n",
       "    <tr>\n",
       "      <th>3051758</th>\n",
       "      <td>27600.0</td>\n",
       "      <td>0</td>\n",
       "      <td>41.51</td>\n",
       "      <td>5 years</td>\n",
       "      <td>0.0</td>\n",
       "      <td>441xx</td>\n",
       "    </tr>\n",
       "    <tr>\n",
       "      <th>24841844</th>\n",
       "      <td>15000.0</td>\n",
       "      <td>0</td>\n",
       "      <td>1.50</td>\n",
       "      <td>&lt; 1 year</td>\n",
       "      <td>0.0</td>\n",
       "      <td>629xx</td>\n",
       "    </tr>\n",
       "  </tbody>\n",
       "</table>\n",
       "</div>"
      ],
      "text/plain": [
       "          Amount Requested  Approved  Debt-To-Income Ratio Employment Length  \\\n",
       "2115161            15000.0         1                  7.40           7 years   \n",
       "19418551            8000.0         0                 26.89          < 1 year   \n",
       "1425629             7200.0         1                 34.49           5 years   \n",
       "3051758            27600.0         0                 41.51           5 years   \n",
       "24841844           15000.0         0                  1.50          < 1 year   \n",
       "\n",
       "          Policy Code Zip Code  \n",
       "2115161           1.0    838xx  \n",
       "19418551          0.0    641xx  \n",
       "1425629           1.0    300xx  \n",
       "3051758           0.0    441xx  \n",
       "24841844          0.0    629xx  "
      ]
     },
     "execution_count": 67,
     "metadata": {},
     "output_type": "execute_result"
    }
   ],
   "source": [
    "# checking the merged set\n",
    "combined_loans.head()"
   ]
  },
  {
   "cell_type": "markdown",
   "metadata": {},
   "source": [
    "#### 4.2 Categorizing Zip Code and Approved columns"
   ]
  },
  {
   "cell_type": "code",
   "execution_count": 68,
   "metadata": {},
   "outputs": [],
   "source": [
    "# Defining the catigorical variables for zip code and approved columns \n",
    "combined_loans['Zip Code'] = combined_loans['Zip Code'].astype(\"category\")\n",
    "combined_loans['Approved'] = combined_loans['Approved'].astype(\"category\")\n"
   ]
  },
  {
   "cell_type": "markdown",
   "metadata": {},
   "source": [
    "#### 4.3 Categorizing Employment length column"
   ]
  },
  {
   "cell_type": "code",
   "execution_count": 69,
   "metadata": {},
   "outputs": [],
   "source": [
    "from pandas.api.types import CategoricalDtype\n",
    "\n",
    "# Creating categories for the employment length data \n",
    "empl_length = CategoricalDtype(categories=[\"< 1 year\", \"1 year\", \"2 years\", \"3 years\", \"4 years\", \"5 years\", \"6 years\", \"7 years\", \"8 years\", \"9 years\", \"10+ years\"], ordered=True)\n",
    "# Categorizing the data\n",
    "combined_loans['Employment Length'] = combined_loans['Employment Length'].astype(empl_length)\n",
    "combined_loans['Employment Length'] = combined_loans['Employment Length'].cat.codes\n",
    "combined_loans['Employment Length'] = combined_loans['Employment Length'].astype(\"float\")"
   ]
  },
  {
   "cell_type": "code",
   "execution_count": 70,
   "metadata": {},
   "outputs": [
    {
     "data": {
      "text/html": [
       "<div>\n",
       "<style scoped>\n",
       "    .dataframe tbody tr th:only-of-type {\n",
       "        vertical-align: middle;\n",
       "    }\n",
       "\n",
       "    .dataframe tbody tr th {\n",
       "        vertical-align: top;\n",
       "    }\n",
       "\n",
       "    .dataframe thead th {\n",
       "        text-align: right;\n",
       "    }\n",
       "</style>\n",
       "<table border=\"1\" class=\"dataframe\">\n",
       "  <thead>\n",
       "    <tr style=\"text-align: right;\">\n",
       "      <th></th>\n",
       "      <th>Amount Requested</th>\n",
       "      <th>Approved</th>\n",
       "      <th>Debt-To-Income Ratio</th>\n",
       "      <th>Employment Length</th>\n",
       "      <th>Policy Code</th>\n",
       "      <th>Zip Code</th>\n",
       "    </tr>\n",
       "  </thead>\n",
       "  <tbody>\n",
       "    <tr>\n",
       "      <th>2115161</th>\n",
       "      <td>15000.0</td>\n",
       "      <td>1</td>\n",
       "      <td>7.40</td>\n",
       "      <td>7.0</td>\n",
       "      <td>1.0</td>\n",
       "      <td>838xx</td>\n",
       "    </tr>\n",
       "    <tr>\n",
       "      <th>19418551</th>\n",
       "      <td>8000.0</td>\n",
       "      <td>0</td>\n",
       "      <td>26.89</td>\n",
       "      <td>0.0</td>\n",
       "      <td>0.0</td>\n",
       "      <td>641xx</td>\n",
       "    </tr>\n",
       "    <tr>\n",
       "      <th>1425629</th>\n",
       "      <td>7200.0</td>\n",
       "      <td>1</td>\n",
       "      <td>34.49</td>\n",
       "      <td>5.0</td>\n",
       "      <td>1.0</td>\n",
       "      <td>300xx</td>\n",
       "    </tr>\n",
       "    <tr>\n",
       "      <th>3051758</th>\n",
       "      <td>27600.0</td>\n",
       "      <td>0</td>\n",
       "      <td>41.51</td>\n",
       "      <td>5.0</td>\n",
       "      <td>0.0</td>\n",
       "      <td>441xx</td>\n",
       "    </tr>\n",
       "    <tr>\n",
       "      <th>24841844</th>\n",
       "      <td>15000.0</td>\n",
       "      <td>0</td>\n",
       "      <td>1.50</td>\n",
       "      <td>0.0</td>\n",
       "      <td>0.0</td>\n",
       "      <td>629xx</td>\n",
       "    </tr>\n",
       "  </tbody>\n",
       "</table>\n",
       "</div>"
      ],
      "text/plain": [
       "          Amount Requested Approved  Debt-To-Income Ratio  Employment Length  \\\n",
       "2115161            15000.0        1                  7.40                7.0   \n",
       "19418551            8000.0        0                 26.89                0.0   \n",
       "1425629             7200.0        1                 34.49                5.0   \n",
       "3051758            27600.0        0                 41.51                5.0   \n",
       "24841844           15000.0        0                  1.50                0.0   \n",
       "\n",
       "          Policy Code Zip Code  \n",
       "2115161           1.0    838xx  \n",
       "19418551          0.0    641xx  \n",
       "1425629           1.0    300xx  \n",
       "3051758           0.0    441xx  \n",
       "24841844          0.0    629xx  "
      ]
     },
     "execution_count": 70,
     "metadata": {},
     "output_type": "execute_result"
    }
   ],
   "source": [
    "combined_loans.head()"
   ]
  },
  {
   "cell_type": "code",
   "execution_count": 71,
   "metadata": {},
   "outputs": [
    {
     "data": {
      "text/plain": [
       "(1769983, 6)"
      ]
     },
     "execution_count": 71,
     "metadata": {},
     "output_type": "execute_result"
    }
   ],
   "source": [
    "combined_loans.shape"
   ]
  },
  {
   "cell_type": "markdown",
   "metadata": {},
   "source": [
    "#### 4.4 Binarizing the Zip Code by using one-hot encoding "
   ]
  },
  {
   "cell_type": "code",
   "execution_count": 75,
   "metadata": {},
   "outputs": [],
   "source": [
    "# Tranforming zip code data to one-hot encoding \n",
    "zip_codes = pd.get_dummies(combined_loans[\"Zip Code\"])\n",
    "combined_loans = pd.concat([combined_loans, zip_codes], axis=1)\n"
   ]
  },
  {
   "cell_type": "code",
   "execution_count": 76,
   "metadata": {},
   "outputs": [],
   "source": [
    "# Dropping the Zip Code column\n",
    "combined_loans.drop([\"Zip Code\"], axis =1, inplace=True)"
   ]
  },
  {
   "cell_type": "code",
   "execution_count": 77,
   "metadata": {},
   "outputs": [
    {
     "data": {
      "text/html": [
       "<div>\n",
       "<style scoped>\n",
       "    .dataframe tbody tr th:only-of-type {\n",
       "        vertical-align: middle;\n",
       "    }\n",
       "\n",
       "    .dataframe tbody tr th {\n",
       "        vertical-align: top;\n",
       "    }\n",
       "\n",
       "    .dataframe thead th {\n",
       "        text-align: right;\n",
       "    }\n",
       "</style>\n",
       "<table border=\"1\" class=\"dataframe\">\n",
       "  <thead>\n",
       "    <tr style=\"text-align: right;\">\n",
       "      <th></th>\n",
       "      <th>Amount Requested</th>\n",
       "      <th>Approved</th>\n",
       "      <th>Debt-To-Income Ratio</th>\n",
       "      <th>Employment Length</th>\n",
       "      <th>Policy Code</th>\n",
       "      <th>000xx</th>\n",
       "      <th>001xx</th>\n",
       "      <th>002xx</th>\n",
       "      <th>003xx</th>\n",
       "      <th>004xx</th>\n",
       "      <th>...</th>\n",
       "      <th>990xx</th>\n",
       "      <th>991xx</th>\n",
       "      <th>992xx</th>\n",
       "      <th>993xx</th>\n",
       "      <th>994xx</th>\n",
       "      <th>995xx</th>\n",
       "      <th>996xx</th>\n",
       "      <th>997xx</th>\n",
       "      <th>998xx</th>\n",
       "      <th>999xx</th>\n",
       "    </tr>\n",
       "  </thead>\n",
       "  <tbody>\n",
       "    <tr>\n",
       "      <th>2115161</th>\n",
       "      <td>15000.0</td>\n",
       "      <td>1</td>\n",
       "      <td>7.40</td>\n",
       "      <td>7.0</td>\n",
       "      <td>1.0</td>\n",
       "      <td>0</td>\n",
       "      <td>0</td>\n",
       "      <td>0</td>\n",
       "      <td>0</td>\n",
       "      <td>0</td>\n",
       "      <td>...</td>\n",
       "      <td>0</td>\n",
       "      <td>0</td>\n",
       "      <td>0</td>\n",
       "      <td>0</td>\n",
       "      <td>0</td>\n",
       "      <td>0</td>\n",
       "      <td>0</td>\n",
       "      <td>0</td>\n",
       "      <td>0</td>\n",
       "      <td>0</td>\n",
       "    </tr>\n",
       "    <tr>\n",
       "      <th>19418551</th>\n",
       "      <td>8000.0</td>\n",
       "      <td>0</td>\n",
       "      <td>26.89</td>\n",
       "      <td>0.0</td>\n",
       "      <td>0.0</td>\n",
       "      <td>0</td>\n",
       "      <td>0</td>\n",
       "      <td>0</td>\n",
       "      <td>0</td>\n",
       "      <td>0</td>\n",
       "      <td>...</td>\n",
       "      <td>0</td>\n",
       "      <td>0</td>\n",
       "      <td>0</td>\n",
       "      <td>0</td>\n",
       "      <td>0</td>\n",
       "      <td>0</td>\n",
       "      <td>0</td>\n",
       "      <td>0</td>\n",
       "      <td>0</td>\n",
       "      <td>0</td>\n",
       "    </tr>\n",
       "    <tr>\n",
       "      <th>1425629</th>\n",
       "      <td>7200.0</td>\n",
       "      <td>1</td>\n",
       "      <td>34.49</td>\n",
       "      <td>5.0</td>\n",
       "      <td>1.0</td>\n",
       "      <td>0</td>\n",
       "      <td>0</td>\n",
       "      <td>0</td>\n",
       "      <td>0</td>\n",
       "      <td>0</td>\n",
       "      <td>...</td>\n",
       "      <td>0</td>\n",
       "      <td>0</td>\n",
       "      <td>0</td>\n",
       "      <td>0</td>\n",
       "      <td>0</td>\n",
       "      <td>0</td>\n",
       "      <td>0</td>\n",
       "      <td>0</td>\n",
       "      <td>0</td>\n",
       "      <td>0</td>\n",
       "    </tr>\n",
       "    <tr>\n",
       "      <th>3051758</th>\n",
       "      <td>27600.0</td>\n",
       "      <td>0</td>\n",
       "      <td>41.51</td>\n",
       "      <td>5.0</td>\n",
       "      <td>0.0</td>\n",
       "      <td>0</td>\n",
       "      <td>0</td>\n",
       "      <td>0</td>\n",
       "      <td>0</td>\n",
       "      <td>0</td>\n",
       "      <td>...</td>\n",
       "      <td>0</td>\n",
       "      <td>0</td>\n",
       "      <td>0</td>\n",
       "      <td>0</td>\n",
       "      <td>0</td>\n",
       "      <td>0</td>\n",
       "      <td>0</td>\n",
       "      <td>0</td>\n",
       "      <td>0</td>\n",
       "      <td>0</td>\n",
       "    </tr>\n",
       "    <tr>\n",
       "      <th>24841844</th>\n",
       "      <td>15000.0</td>\n",
       "      <td>0</td>\n",
       "      <td>1.50</td>\n",
       "      <td>0.0</td>\n",
       "      <td>0.0</td>\n",
       "      <td>0</td>\n",
       "      <td>0</td>\n",
       "      <td>0</td>\n",
       "      <td>0</td>\n",
       "      <td>0</td>\n",
       "      <td>...</td>\n",
       "      <td>0</td>\n",
       "      <td>0</td>\n",
       "      <td>0</td>\n",
       "      <td>0</td>\n",
       "      <td>0</td>\n",
       "      <td>0</td>\n",
       "      <td>0</td>\n",
       "      <td>0</td>\n",
       "      <td>0</td>\n",
       "      <td>0</td>\n",
       "    </tr>\n",
       "  </tbody>\n",
       "</table>\n",
       "<p>5 rows × 981 columns</p>\n",
       "</div>"
      ],
      "text/plain": [
       "          Amount Requested Approved  Debt-To-Income Ratio  Employment Length  \\\n",
       "2115161            15000.0        1                  7.40                7.0   \n",
       "19418551            8000.0        0                 26.89                0.0   \n",
       "1425629             7200.0        1                 34.49                5.0   \n",
       "3051758            27600.0        0                 41.51                5.0   \n",
       "24841844           15000.0        0                  1.50                0.0   \n",
       "\n",
       "          Policy Code  000xx  001xx  002xx  003xx  004xx  ...  990xx  991xx  \\\n",
       "2115161           1.0      0      0      0      0      0  ...      0      0   \n",
       "19418551          0.0      0      0      0      0      0  ...      0      0   \n",
       "1425629           1.0      0      0      0      0      0  ...      0      0   \n",
       "3051758           0.0      0      0      0      0      0  ...      0      0   \n",
       "24841844          0.0      0      0      0      0      0  ...      0      0   \n",
       "\n",
       "          992xx  993xx  994xx  995xx  996xx  997xx  998xx  999xx  \n",
       "2115161       0      0      0      0      0      0      0      0  \n",
       "19418551      0      0      0      0      0      0      0      0  \n",
       "1425629       0      0      0      0      0      0      0      0  \n",
       "3051758       0      0      0      0      0      0      0      0  \n",
       "24841844      0      0      0      0      0      0      0      0  \n",
       "\n",
       "[5 rows x 981 columns]"
      ]
     },
     "execution_count": 77,
     "metadata": {},
     "output_type": "execute_result"
    }
   ],
   "source": [
    "combined_loans.head()"
   ]
  },
  {
   "cell_type": "markdown",
   "metadata": {},
   "source": [
    "## Step 5. Normalizing the data"
   ]
  },
  {
   "cell_type": "markdown",
   "metadata": {},
   "source": [
    "I decided to normalize the data to the same scale as magnititute and variance of the data between columns in very different. For example, Amount Requested column has a great variance while DTI has a smaller variance. Addionally, while DTI is in tens, Amount Requested is in thousands. Hence, Amount Requested can have higher impact on the outcome than DTI when DTI should have moore wight in decision."
   ]
  },
  {
   "cell_type": "code",
   "execution_count": 78,
   "metadata": {},
   "outputs": [],
   "source": [
    "#creating deepcopy before scaling all the data\n",
    "combined_loans_copy = copy.deepcopy(combined_loans)"
   ]
  },
  {
   "cell_type": "code",
   "execution_count": 79,
   "metadata": {},
   "outputs": [],
   "source": [
    "from sklearn.preprocessing import MinMaxScaler\n",
    "\n",
    "# normalize the data in the scale of 0 to 1 \n",
    "scaler = MinMaxScaler()\n",
    "column_name = list(combined_loans_copy.columns.values)\n",
    "# scaling the values in each column \n",
    "scaled = scaler.fit_transform(combined_loans_copy.values)\n",
    "combined_loans_copy = pd.DataFrame(scaled)\n",
    "combined_loans_copy.columns = column_name"
   ]
  },
  {
   "cell_type": "code",
   "execution_count": 80,
   "metadata": {},
   "outputs": [
    {
     "data": {
      "text/html": [
       "<div>\n",
       "<style scoped>\n",
       "    .dataframe tbody tr th:only-of-type {\n",
       "        vertical-align: middle;\n",
       "    }\n",
       "\n",
       "    .dataframe tbody tr th {\n",
       "        vertical-align: top;\n",
       "    }\n",
       "\n",
       "    .dataframe thead th {\n",
       "        text-align: right;\n",
       "    }\n",
       "</style>\n",
       "<table border=\"1\" class=\"dataframe\">\n",
       "  <thead>\n",
       "    <tr style=\"text-align: right;\">\n",
       "      <th></th>\n",
       "      <th>Amount Requested</th>\n",
       "      <th>Approved</th>\n",
       "      <th>Debt-To-Income Ratio</th>\n",
       "      <th>Employment Length</th>\n",
       "      <th>Policy Code</th>\n",
       "      <th>000xx</th>\n",
       "      <th>001xx</th>\n",
       "      <th>002xx</th>\n",
       "      <th>003xx</th>\n",
       "      <th>004xx</th>\n",
       "      <th>...</th>\n",
       "      <th>990xx</th>\n",
       "      <th>991xx</th>\n",
       "      <th>992xx</th>\n",
       "      <th>993xx</th>\n",
       "      <th>994xx</th>\n",
       "      <th>995xx</th>\n",
       "      <th>996xx</th>\n",
       "      <th>997xx</th>\n",
       "      <th>998xx</th>\n",
       "      <th>999xx</th>\n",
       "    </tr>\n",
       "  </thead>\n",
       "  <tbody>\n",
       "    <tr>\n",
       "      <th>0</th>\n",
       "      <td>0.050000</td>\n",
       "      <td>1.0</td>\n",
       "      <td>0.000038</td>\n",
       "      <td>0.7</td>\n",
       "      <td>0.5</td>\n",
       "      <td>0.0</td>\n",
       "      <td>0.0</td>\n",
       "      <td>0.0</td>\n",
       "      <td>0.0</td>\n",
       "      <td>0.0</td>\n",
       "      <td>...</td>\n",
       "      <td>0.0</td>\n",
       "      <td>0.0</td>\n",
       "      <td>0.0</td>\n",
       "      <td>0.0</td>\n",
       "      <td>0.0</td>\n",
       "      <td>0.0</td>\n",
       "      <td>0.0</td>\n",
       "      <td>0.0</td>\n",
       "      <td>0.0</td>\n",
       "      <td>0.0</td>\n",
       "    </tr>\n",
       "    <tr>\n",
       "      <th>1</th>\n",
       "      <td>0.026667</td>\n",
       "      <td>0.0</td>\n",
       "      <td>0.000125</td>\n",
       "      <td>0.0</td>\n",
       "      <td>0.0</td>\n",
       "      <td>0.0</td>\n",
       "      <td>0.0</td>\n",
       "      <td>0.0</td>\n",
       "      <td>0.0</td>\n",
       "      <td>0.0</td>\n",
       "      <td>...</td>\n",
       "      <td>0.0</td>\n",
       "      <td>0.0</td>\n",
       "      <td>0.0</td>\n",
       "      <td>0.0</td>\n",
       "      <td>0.0</td>\n",
       "      <td>0.0</td>\n",
       "      <td>0.0</td>\n",
       "      <td>0.0</td>\n",
       "      <td>0.0</td>\n",
       "      <td>0.0</td>\n",
       "    </tr>\n",
       "    <tr>\n",
       "      <th>2</th>\n",
       "      <td>0.024000</td>\n",
       "      <td>1.0</td>\n",
       "      <td>0.000159</td>\n",
       "      <td>0.5</td>\n",
       "      <td>0.5</td>\n",
       "      <td>0.0</td>\n",
       "      <td>0.0</td>\n",
       "      <td>0.0</td>\n",
       "      <td>0.0</td>\n",
       "      <td>0.0</td>\n",
       "      <td>...</td>\n",
       "      <td>0.0</td>\n",
       "      <td>0.0</td>\n",
       "      <td>0.0</td>\n",
       "      <td>0.0</td>\n",
       "      <td>0.0</td>\n",
       "      <td>0.0</td>\n",
       "      <td>0.0</td>\n",
       "      <td>0.0</td>\n",
       "      <td>0.0</td>\n",
       "      <td>0.0</td>\n",
       "    </tr>\n",
       "    <tr>\n",
       "      <th>3</th>\n",
       "      <td>0.092000</td>\n",
       "      <td>0.0</td>\n",
       "      <td>0.000191</td>\n",
       "      <td>0.5</td>\n",
       "      <td>0.0</td>\n",
       "      <td>0.0</td>\n",
       "      <td>0.0</td>\n",
       "      <td>0.0</td>\n",
       "      <td>0.0</td>\n",
       "      <td>0.0</td>\n",
       "      <td>...</td>\n",
       "      <td>0.0</td>\n",
       "      <td>0.0</td>\n",
       "      <td>0.0</td>\n",
       "      <td>0.0</td>\n",
       "      <td>0.0</td>\n",
       "      <td>0.0</td>\n",
       "      <td>0.0</td>\n",
       "      <td>0.0</td>\n",
       "      <td>0.0</td>\n",
       "      <td>0.0</td>\n",
       "    </tr>\n",
       "    <tr>\n",
       "      <th>4</th>\n",
       "      <td>0.050000</td>\n",
       "      <td>0.0</td>\n",
       "      <td>0.000011</td>\n",
       "      <td>0.0</td>\n",
       "      <td>0.0</td>\n",
       "      <td>0.0</td>\n",
       "      <td>0.0</td>\n",
       "      <td>0.0</td>\n",
       "      <td>0.0</td>\n",
       "      <td>0.0</td>\n",
       "      <td>...</td>\n",
       "      <td>0.0</td>\n",
       "      <td>0.0</td>\n",
       "      <td>0.0</td>\n",
       "      <td>0.0</td>\n",
       "      <td>0.0</td>\n",
       "      <td>0.0</td>\n",
       "      <td>0.0</td>\n",
       "      <td>0.0</td>\n",
       "      <td>0.0</td>\n",
       "      <td>0.0</td>\n",
       "    </tr>\n",
       "  </tbody>\n",
       "</table>\n",
       "<p>5 rows × 981 columns</p>\n",
       "</div>"
      ],
      "text/plain": [
       "   Amount Requested  Approved  Debt-To-Income Ratio  Employment Length  \\\n",
       "0          0.050000       1.0              0.000038                0.7   \n",
       "1          0.026667       0.0              0.000125                0.0   \n",
       "2          0.024000       1.0              0.000159                0.5   \n",
       "3          0.092000       0.0              0.000191                0.5   \n",
       "4          0.050000       0.0              0.000011                0.0   \n",
       "\n",
       "   Policy Code  000xx  001xx  002xx  003xx  004xx  ...  990xx  991xx  992xx  \\\n",
       "0          0.5    0.0    0.0    0.0    0.0    0.0  ...    0.0    0.0    0.0   \n",
       "1          0.0    0.0    0.0    0.0    0.0    0.0  ...    0.0    0.0    0.0   \n",
       "2          0.5    0.0    0.0    0.0    0.0    0.0  ...    0.0    0.0    0.0   \n",
       "3          0.0    0.0    0.0    0.0    0.0    0.0  ...    0.0    0.0    0.0   \n",
       "4          0.0    0.0    0.0    0.0    0.0    0.0  ...    0.0    0.0    0.0   \n",
       "\n",
       "   993xx  994xx  995xx  996xx  997xx  998xx  999xx  \n",
       "0    0.0    0.0    0.0    0.0    0.0    0.0    0.0  \n",
       "1    0.0    0.0    0.0    0.0    0.0    0.0    0.0  \n",
       "2    0.0    0.0    0.0    0.0    0.0    0.0    0.0  \n",
       "3    0.0    0.0    0.0    0.0    0.0    0.0    0.0  \n",
       "4    0.0    0.0    0.0    0.0    0.0    0.0    0.0  \n",
       "\n",
       "[5 rows x 981 columns]"
      ]
     },
     "execution_count": 80,
     "metadata": {},
     "output_type": "execute_result"
    }
   ],
   "source": [
    "combined_loans_copy.head()"
   ]
  },
  {
   "cell_type": "markdown",
   "metadata": {},
   "source": [
    "# Part 2: Modeling & Evaluation"
   ]
  },
  {
   "cell_type": "markdown",
   "metadata": {},
   "source": [
    "## Step 1. Split and train the data using Logistic Regression"
   ]
  },
  {
   "cell_type": "markdown",
   "metadata": {},
   "source": [
    "As we predict the largest amount of loan an individual can get approved, I can use a stepwise algorithm, which implements a process of determining the maximum boundary at which the loan is accepted using given parameters. For our gal, I will use initially Logistic Regression to predict if the loan is getting approved or not. \n",
    "\n",
    "Then, if the loan is approved:\n",
    "1. The stepwise algorithm will keep increasing the requested loan amount until it hits the rejection boundary;\n",
    "2. Once the rejection boundary is hit, the algorithm spits out the largest amount possible for the individual to get approved.\n",
    "\n",
    "If the loan is declined:\n",
    "1. The stepwise algorithm reduces the amount until the loan has reached the approved boundary;\n",
    "2. If the amount gets negative, the individual cannot get a loan with given parameters;\n",
    "3. Once the approval boundary is hit, the algorithm spits out the largest amount possible for the individual to get approved.\n",
    "\n",
    "Our step size should be as small as possible (or as small as it makes the most accurate predictions) for this algorithm to work. Hence, with bigger steps, the algorithm will not be accurate. I have chosen the lowest step size working with my machine, but an even smaller size can be set with a more powerful machine. "
   ]
  },
  {
   "cell_type": "markdown",
   "metadata": {},
   "source": [
    "#### 1.1 Splitting the data into training and testing data"
   ]
  },
  {
   "cell_type": "code",
   "execution_count": 81,
   "metadata": {},
   "outputs": [],
   "source": [
    "from sklearn.model_selection import train_test_split\n",
    "\n",
    "# Dividing the data into predicting and target variables \n",
    "X = combined_loans[[\"Amount Requested\", \"Debt-To-Income Ratio\", \"Employment Length\", \"Policy Code\"]+list (zip_codes.columns)]\n",
    "y = combined_loans[\"Approved\"]\n",
    "\n",
    "# Splitting the data into training and testing data\n",
    "X_train, X_test, y_train, y_test = train_test_split(X, y, test_size=0.3, random_state=123)"
   ]
  },
  {
   "cell_type": "markdown",
   "metadata": {},
   "source": [
    "#### 1.2 Training data using Logistic Regression and Cross-Validating"
   ]
  },
  {
   "cell_type": "code",
   "execution_count": 83,
   "metadata": {},
   "outputs": [],
   "source": [
    "from sklearn.linear_model import LogisticRegression\n",
    "from sklearn.linear_model import LogisticRegressionCV\n",
    "\n",
    "\n",
    "\n",
    "# Training the Logistic Regression model with 3-fold CV, \n",
    "# so best hyperparameters are chosen by the cross-validator\n",
    "# loan_acceptance_model = LogisticRegressionCV(cv=3, random_state=0).fit(X_train, y_train)\n",
    "\n",
    "\n",
    "loan_acceptance_model = LogisticRegression(random_state=0).fit(X_train, y_train)\n"
   ]
  },
  {
   "cell_type": "markdown",
   "metadata": {},
   "source": [
    "#### 1.3 Checking model accuracy on the test data"
   ]
  },
  {
   "cell_type": "code",
   "execution_count": 84,
   "metadata": {},
   "outputs": [
    {
     "name": "stdout",
     "output_type": "stream",
     "text": [
      "Accuracy score of the model on test data:  0.998\n",
      "Classification report of the model:               precision    recall  f1-score   support\n",
      "\n",
      "           0       1.00      1.00      1.00    285490\n",
      "           1       1.00      1.00      1.00    245505\n",
      "\n",
      "    accuracy                           1.00    530995\n",
      "   macro avg       1.00      1.00      1.00    530995\n",
      "weighted avg       1.00      1.00      1.00    530995\n",
      "\n"
     ]
    }
   ],
   "source": [
    "from sklearn.metrics import *\n",
    "\n",
    "logit_y_pred = loan_acceptance_model.predict(X_test)\n",
    "print(\"Accuracy score of the model on test data: \", round(accuracy_score(y_test, logit_y_pred),3))\n",
    "print (\"Classification report of the model:\", classification_report(y_test, logit_y_pred))\n",
    "\n"
   ]
  },
  {
   "cell_type": "markdown",
   "metadata": {},
   "source": [
    "## Step 2. Stepwise Algorithm to predict highest amount of eligible loan "
   ]
  },
  {
   "cell_type": "markdown",
   "metadata": {},
   "source": [
    "The model and algorithm I have used, can predict the highest amount of loan approved for borrowers from our dataset by looking up their id. Hence, we can input any id and get the max amount the individual can qualify for."
   ]
  },
  {
   "cell_type": "code",
   "execution_count": 85,
   "metadata": {},
   "outputs": [],
   "source": [
    "# Setting the step size for the algorithm\n",
    "increase_amount = 0.01\n",
    "decrease_amount = 0.01\n"
   ]
  },
  {
   "cell_type": "code",
   "execution_count": 94,
   "metadata": {},
   "outputs": [],
   "source": [
    "# Picking two random datapoints to test with\n",
    "individual_id = 3\n",
    "\n",
    "\n",
    "# Checking for the original amount requested for the applicant\n",
    "requested_amount = X_test[\"Amount Requested\"][individual_id-1:individual_id]\n"
   ]
  },
  {
   "cell_type": "code",
   "execution_count": null,
   "metadata": {},
   "outputs": [
    {
     "name": "stdout",
     "output_type": "stream",
     "text": [
      "Your currently requested amount can be potentially rejected\n"
     ]
    }
   ],
   "source": [
    "# Determining if the requested loan is approvedd or not \n",
    "# This takes  A WHILE to run\n",
    "if loan_acceptance_model.predict(X_test[individual_id-1:individual_id]) == 1:\n",
    "    \n",
    "    print (\"Your requested loan can be potentially approved\")\n",
    "    \n",
    "    # Increment the requested amount by 1 step\n",
    "    X_test[\"Amount Requested\"][individual_id-1:individual_id] = X_test[\"Amount Requested\"][individual_id-1:individual_id] + increase_amount\n",
    "    \n",
    "    current_requested_amount = X_test[\"Amount Requested\"][individual_id-1:individual_id]\n",
    "    \n",
    "    # Iterate till the requested amount gets declined\n",
    "    while loan_acceptance_model.predict(X_test[individual_id-1:individual_id]) == 1:\n",
    "        \n",
    "        # Increment the requested loan by 1 step\n",
    "        X_test[\"Amount Requested\"][individual_id-1:individual_id] = X_test[\"Amount Requested\"][individual_id-1:individual_id]  + increase_amount\n",
    "        \n",
    "        current_requested_amount = X_test[\"Amount Requested\"][individual_id-1:individual_id]\n",
    "        \n",
    "    # Showcase the output\n",
    "    print (f\"But you can increase your loan amount up to ${int((float(current_requested_amount)-increase_amount) /scaler.scale_[0])}, and get the loan potentially approved\")    \n",
    "\n",
    "else: \n",
    "    print (\"Your currently requested amount can be potentially rejected\")\n",
    "    \n",
    "    # Decrement the requested loan by 1 step\n",
    "    X_test[\"Amount Requested\"][individual_id-1:individual_id] = X_test[\"Amount Requested\"][individual_id - 1:individual_id] - decrease_amount\n",
    "    current_requested_amount = X_test[\"Amount Requested\"][individual_id-1:individual_id]\n",
    "    \n",
    "    # Iterate till the requested amount gets approved or the loan gets negative\n",
    "    while loan_acceptance_model.predict(X_test[individual_id-1:individual_id]) == 0 and float(current_requested_amount)>0:\n",
    "        # Decrement the requested loan by 1 step\n",
    "        X_test[\"Amount Requested\"][individual_id-1:individual_id] = X_test[\"Amount Requested\"][individual_id-1:individual_id]  - decrease_amount\n",
    "        current_requested_amount = X_test[\"Amount Requested\"][individual_id-1:individual_id]\n",
    "    \n",
    "    # Determine if the requested amount is still positive\n",
    "    if float(current_requested_amount)>0:    \n",
    "        print (f\"But if you decrease your requested loan amount to be ${int((float(current_requested_amount)+decrease_amount)/scaler.scale_[0])}, it can potentially get be approved\")\n",
    "\n",
    "# Assign the initial requested amount\n",
    "X_test[\"Amount Requested\"][individual_id-1:individual_id] = requested_amount\n"
   ]
  },
  {
   "cell_type": "markdown",
   "metadata": {},
   "source": [
    "# Part 3: Metrics"
   ]
  },
  {
   "cell_type": "markdown",
   "metadata": {},
   "source": [
    "To assess further the performance of my model, I have built a confusion matrix which shows the summary of prediction results of number of correct and incorrect predictions for the model. The confusion matrix further supported the high accuracy of my model. Next, I used cross-validation to check for the overfitting of the model and got similar accuracy for each run, hence, the model is most likely not overfitting. The higher number of fold ca n be run further to asses this, but it took me more than 2 hours with 5 folds.. "
   ]
  },
  {
   "cell_type": "code",
   "execution_count": 89,
   "metadata": {},
   "outputs": [
    {
     "name": "stdout",
     "output_type": "stream",
     "text": [
      "Confusion matrix, without normalization\n",
      "[[284497    993]\n",
      " [    33 245472]]\n",
      "Normalized confusion matrix\n",
      "[[9.96521770e-01 3.47823041e-03]\n",
      " [1.34416814e-04 9.99865583e-01]]\n"
     ]
    },
    {
     "data": {
      "image/png": "[encoded data removed]",
      "text/plain": [
       "<Figure size 432x288 with 2 Axes>"
      ]
     },
     "metadata": {
      "needs_background": "light"
     },
     "output_type": "display_data"
    },
    {
     "data": {
      "image/png": "[encoded data removed]",
      "text/plain": [
       "<Figure size 432x288 with 2 Axes>"
      ]
     },
     "metadata": {
      "needs_background": "light"
     },
     "output_type": "display_data"
    }
   ],
   "source": [
    "from sklearn.metrics import confusion_matrix\n",
    "from sklearn.metrics import plot_confusion_matrix\n",
    "import matplotlib.pyplot as plt\n",
    "\n",
    "titles_options = [(\"Confusion matrix, without normalization\", None),\n",
    "                  (\"Normalized confusion matrix\", 'true')]\n",
    "\n",
    "class_names = [\"Declined\", \"Approved\"]\n",
    "\n",
    "for title, normalize in titles_options:\n",
    "    disp = plot_confusion_matrix(loan_acceptance_model, X_test, y_test,\n",
    "                                 display_labels=class_names,\n",
    "                                 cmap=plt.cm.Purples,\n",
    "                                 normalize=normalize)\n",
    "    disp.ax_.set_title(title)\n",
    "\n",
    "    print(title)\n",
    "    print(disp.confusion_matrix)"
   ]
  },
  {
   "cell_type": "code",
   "execution_count": null,
   "metadata": {},
   "outputs": [],
   "source": [
    "from sklearn.model_selection import cross_validate\n",
    "\n",
    "# Showing the classification report\n",
    "y_pred = loan_acceptance_model.predict (X_test)\n",
    "print(classification_report(y_test, y_pred))\n",
    "\n",
    "# Cross-validating the model \n",
    "cv_model = cross_validate(loan_acceptance_model, X_train, y_train, cv=3)"
   ]
  },
  {
   "cell_type": "code",
   "execution_count": 92,
   "metadata": {},
   "outputs": [
    {
     "name": "stdout",
     "output_type": "stream",
     "text": [
      "Test Scores for each fold of the cross validation for our model : [0.99819853 0.99817432 0.99816705]\n"
     ]
    }
   ],
   "source": [
    "# Showing cv results \n",
    "print (\"Test Scores for each fold of the cross validation for our model :\",cv_model[\"test_score\"])\n",
    "\n"
   ]
  },
  {
   "cell_type": "code",
   "execution_count": null,
   "metadata": {},
   "outputs": [],
   "source": []
  }
 ],
 "metadata": {
  "kernelspec": {
   "display_name": "Python 3",
   "language": "python",
   "name": "python3"
  },
  "language_info": {
   "codemirror_mode": {
    "name": "ipython",
    "version": 3
   },
   "file_extension": ".py",
   "mimetype": "text/x-python",
   "name": "python",
   "nbconvert_exporter": "python",
   "pygments_lexer": "ipython3",
   "version": "3.7.3"
  }
 },
 "nbformat": 4,
 "nbformat_minor": 2
}
